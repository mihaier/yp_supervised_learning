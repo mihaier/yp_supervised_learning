{
 "cells": [
  {
   "cell_type": "markdown",
   "metadata": {
    "toc": true
   },
   "source": [
    "<h1>Содержание<span class=\"tocSkip\"></span></h1>\n",
    "<div class=\"toc\"><ul class=\"toc-item\"><li><span><a href=\"#Подготовка-данных\" data-toc-modified-id=\"Подготовка-данных-1\"><span class=\"toc-item-num\">1&nbsp;&nbsp;</span>Подготовка данных</a></span></li><li><span><a href=\"#Исследование-задачи\" data-toc-modified-id=\"Исследование-задачи-2\"><span class=\"toc-item-num\">2&nbsp;&nbsp;</span>Исследование задачи</a></span></li><li><span><a href=\"#Борьба-с-дисбалансом\" data-toc-modified-id=\"Борьба-с-дисбалансом-3\"><span class=\"toc-item-num\">3&nbsp;&nbsp;</span>Борьба с дисбалансом</a></span></li><li><span><a href=\"#Тестирование-модели\" data-toc-modified-id=\"Тестирование-модели-4\"><span class=\"toc-item-num\">4&nbsp;&nbsp;</span>Тестирование модели</a></span></li><li><span><a href=\"#Чек-лист-готовности-проекта\" data-toc-modified-id=\"Чек-лист-готовности-проекта-5\"><span class=\"toc-item-num\">5&nbsp;&nbsp;</span>Чек-лист готовности проекта</a></span></li></ul></div>"
   ]
  },
  {
   "cell_type": "markdown",
   "metadata": {},
   "source": [
    "# Отток клиентов"
   ]
  },
  {
   "cell_type": "markdown",
   "metadata": {},
   "source": [
    "Из «Бета-Банка» стали уходить клиенты. Каждый месяц. Немного, но заметно. Банковские маркетологи посчитали: сохранять текущих клиентов дешевле, чем привлекать новых.\n",
    "\n",
    "Нужно спрогнозировать, уйдёт клиент из банка в ближайшее время или нет. Вам предоставлены исторические данные о поведении клиентов и расторжении договоров с банком. \n",
    "\n",
    "Постройте модель с предельно большим значением *F1*-меры. Чтобы сдать проект успешно, нужно довести метрику до 0.59. Проверьте *F1*-меру на тестовой выборке самостоятельно.\n",
    "\n",
    "Дополнительно измеряйте *AUC-ROC*, сравнивайте её значение с *F1*-мерой.\n",
    "\n",
    "Источник данных: [https://www.kaggle.com/barelydedicated/bank-customer-churn-modeling](https://www.kaggle.com/barelydedicated/bank-customer-churn-modeling)"
   ]
  },
  {
   "cell_type": "markdown",
   "metadata": {},
   "source": [
    "## Подготовка данных"
   ]
  },
  {
   "cell_type": "code",
   "execution_count": 177,
   "metadata": {},
   "outputs": [],
   "source": [
    "import pandas as pd\n",
    "import numpy as np\n",
    "\n",
    "import matplotlib.pyplot as plt\n",
    "\n",
    "import plotly \n",
    "import plotly.express as px\n",
    "import plotly.graph_objects as go\n",
    "import plotly.io as pio\n",
    "pio.renderers.default = 'iframe'\n"
   ]
  },
  {
   "cell_type": "code",
   "execution_count": 178,
   "metadata": {},
   "outputs": [],
   "source": [
    "from sklearn.ensemble import RandomForestClassifier\n",
    "from sklearn.linear_model import LogisticRegression\n",
    "from sklearn.model_selection import train_test_split\n",
    "\n",
    "\n",
    "from sklearn.preprocessing import OneHotEncoder, StandardScaler, OrdinalEncoder\n",
    "\n",
    "from sklearn.metrics import precision_score, recall_score, precision_recall_curve, accuracy_score, confusion_matrix\n",
    "from sklearn.metrics import roc_curve, f1_score, roc_auc_score\n",
    "\n",
    "from sklearn.impute import SimpleImputer"
   ]
  },
  {
   "cell_type": "code",
   "execution_count": 179,
   "metadata": {},
   "outputs": [],
   "source": [
    "import warnings\n",
    "warnings.simplefilter('ignore')"
   ]
  },
  {
   "cell_type": "code",
   "execution_count": 180,
   "metadata": {},
   "outputs": [],
   "source": [
    "init_df = pd.read_csv('./data/Churn.csv')"
   ]
  },
  {
   "cell_type": "code",
   "execution_count": 181,
   "metadata": {},
   "outputs": [
    {
     "data": {
      "text/plain": [
       "(10000, 14)"
      ]
     },
     "execution_count": 181,
     "metadata": {},
     "output_type": "execute_result"
    }
   ],
   "source": [
    "init_df.shape"
   ]
  },
  {
   "cell_type": "code",
   "execution_count": 182,
   "metadata": {},
   "outputs": [
    {
     "data": {
      "text/html": [
       "<div>\n",
       "<style scoped>\n",
       "    .dataframe tbody tr th:only-of-type {\n",
       "        vertical-align: middle;\n",
       "    }\n",
       "\n",
       "    .dataframe tbody tr th {\n",
       "        vertical-align: top;\n",
       "    }\n",
       "\n",
       "    .dataframe thead th {\n",
       "        text-align: right;\n",
       "    }\n",
       "</style>\n",
       "<table border=\"1\" class=\"dataframe\">\n",
       "  <thead>\n",
       "    <tr style=\"text-align: right;\">\n",
       "      <th></th>\n",
       "      <th>RowNumber</th>\n",
       "      <th>CustomerId</th>\n",
       "      <th>Surname</th>\n",
       "      <th>CreditScore</th>\n",
       "      <th>Geography</th>\n",
       "      <th>Gender</th>\n",
       "      <th>Age</th>\n",
       "      <th>Tenure</th>\n",
       "      <th>Balance</th>\n",
       "      <th>NumOfProducts</th>\n",
       "      <th>HasCrCard</th>\n",
       "      <th>IsActiveMember</th>\n",
       "      <th>EstimatedSalary</th>\n",
       "      <th>Exited</th>\n",
       "    </tr>\n",
       "  </thead>\n",
       "  <tbody>\n",
       "    <tr>\n",
       "      <th>0</th>\n",
       "      <td>1</td>\n",
       "      <td>15634602</td>\n",
       "      <td>Hargrave</td>\n",
       "      <td>619</td>\n",
       "      <td>France</td>\n",
       "      <td>Female</td>\n",
       "      <td>42</td>\n",
       "      <td>2.0</td>\n",
       "      <td>0.00</td>\n",
       "      <td>1</td>\n",
       "      <td>1</td>\n",
       "      <td>1</td>\n",
       "      <td>101348.88</td>\n",
       "      <td>1</td>\n",
       "    </tr>\n",
       "    <tr>\n",
       "      <th>1</th>\n",
       "      <td>2</td>\n",
       "      <td>15647311</td>\n",
       "      <td>Hill</td>\n",
       "      <td>608</td>\n",
       "      <td>Spain</td>\n",
       "      <td>Female</td>\n",
       "      <td>41</td>\n",
       "      <td>1.0</td>\n",
       "      <td>83807.86</td>\n",
       "      <td>1</td>\n",
       "      <td>0</td>\n",
       "      <td>1</td>\n",
       "      <td>112542.58</td>\n",
       "      <td>0</td>\n",
       "    </tr>\n",
       "    <tr>\n",
       "      <th>2</th>\n",
       "      <td>3</td>\n",
       "      <td>15619304</td>\n",
       "      <td>Onio</td>\n",
       "      <td>502</td>\n",
       "      <td>France</td>\n",
       "      <td>Female</td>\n",
       "      <td>42</td>\n",
       "      <td>8.0</td>\n",
       "      <td>159660.80</td>\n",
       "      <td>3</td>\n",
       "      <td>1</td>\n",
       "      <td>0</td>\n",
       "      <td>113931.57</td>\n",
       "      <td>1</td>\n",
       "    </tr>\n",
       "    <tr>\n",
       "      <th>3</th>\n",
       "      <td>4</td>\n",
       "      <td>15701354</td>\n",
       "      <td>Boni</td>\n",
       "      <td>699</td>\n",
       "      <td>France</td>\n",
       "      <td>Female</td>\n",
       "      <td>39</td>\n",
       "      <td>1.0</td>\n",
       "      <td>0.00</td>\n",
       "      <td>2</td>\n",
       "      <td>0</td>\n",
       "      <td>0</td>\n",
       "      <td>93826.63</td>\n",
       "      <td>0</td>\n",
       "    </tr>\n",
       "    <tr>\n",
       "      <th>4</th>\n",
       "      <td>5</td>\n",
       "      <td>15737888</td>\n",
       "      <td>Mitchell</td>\n",
       "      <td>850</td>\n",
       "      <td>Spain</td>\n",
       "      <td>Female</td>\n",
       "      <td>43</td>\n",
       "      <td>2.0</td>\n",
       "      <td>125510.82</td>\n",
       "      <td>1</td>\n",
       "      <td>1</td>\n",
       "      <td>1</td>\n",
       "      <td>79084.10</td>\n",
       "      <td>0</td>\n",
       "    </tr>\n",
       "    <tr>\n",
       "      <th>5</th>\n",
       "      <td>6</td>\n",
       "      <td>15574012</td>\n",
       "      <td>Chu</td>\n",
       "      <td>645</td>\n",
       "      <td>Spain</td>\n",
       "      <td>Male</td>\n",
       "      <td>44</td>\n",
       "      <td>8.0</td>\n",
       "      <td>113755.78</td>\n",
       "      <td>2</td>\n",
       "      <td>1</td>\n",
       "      <td>0</td>\n",
       "      <td>149756.71</td>\n",
       "      <td>1</td>\n",
       "    </tr>\n",
       "    <tr>\n",
       "      <th>6</th>\n",
       "      <td>7</td>\n",
       "      <td>15592531</td>\n",
       "      <td>Bartlett</td>\n",
       "      <td>822</td>\n",
       "      <td>France</td>\n",
       "      <td>Male</td>\n",
       "      <td>50</td>\n",
       "      <td>7.0</td>\n",
       "      <td>0.00</td>\n",
       "      <td>2</td>\n",
       "      <td>1</td>\n",
       "      <td>1</td>\n",
       "      <td>10062.80</td>\n",
       "      <td>0</td>\n",
       "    </tr>\n",
       "    <tr>\n",
       "      <th>7</th>\n",
       "      <td>8</td>\n",
       "      <td>15656148</td>\n",
       "      <td>Obinna</td>\n",
       "      <td>376</td>\n",
       "      <td>Germany</td>\n",
       "      <td>Female</td>\n",
       "      <td>29</td>\n",
       "      <td>4.0</td>\n",
       "      <td>115046.74</td>\n",
       "      <td>4</td>\n",
       "      <td>1</td>\n",
       "      <td>0</td>\n",
       "      <td>119346.88</td>\n",
       "      <td>1</td>\n",
       "    </tr>\n",
       "    <tr>\n",
       "      <th>8</th>\n",
       "      <td>9</td>\n",
       "      <td>15792365</td>\n",
       "      <td>He</td>\n",
       "      <td>501</td>\n",
       "      <td>France</td>\n",
       "      <td>Male</td>\n",
       "      <td>44</td>\n",
       "      <td>4.0</td>\n",
       "      <td>142051.07</td>\n",
       "      <td>2</td>\n",
       "      <td>0</td>\n",
       "      <td>1</td>\n",
       "      <td>74940.50</td>\n",
       "      <td>0</td>\n",
       "    </tr>\n",
       "    <tr>\n",
       "      <th>9</th>\n",
       "      <td>10</td>\n",
       "      <td>15592389</td>\n",
       "      <td>H?</td>\n",
       "      <td>684</td>\n",
       "      <td>France</td>\n",
       "      <td>Male</td>\n",
       "      <td>27</td>\n",
       "      <td>2.0</td>\n",
       "      <td>134603.88</td>\n",
       "      <td>1</td>\n",
       "      <td>1</td>\n",
       "      <td>1</td>\n",
       "      <td>71725.73</td>\n",
       "      <td>0</td>\n",
       "    </tr>\n",
       "  </tbody>\n",
       "</table>\n",
       "</div>"
      ],
      "text/plain": [
       "   RowNumber  CustomerId   Surname  CreditScore Geography  Gender  Age  \\\n",
       "0          1    15634602  Hargrave          619    France  Female   42   \n",
       "1          2    15647311      Hill          608     Spain  Female   41   \n",
       "2          3    15619304      Onio          502    France  Female   42   \n",
       "3          4    15701354      Boni          699    France  Female   39   \n",
       "4          5    15737888  Mitchell          850     Spain  Female   43   \n",
       "5          6    15574012       Chu          645     Spain    Male   44   \n",
       "6          7    15592531  Bartlett          822    France    Male   50   \n",
       "7          8    15656148    Obinna          376   Germany  Female   29   \n",
       "8          9    15792365        He          501    France    Male   44   \n",
       "9         10    15592389        H?          684    France    Male   27   \n",
       "\n",
       "   Tenure    Balance  NumOfProducts  HasCrCard  IsActiveMember  \\\n",
       "0     2.0       0.00              1          1               1   \n",
       "1     1.0   83807.86              1          0               1   \n",
       "2     8.0  159660.80              3          1               0   \n",
       "3     1.0       0.00              2          0               0   \n",
       "4     2.0  125510.82              1          1               1   \n",
       "5     8.0  113755.78              2          1               0   \n",
       "6     7.0       0.00              2          1               1   \n",
       "7     4.0  115046.74              4          1               0   \n",
       "8     4.0  142051.07              2          0               1   \n",
       "9     2.0  134603.88              1          1               1   \n",
       "\n",
       "   EstimatedSalary  Exited  \n",
       "0        101348.88       1  \n",
       "1        112542.58       0  \n",
       "2        113931.57       1  \n",
       "3         93826.63       0  \n",
       "4         79084.10       0  \n",
       "5        149756.71       1  \n",
       "6         10062.80       0  \n",
       "7        119346.88       1  \n",
       "8         74940.50       0  \n",
       "9         71725.73       0  "
      ]
     },
     "execution_count": 182,
     "metadata": {},
     "output_type": "execute_result"
    }
   ],
   "source": [
    "init_df.head(10)"
   ]
  },
  {
   "cell_type": "code",
   "execution_count": 183,
   "metadata": {},
   "outputs": [
    {
     "name": "stdout",
     "output_type": "stream",
     "text": [
      "<class 'pandas.core.frame.DataFrame'>\n",
      "RangeIndex: 10000 entries, 0 to 9999\n",
      "Data columns (total 14 columns):\n",
      " #   Column           Non-Null Count  Dtype  \n",
      "---  ------           --------------  -----  \n",
      " 0   RowNumber        10000 non-null  int64  \n",
      " 1   CustomerId       10000 non-null  int64  \n",
      " 2   Surname          10000 non-null  object \n",
      " 3   CreditScore      10000 non-null  int64  \n",
      " 4   Geography        10000 non-null  object \n",
      " 5   Gender           10000 non-null  object \n",
      " 6   Age              10000 non-null  int64  \n",
      " 7   Tenure           9091 non-null   float64\n",
      " 8   Balance          10000 non-null  float64\n",
      " 9   NumOfProducts    10000 non-null  int64  \n",
      " 10  HasCrCard        10000 non-null  int64  \n",
      " 11  IsActiveMember   10000 non-null  int64  \n",
      " 12  EstimatedSalary  10000 non-null  float64\n",
      " 13  Exited           10000 non-null  int64  \n",
      "dtypes: float64(3), int64(8), object(3)\n",
      "memory usage: 1.1+ MB\n"
     ]
    }
   ],
   "source": [
    "init_df.info()"
   ]
  },
  {
   "cell_type": "markdown",
   "metadata": {},
   "source": [
    "**Сначала посмотрим поближе на данные, пройдемся по всем колонкам, почистим мусор, приведем типы к нужным**"
   ]
  },
  {
   "cell_type": "markdown",
   "metadata": {},
   "source": [
    "**приведем к нормальному snake case названия колонок в датасете**"
   ]
  },
  {
   "cell_type": "code",
   "execution_count": 184,
   "metadata": {},
   "outputs": [],
   "source": [
    "init_df.columns = init_df.columns.str.lower()"
   ]
  },
  {
   "cell_type": "code",
   "execution_count": 185,
   "metadata": {},
   "outputs": [
    {
     "data": {
      "text/plain": [
       "Index(['rownumber', 'customerid', 'surname', 'creditscore', 'geography',\n",
       "       'gender', 'age', 'tenure', 'balance', 'numofproducts', 'hascrcard',\n",
       "       'isactivemember', 'estimatedsalary', 'exited'],\n",
       "      dtype='object')"
      ]
     },
     "execution_count": 185,
     "metadata": {},
     "output_type": "execute_result"
    }
   ],
   "source": [
    "init_df.columns"
   ]
  },
  {
   "cell_type": "code",
   "execution_count": 186,
   "metadata": {},
   "outputs": [],
   "source": [
    "init_df.rename(columns={'customerid':'customer_id',\n",
    "                        'creditscore':'credit_score',\n",
    "                        'numofproducts':'num_of_products',\n",
    "                        'hascrcard':'has_crcard',\n",
    "                        'isactivemember':'is_active',\n",
    "                        'estimatedsalary':'est_salary'}, inplace=True)"
   ]
  },
  {
   "cell_type": "markdown",
   "metadata": {},
   "source": [
    "**Посмотрим на колонку customer_id**"
   ]
  },
  {
   "cell_type": "code",
   "execution_count": 187,
   "metadata": {},
   "outputs": [
    {
     "data": {
      "text/plain": [
       "0"
      ]
     },
     "execution_count": 187,
     "metadata": {},
     "output_type": "execute_result"
    }
   ],
   "source": [
    "init_df['customer_id'].duplicated().sum()"
   ]
  },
  {
   "cell_type": "markdown",
   "metadata": {},
   "source": [
    "**дублей нет, окей. int нам тут не нужен, приведем к строке**"
   ]
  },
  {
   "cell_type": "code",
   "execution_count": 188,
   "metadata": {},
   "outputs": [],
   "source": [
    "init_df['customer_id'] = init_df['customer_id'].astype('str')"
   ]
  },
  {
   "cell_type": "code",
   "execution_count": 189,
   "metadata": {},
   "outputs": [
    {
     "data": {
      "text/html": [
       "<div>\n",
       "<style scoped>\n",
       "    .dataframe tbody tr th:only-of-type {\n",
       "        vertical-align: middle;\n",
       "    }\n",
       "\n",
       "    .dataframe tbody tr th {\n",
       "        vertical-align: top;\n",
       "    }\n",
       "\n",
       "    .dataframe thead th {\n",
       "        text-align: right;\n",
       "    }\n",
       "</style>\n",
       "<table border=\"1\" class=\"dataframe\">\n",
       "  <thead>\n",
       "    <tr style=\"text-align: right;\">\n",
       "      <th></th>\n",
       "      <th>rownumber</th>\n",
       "      <th>customer_id</th>\n",
       "      <th>surname</th>\n",
       "      <th>credit_score</th>\n",
       "      <th>geography</th>\n",
       "      <th>gender</th>\n",
       "      <th>age</th>\n",
       "      <th>tenure</th>\n",
       "      <th>balance</th>\n",
       "      <th>num_of_products</th>\n",
       "      <th>has_crcard</th>\n",
       "      <th>is_active</th>\n",
       "      <th>est_salary</th>\n",
       "      <th>exited</th>\n",
       "    </tr>\n",
       "  </thead>\n",
       "  <tbody>\n",
       "    <tr>\n",
       "      <th>0</th>\n",
       "      <td>1</td>\n",
       "      <td>15634602</td>\n",
       "      <td>Hargrave</td>\n",
       "      <td>619</td>\n",
       "      <td>France</td>\n",
       "      <td>Female</td>\n",
       "      <td>42</td>\n",
       "      <td>2.0</td>\n",
       "      <td>0.0</td>\n",
       "      <td>1</td>\n",
       "      <td>1</td>\n",
       "      <td>1</td>\n",
       "      <td>101348.88</td>\n",
       "      <td>1</td>\n",
       "    </tr>\n",
       "  </tbody>\n",
       "</table>\n",
       "</div>"
      ],
      "text/plain": [
       "   rownumber customer_id   surname  credit_score geography  gender  age  \\\n",
       "0          1    15634602  Hargrave           619    France  Female   42   \n",
       "\n",
       "   tenure  balance  num_of_products  has_crcard  is_active  est_salary  exited  \n",
       "0     2.0      0.0                1           1          1   101348.88       1  "
      ]
     },
     "execution_count": 189,
     "metadata": {},
     "output_type": "execute_result"
    }
   ],
   "source": [
    "init_df.head(1)"
   ]
  },
  {
   "cell_type": "markdown",
   "metadata": {},
   "source": [
    "**перейдем к колонке 'init_df'**"
   ]
  },
  {
   "cell_type": "code",
   "execution_count": 190,
   "metadata": {},
   "outputs": [
    {
     "data": {
      "text/plain": [
       "dtype('int64')"
      ]
     },
     "execution_count": 190,
     "metadata": {},
     "output_type": "execute_result"
    }
   ],
   "source": [
    "init_df['credit_score'].dtype"
   ]
  },
  {
   "cell_type": "code",
   "execution_count": 191,
   "metadata": {},
   "outputs": [
    {
     "data": {
      "text/plain": [
       "<AxesSubplot:ylabel='Frequency'>"
      ]
     },
     "execution_count": 191,
     "metadata": {},
     "output_type": "execute_result"
    },
    {
     "data": {
      "image/png": "[encoded data removed]",
      "text/plain": [
       "<Figure size 432x288 with 1 Axes>"
      ]
     },
     "metadata": {
      "needs_background": "light"
     },
     "output_type": "display_data"
    }
   ],
   "source": [
    "init_df['credit_score'].plot(kind='hist')"
   ]
  },
  {
   "cell_type": "code",
   "execution_count": 192,
   "metadata": {},
   "outputs": [
    {
     "data": {
      "text/plain": [
       "<AxesSubplot:>"
      ]
     },
     "execution_count": 192,
     "metadata": {},
     "output_type": "execute_result"
    },
    {
     "data": {
      "image/png": "[encoded data removed]",
      "text/plain": [
       "<Figure size 432x288 with 1 Axes>"
      ]
     },
     "metadata": {
      "needs_background": "light"
     },
     "output_type": "display_data"
    }
   ],
   "source": [
    "init_df['credit_score'].plot(kind='box')"
   ]
  },
  {
   "cell_type": "code",
   "execution_count": 193,
   "metadata": {},
   "outputs": [
    {
     "data": {
      "text/plain": [
       "650.5288"
      ]
     },
     "execution_count": 193,
     "metadata": {},
     "output_type": "execute_result"
    }
   ],
   "source": [
    "init_df['credit_score'].mean()"
   ]
  },
  {
   "cell_type": "code",
   "execution_count": 194,
   "metadata": {},
   "outputs": [
    {
     "data": {
      "text/plain": [
       "652.0"
      ]
     },
     "execution_count": 194,
     "metadata": {},
     "output_type": "execute_result"
    }
   ],
   "source": [
    "init_df['credit_score'].median()"
   ]
  },
  {
   "cell_type": "code",
   "execution_count": 195,
   "metadata": {},
   "outputs": [
    {
     "data": {
      "text/html": [
       "<div>\n",
       "<style scoped>\n",
       "    .dataframe tbody tr th:only-of-type {\n",
       "        vertical-align: middle;\n",
       "    }\n",
       "\n",
       "    .dataframe tbody tr th {\n",
       "        vertical-align: top;\n",
       "    }\n",
       "\n",
       "    .dataframe thead th {\n",
       "        text-align: right;\n",
       "    }\n",
       "</style>\n",
       "<table border=\"1\" class=\"dataframe\">\n",
       "  <thead>\n",
       "    <tr style=\"text-align: right;\">\n",
       "      <th></th>\n",
       "      <th>rownumber</th>\n",
       "      <th>customer_id</th>\n",
       "      <th>surname</th>\n",
       "      <th>credit_score</th>\n",
       "      <th>geography</th>\n",
       "      <th>gender</th>\n",
       "      <th>age</th>\n",
       "      <th>tenure</th>\n",
       "      <th>balance</th>\n",
       "      <th>num_of_products</th>\n",
       "      <th>has_crcard</th>\n",
       "      <th>is_active</th>\n",
       "      <th>est_salary</th>\n",
       "      <th>exited</th>\n",
       "    </tr>\n",
       "  </thead>\n",
       "  <tbody>\n",
       "    <tr>\n",
       "      <th>0</th>\n",
       "      <td>1</td>\n",
       "      <td>15634602</td>\n",
       "      <td>Hargrave</td>\n",
       "      <td>619</td>\n",
       "      <td>France</td>\n",
       "      <td>Female</td>\n",
       "      <td>42</td>\n",
       "      <td>2.0</td>\n",
       "      <td>0.00</td>\n",
       "      <td>1</td>\n",
       "      <td>1</td>\n",
       "      <td>1</td>\n",
       "      <td>101348.88</td>\n",
       "      <td>1</td>\n",
       "    </tr>\n",
       "    <tr>\n",
       "      <th>1</th>\n",
       "      <td>2</td>\n",
       "      <td>15647311</td>\n",
       "      <td>Hill</td>\n",
       "      <td>608</td>\n",
       "      <td>Spain</td>\n",
       "      <td>Female</td>\n",
       "      <td>41</td>\n",
       "      <td>1.0</td>\n",
       "      <td>83807.86</td>\n",
       "      <td>1</td>\n",
       "      <td>0</td>\n",
       "      <td>1</td>\n",
       "      <td>112542.58</td>\n",
       "      <td>0</td>\n",
       "    </tr>\n",
       "    <tr>\n",
       "      <th>2</th>\n",
       "      <td>3</td>\n",
       "      <td>15619304</td>\n",
       "      <td>Onio</td>\n",
       "      <td>502</td>\n",
       "      <td>France</td>\n",
       "      <td>Female</td>\n",
       "      <td>42</td>\n",
       "      <td>8.0</td>\n",
       "      <td>159660.80</td>\n",
       "      <td>3</td>\n",
       "      <td>1</td>\n",
       "      <td>0</td>\n",
       "      <td>113931.57</td>\n",
       "      <td>1</td>\n",
       "    </tr>\n",
       "    <tr>\n",
       "      <th>3</th>\n",
       "      <td>4</td>\n",
       "      <td>15701354</td>\n",
       "      <td>Boni</td>\n",
       "      <td>699</td>\n",
       "      <td>France</td>\n",
       "      <td>Female</td>\n",
       "      <td>39</td>\n",
       "      <td>1.0</td>\n",
       "      <td>0.00</td>\n",
       "      <td>2</td>\n",
       "      <td>0</td>\n",
       "      <td>0</td>\n",
       "      <td>93826.63</td>\n",
       "      <td>0</td>\n",
       "    </tr>\n",
       "    <tr>\n",
       "      <th>4</th>\n",
       "      <td>5</td>\n",
       "      <td>15737888</td>\n",
       "      <td>Mitchell</td>\n",
       "      <td>850</td>\n",
       "      <td>Spain</td>\n",
       "      <td>Female</td>\n",
       "      <td>43</td>\n",
       "      <td>2.0</td>\n",
       "      <td>125510.82</td>\n",
       "      <td>1</td>\n",
       "      <td>1</td>\n",
       "      <td>1</td>\n",
       "      <td>79084.10</td>\n",
       "      <td>0</td>\n",
       "    </tr>\n",
       "  </tbody>\n",
       "</table>\n",
       "</div>"
      ],
      "text/plain": [
       "   rownumber customer_id   surname  credit_score geography  gender  age  \\\n",
       "0          1    15634602  Hargrave           619    France  Female   42   \n",
       "1          2    15647311      Hill           608     Spain  Female   41   \n",
       "2          3    15619304      Onio           502    France  Female   42   \n",
       "3          4    15701354      Boni           699    France  Female   39   \n",
       "4          5    15737888  Mitchell           850     Spain  Female   43   \n",
       "\n",
       "   tenure    balance  num_of_products  has_crcard  is_active  est_salary  \\\n",
       "0     2.0       0.00                1           1          1   101348.88   \n",
       "1     1.0   83807.86                1           0          1   112542.58   \n",
       "2     8.0  159660.80                3           1          0   113931.57   \n",
       "3     1.0       0.00                2           0          0    93826.63   \n",
       "4     2.0  125510.82                1           1          1    79084.10   \n",
       "\n",
       "   exited  \n",
       "0       1  \n",
       "1       0  \n",
       "2       1  \n",
       "3       0  \n",
       "4       0  "
      ]
     },
     "execution_count": 195,
     "metadata": {},
     "output_type": "execute_result"
    }
   ],
   "source": [
    "init_df.head()"
   ]
  },
  {
   "cell_type": "code",
   "execution_count": null,
   "metadata": {},
   "outputs": [],
   "source": []
  },
  {
   "cell_type": "markdown",
   "metadata": {},
   "source": [
    "**Тут у нас в целом нормально распределенный признак, с небольшим количеством выбросов в левой части,\n",
    "средняя и медианы фактически совпадают, все значения целочисленные, пока ничего делать дополнительно с этим признаком не будем**"
   ]
  },
  {
   "cell_type": "markdown",
   "metadata": {},
   "source": [
    "**Посмотрим на колонку geography**"
   ]
  },
  {
   "cell_type": "code",
   "execution_count": 196,
   "metadata": {},
   "outputs": [
    {
     "data": {
      "text/plain": [
       "3"
      ]
     },
     "execution_count": 196,
     "metadata": {},
     "output_type": "execute_result"
    }
   ],
   "source": [
    "init_df['geography'].nunique()"
   ]
  },
  {
   "cell_type": "code",
   "execution_count": 197,
   "metadata": {},
   "outputs": [
    {
     "data": {
      "text/plain": [
       "array(['France', 'Spain', 'Germany'], dtype=object)"
      ]
     },
     "execution_count": 197,
     "metadata": {},
     "output_type": "execute_result"
    }
   ],
   "source": [
    "init_df['geography'].unique()"
   ]
  },
  {
   "cell_type": "markdown",
   "metadata": {},
   "source": [
    "**всего 3 уникальных значения этого признака**"
   ]
  },
  {
   "cell_type": "markdown",
   "metadata": {},
   "source": [
    "**также приведем в порядок gender**"
   ]
  },
  {
   "cell_type": "code",
   "execution_count": 198,
   "metadata": {},
   "outputs": [
    {
     "data": {
      "text/plain": [
       "Male      5457\n",
       "Female    4543\n",
       "Name: gender, dtype: int64"
      ]
     },
     "execution_count": 198,
     "metadata": {},
     "output_type": "execute_result"
    }
   ],
   "source": [
    "init_df['gender'].value_counts()"
   ]
  },
  {
   "cell_type": "code",
   "execution_count": 199,
   "metadata": {},
   "outputs": [
    {
     "data": {
      "text/plain": [
       "Male      5457\n",
       "Female    4543\n",
       "Name: gender, dtype: int64"
      ]
     },
     "execution_count": 199,
     "metadata": {},
     "output_type": "execute_result"
    }
   ],
   "source": [
    "init_df['gender'].value_counts()"
   ]
  },
  {
   "cell_type": "markdown",
   "metadata": {},
   "source": [
    "**there are only two genders**"
   ]
  },
  {
   "cell_type": "code",
   "execution_count": 200,
   "metadata": {},
   "outputs": [],
   "source": [
    "init_df['gender'] = init_df['gender'].replace('Male','m')\n",
    "init_df['gender'] = init_df['gender'].replace('Female','f')"
   ]
  },
  {
   "cell_type": "code",
   "execution_count": 201,
   "metadata": {},
   "outputs": [],
   "source": [
    "init_df['gender'] = init_df['gender'].astype('category')"
   ]
  },
  {
   "cell_type": "code",
   "execution_count": 202,
   "metadata": {},
   "outputs": [
    {
     "data": {
      "text/plain": [
       "m    5457\n",
       "f    4543\n",
       "Name: gender, dtype: int64"
      ]
     },
     "execution_count": 202,
     "metadata": {},
     "output_type": "execute_result"
    }
   ],
   "source": [
    "init_df['gender'].value_counts()"
   ]
  },
  {
   "cell_type": "markdown",
   "metadata": {},
   "source": [
    "**колонка age**"
   ]
  },
  {
   "cell_type": "code",
   "execution_count": 203,
   "metadata": {},
   "outputs": [
    {
     "data": {
      "text/plain": [
       "<AxesSubplot:ylabel='Frequency'>"
      ]
     },
     "execution_count": 203,
     "metadata": {},
     "output_type": "execute_result"
    },
    {
     "data": {
      "image/png": "[encoded data removed]",
      "text/plain": [
       "<Figure size 432x288 with 1 Axes>"
      ]
     },
     "metadata": {
      "needs_background": "light"
     },
     "output_type": "display_data"
    }
   ],
   "source": [
    "init_df['age'].plot(kind='hist')"
   ]
  },
  {
   "cell_type": "code",
   "execution_count": 204,
   "metadata": {},
   "outputs": [
    {
     "data": {
      "text/plain": [
       "18"
      ]
     },
     "execution_count": 204,
     "metadata": {},
     "output_type": "execute_result"
    }
   ],
   "source": [
    "init_df['age'].min()"
   ]
  },
  {
   "cell_type": "code",
   "execution_count": 205,
   "metadata": {},
   "outputs": [
    {
     "data": {
      "text/plain": [
       "92"
      ]
     },
     "execution_count": 205,
     "metadata": {},
     "output_type": "execute_result"
    }
   ],
   "source": [
    "init_df['age'].max()"
   ]
  },
  {
   "cell_type": "code",
   "execution_count": null,
   "metadata": {},
   "outputs": [],
   "source": []
  },
  {
   "cell_type": "markdown",
   "metadata": {},
   "source": [
    "**в целом распределение возрастов похоже на нормальное, сдвинуто вправо, что логично - в базе только клиенты от 18 лет**"
   ]
  },
  {
   "cell_type": "code",
   "execution_count": 206,
   "metadata": {},
   "outputs": [
    {
     "data": {
      "text/plain": [
       "<AxesSubplot:>"
      ]
     },
     "execution_count": 206,
     "metadata": {},
     "output_type": "execute_result"
    },
    {
     "data": {
      "image/png": "[encoded data removed]",
      "text/plain": [
       "<Figure size 432x288 with 1 Axes>"
      ]
     },
     "metadata": {
      "needs_background": "light"
     },
     "output_type": "display_data"
    }
   ],
   "source": [
    "init_df['age'].plot(kind='box')\n"
   ]
  },
  {
   "cell_type": "markdown",
   "metadata": {},
   "source": [
    "**на boxplot видим немало выбросов пользователей 65+ лет**"
   ]
  },
  {
   "cell_type": "code",
   "execution_count": 207,
   "metadata": {},
   "outputs": [
    {
     "data": {
      "text/html": [
       "<div>\n",
       "<style scoped>\n",
       "    .dataframe tbody tr th:only-of-type {\n",
       "        vertical-align: middle;\n",
       "    }\n",
       "\n",
       "    .dataframe tbody tr th {\n",
       "        vertical-align: top;\n",
       "    }\n",
       "\n",
       "    .dataframe thead th {\n",
       "        text-align: right;\n",
       "    }\n",
       "</style>\n",
       "<table border=\"1\" class=\"dataframe\">\n",
       "  <thead>\n",
       "    <tr style=\"text-align: right;\">\n",
       "      <th></th>\n",
       "      <th>rownumber</th>\n",
       "      <th>customer_id</th>\n",
       "      <th>surname</th>\n",
       "      <th>credit_score</th>\n",
       "      <th>geography</th>\n",
       "      <th>gender</th>\n",
       "      <th>age</th>\n",
       "      <th>tenure</th>\n",
       "      <th>balance</th>\n",
       "      <th>num_of_products</th>\n",
       "      <th>has_crcard</th>\n",
       "      <th>is_active</th>\n",
       "      <th>est_salary</th>\n",
       "      <th>exited</th>\n",
       "    </tr>\n",
       "  </thead>\n",
       "  <tbody>\n",
       "    <tr>\n",
       "      <th>0</th>\n",
       "      <td>1</td>\n",
       "      <td>15634602</td>\n",
       "      <td>Hargrave</td>\n",
       "      <td>619</td>\n",
       "      <td>France</td>\n",
       "      <td>f</td>\n",
       "      <td>42</td>\n",
       "      <td>2.0</td>\n",
       "      <td>0.00</td>\n",
       "      <td>1</td>\n",
       "      <td>1</td>\n",
       "      <td>1</td>\n",
       "      <td>101348.88</td>\n",
       "      <td>1</td>\n",
       "    </tr>\n",
       "    <tr>\n",
       "      <th>1</th>\n",
       "      <td>2</td>\n",
       "      <td>15647311</td>\n",
       "      <td>Hill</td>\n",
       "      <td>608</td>\n",
       "      <td>Spain</td>\n",
       "      <td>f</td>\n",
       "      <td>41</td>\n",
       "      <td>1.0</td>\n",
       "      <td>83807.86</td>\n",
       "      <td>1</td>\n",
       "      <td>0</td>\n",
       "      <td>1</td>\n",
       "      <td>112542.58</td>\n",
       "      <td>0</td>\n",
       "    </tr>\n",
       "    <tr>\n",
       "      <th>2</th>\n",
       "      <td>3</td>\n",
       "      <td>15619304</td>\n",
       "      <td>Onio</td>\n",
       "      <td>502</td>\n",
       "      <td>France</td>\n",
       "      <td>f</td>\n",
       "      <td>42</td>\n",
       "      <td>8.0</td>\n",
       "      <td>159660.80</td>\n",
       "      <td>3</td>\n",
       "      <td>1</td>\n",
       "      <td>0</td>\n",
       "      <td>113931.57</td>\n",
       "      <td>1</td>\n",
       "    </tr>\n",
       "    <tr>\n",
       "      <th>3</th>\n",
       "      <td>4</td>\n",
       "      <td>15701354</td>\n",
       "      <td>Boni</td>\n",
       "      <td>699</td>\n",
       "      <td>France</td>\n",
       "      <td>f</td>\n",
       "      <td>39</td>\n",
       "      <td>1.0</td>\n",
       "      <td>0.00</td>\n",
       "      <td>2</td>\n",
       "      <td>0</td>\n",
       "      <td>0</td>\n",
       "      <td>93826.63</td>\n",
       "      <td>0</td>\n",
       "    </tr>\n",
       "    <tr>\n",
       "      <th>4</th>\n",
       "      <td>5</td>\n",
       "      <td>15737888</td>\n",
       "      <td>Mitchell</td>\n",
       "      <td>850</td>\n",
       "      <td>Spain</td>\n",
       "      <td>f</td>\n",
       "      <td>43</td>\n",
       "      <td>2.0</td>\n",
       "      <td>125510.82</td>\n",
       "      <td>1</td>\n",
       "      <td>1</td>\n",
       "      <td>1</td>\n",
       "      <td>79084.10</td>\n",
       "      <td>0</td>\n",
       "    </tr>\n",
       "  </tbody>\n",
       "</table>\n",
       "</div>"
      ],
      "text/plain": [
       "   rownumber customer_id   surname  credit_score geography gender  age  \\\n",
       "0          1    15634602  Hargrave           619    France      f   42   \n",
       "1          2    15647311      Hill           608     Spain      f   41   \n",
       "2          3    15619304      Onio           502    France      f   42   \n",
       "3          4    15701354      Boni           699    France      f   39   \n",
       "4          5    15737888  Mitchell           850     Spain      f   43   \n",
       "\n",
       "   tenure    balance  num_of_products  has_crcard  is_active  est_salary  \\\n",
       "0     2.0       0.00                1           1          1   101348.88   \n",
       "1     1.0   83807.86                1           0          1   112542.58   \n",
       "2     8.0  159660.80                3           1          0   113931.57   \n",
       "3     1.0       0.00                2           0          0    93826.63   \n",
       "4     2.0  125510.82                1           1          1    79084.10   \n",
       "\n",
       "   exited  \n",
       "0       1  \n",
       "1       0  \n",
       "2       1  \n",
       "3       0  \n",
       "4       0  "
      ]
     },
     "execution_count": 207,
     "metadata": {},
     "output_type": "execute_result"
    }
   ],
   "source": [
    "init_df.head()"
   ]
  },
  {
   "cell_type": "code",
   "execution_count": 208,
   "metadata": {},
   "outputs": [
    {
     "data": {
      "text/plain": [
       "<AxesSubplot:ylabel='Frequency'>"
      ]
     },
     "execution_count": 208,
     "metadata": {},
     "output_type": "execute_result"
    },
    {
     "data": {
      "image/png": "[encoded data removed]",
      "text/plain": [
       "<Figure size 432x288 with 1 Axes>"
      ]
     },
     "metadata": {
      "needs_background": "light"
     },
     "output_type": "display_data"
    }
   ],
   "source": [
    "init_df['tenure'].plot(kind='hist')"
   ]
  },
  {
   "cell_type": "markdown",
   "metadata": {},
   "source": [
    "**tenure - собственность, распределение в целом равномерное, кроме краевых значений - 10 встречается чаще обычного, 0 реже обычного**"
   ]
  },
  {
   "cell_type": "code",
   "execution_count": 209,
   "metadata": {},
   "outputs": [
    {
     "data": {
      "text/plain": [
       "909"
      ]
     },
     "execution_count": 209,
     "metadata": {},
     "output_type": "execute_result"
    }
   ],
   "source": [
    "init_df['tenure'].isna().sum()"
   ]
  },
  {
   "cell_type": "markdown",
   "metadata": {},
   "source": [
    "**около 10 % в tenure - пропущенные значения, тут также не забудем потом про SimpleImputer**"
   ]
  },
  {
   "cell_type": "code",
   "execution_count": null,
   "metadata": {},
   "outputs": [],
   "source": []
  },
  {
   "cell_type": "code",
   "execution_count": 210,
   "metadata": {},
   "outputs": [
    {
     "data": {
      "text/plain": [
       "0"
      ]
     },
     "execution_count": 210,
     "metadata": {},
     "output_type": "execute_result"
    }
   ],
   "source": [
    "init_df['balance'].isna().sum()"
   ]
  },
  {
   "cell_type": "code",
   "execution_count": 211,
   "metadata": {},
   "outputs": [
    {
     "data": {
      "text/plain": [
       "<AxesSubplot:title={'center':'Распределение параметра balance'}, ylabel='Frequency'>"
      ]
     },
     "execution_count": 211,
     "metadata": {},
     "output_type": "execute_result"
    },
    {
     "data": {
      "image/png": "[encoded data removed]",
      "text/plain": [
       "<Figure size 432x288 with 1 Axes>"
      ]
     },
     "metadata": {
      "needs_background": "light"
     },
     "output_type": "display_data"
    }
   ],
   "source": [
    "init_df['balance'].plot(kind='hist', title='Распределение параметра balance')"
   ]
  },
  {
   "cell_type": "markdown",
   "metadata": {},
   "source": [
    "**Очень много значений в нуле. Мы не знаем пропуски ли это, так что пока будем работать с 0 как с реальным\n",
    "балансом на счетах пользователей**"
   ]
  },
  {
   "cell_type": "code",
   "execution_count": 212,
   "metadata": {},
   "outputs": [
    {
     "data": {
      "text/plain": [
       "<AxesSubplot:title={'center':'распределение признка num_of_products'}, ylabel='Frequency'>"
      ]
     },
     "execution_count": 212,
     "metadata": {},
     "output_type": "execute_result"
    },
    {
     "data": {
      "image/png": "[encoded data removed]",
      "text/plain": [
       "<Figure size 432x288 with 1 Axes>"
      ]
     },
     "metadata": {
      "needs_background": "light"
     },
     "output_type": "display_data"
    }
   ],
   "source": [
    "init_df['num_of_products'].plot(kind='hist', title='распределение признка num_of_products')"
   ]
  },
  {
   "cell_type": "code",
   "execution_count": 213,
   "metadata": {},
   "outputs": [
    {
     "data": {
      "text/plain": [
       "array([1, 3, 2, 4], dtype=int64)"
      ]
     },
     "execution_count": 213,
     "metadata": {},
     "output_type": "execute_result"
    }
   ],
   "source": [
    "init_df['num_of_products'].unique()"
   ]
  },
  {
   "cell_type": "code",
   "execution_count": null,
   "metadata": {},
   "outputs": [],
   "source": []
  },
  {
   "cell_type": "markdown",
   "metadata": {},
   "source": [
    "**в основном значения либо 1 либо 2**"
   ]
  },
  {
   "cell_type": "markdown",
   "metadata": {},
   "source": [
    "**Следующий столбец has_crcard**"
   ]
  },
  {
   "cell_type": "code",
   "execution_count": 214,
   "metadata": {},
   "outputs": [
    {
     "data": {
      "text/plain": [
       "0"
      ]
     },
     "execution_count": 214,
     "metadata": {},
     "output_type": "execute_result"
    }
   ],
   "source": [
    "init_df['has_crcard'].isna().sum()"
   ]
  },
  {
   "cell_type": "code",
   "execution_count": 215,
   "metadata": {},
   "outputs": [
    {
     "data": {
      "text/plain": [
       "<AxesSubplot:ylabel='Frequency'>"
      ]
     },
     "execution_count": 215,
     "metadata": {},
     "output_type": "execute_result"
    },
    {
     "data": {
      "image/png": "[encoded data removed]",
      "text/plain": [
       "<Figure size 432x288 with 1 Axes>"
      ]
     },
     "metadata": {
      "needs_background": "light"
     },
     "output_type": "display_data"
    }
   ],
   "source": [
    "init_df['has_crcard'].plot(kind='hist')"
   ]
  },
  {
   "cell_type": "markdown",
   "metadata": {},
   "source": [
    "**либо 0 либо 1, все банально**"
   ]
  },
  {
   "cell_type": "code",
   "execution_count": 216,
   "metadata": {},
   "outputs": [
    {
     "data": {
      "text/plain": [
       "<AxesSubplot:ylabel='Frequency'>"
      ]
     },
     "execution_count": 216,
     "metadata": {},
     "output_type": "execute_result"
    },
    {
     "data": {
      "image/png": "[encoded data removed]",
      "text/plain": [
       "<Figure size 432x288 with 1 Axes>"
      ]
     },
     "metadata": {
      "needs_background": "light"
     },
     "output_type": "display_data"
    }
   ],
   "source": [
    "init_df['is_active'].plot(kind='hist')"
   ]
  },
  {
   "cell_type": "markdown",
   "metadata": {},
   "source": [
    "**аналогично - либо 0 либо 1**"
   ]
  },
  {
   "cell_type": "code",
   "execution_count": null,
   "metadata": {},
   "outputs": [],
   "source": []
  },
  {
   "cell_type": "markdown",
   "metadata": {},
   "source": [
    "**посмотрим на est_salary**"
   ]
  },
  {
   "cell_type": "code",
   "execution_count": 217,
   "metadata": {},
   "outputs": [
    {
     "data": {
      "text/plain": [
       "<AxesSubplot:title={'center':'Распределение признака ожидаемой зарплаты'}, ylabel='Frequency'>"
      ]
     },
     "execution_count": 217,
     "metadata": {},
     "output_type": "execute_result"
    },
    {
     "data": {
      "image/png": "[encoded data removed]",
      "text/plain": [
       "<Figure size 432x288 with 1 Axes>"
      ]
     },
     "metadata": {
      "needs_background": "light"
     },
     "output_type": "display_data"
    }
   ],
   "source": [
    "init_df['est_salary'].plot(kind='hist', title='Распределение признака ожидаемой зарплаты')"
   ]
  },
  {
   "cell_type": "code",
   "execution_count": 218,
   "metadata": {},
   "outputs": [
    {
     "data": {
      "text/plain": [
       "<AxesSubplot:title={'center':'Распределение признака ожидаемой зарплаты'}, ylabel='Density'>"
      ]
     },
     "execution_count": 218,
     "metadata": {},
     "output_type": "execute_result"
    },
    {
     "data": {
      "image/png": "[encoded data removed]",
      "text/plain": [
       "<Figure size 432x288 with 1 Axes>"
      ]
     },
     "metadata": {
      "needs_background": "light"
     },
     "output_type": "display_data"
    }
   ],
   "source": [
    "init_df['est_salary'].plot(kind='kde', title='Распределение признака ожидаемой зарплаты')"
   ]
  },
  {
   "cell_type": "code",
   "execution_count": 219,
   "metadata": {},
   "outputs": [
    {
     "data": {
      "text/plain": [
       "199992.48"
      ]
     },
     "execution_count": 219,
     "metadata": {},
     "output_type": "execute_result"
    }
   ],
   "source": [
    "init_df['est_salary'].max()"
   ]
  },
  {
   "cell_type": "code",
   "execution_count": 220,
   "metadata": {},
   "outputs": [
    {
     "data": {
      "text/plain": [
       "11.58"
      ]
     },
     "execution_count": 220,
     "metadata": {},
     "output_type": "execute_result"
    }
   ],
   "source": [
    "init_df['est_salary'].min()"
   ]
  },
  {
   "cell_type": "code",
   "execution_count": 221,
   "metadata": {},
   "outputs": [
    {
     "data": {
      "text/plain": [
       "<AxesSubplot:title={'center':'Распределение признака ожидаемой зарплаты'}, ylabel='Frequency'>"
      ]
     },
     "execution_count": 221,
     "metadata": {},
     "output_type": "execute_result"
    },
    {
     "data": {
      "image/png": "[encoded data removed]",
      "text/plain": [
       "<Figure size 432x288 with 1 Axes>"
      ]
     },
     "metadata": {
      "needs_background": "light"
     },
     "output_type": "display_data"
    }
   ],
   "source": [
    "init_df['est_salary'].plot(kind='hist',\n",
    "                           title='Распределение признака ожидаемой зарплаты',\n",
    "                          bins=1000)"
   ]
  },
  {
   "cell_type": "code",
   "execution_count": 222,
   "metadata": {},
   "outputs": [
    {
     "data": {
      "text/html": [
       "<iframe\n",
       "    scrolling=\"no\"\n",
       "    width=\"100%\"\n",
       "    height=\"545px\"\n",
       "    src=\"iframe_figures/figure_222.html\"\n",
       "    frameborder=\"0\"\n",
       "    allowfullscreen\n",
       "></iframe>\n"
      ]
     },
     "metadata": {},
     "output_type": "display_data"
    }
   ],
   "source": [
    "px.box(init_df, y='est_salary', title='est_salary distribution', points='all')"
   ]
  },
  {
   "cell_type": "code",
   "execution_count": 223,
   "metadata": {},
   "outputs": [
    {
     "data": {
      "text/html": [
       "<div>\n",
       "<style scoped>\n",
       "    .dataframe tbody tr th:only-of-type {\n",
       "        vertical-align: middle;\n",
       "    }\n",
       "\n",
       "    .dataframe tbody tr th {\n",
       "        vertical-align: top;\n",
       "    }\n",
       "\n",
       "    .dataframe thead th {\n",
       "        text-align: right;\n",
       "    }\n",
       "</style>\n",
       "<table border=\"1\" class=\"dataframe\">\n",
       "  <thead>\n",
       "    <tr style=\"text-align: right;\">\n",
       "      <th></th>\n",
       "      <th>rownumber</th>\n",
       "      <th>customer_id</th>\n",
       "      <th>surname</th>\n",
       "      <th>credit_score</th>\n",
       "      <th>geography</th>\n",
       "      <th>gender</th>\n",
       "      <th>age</th>\n",
       "      <th>tenure</th>\n",
       "      <th>balance</th>\n",
       "      <th>num_of_products</th>\n",
       "      <th>has_crcard</th>\n",
       "      <th>is_active</th>\n",
       "      <th>est_salary</th>\n",
       "      <th>exited</th>\n",
       "    </tr>\n",
       "  </thead>\n",
       "  <tbody>\n",
       "    <tr>\n",
       "      <th>149</th>\n",
       "      <td>150</td>\n",
       "      <td>15794413</td>\n",
       "      <td>Harris</td>\n",
       "      <td>416</td>\n",
       "      <td>France</td>\n",
       "      <td>m</td>\n",
       "      <td>32</td>\n",
       "      <td>0.0</td>\n",
       "      <td>0.00</td>\n",
       "      <td>2</td>\n",
       "      <td>0</td>\n",
       "      <td>1</td>\n",
       "      <td>878.87</td>\n",
       "      <td>0</td>\n",
       "    </tr>\n",
       "    <tr>\n",
       "      <th>195</th>\n",
       "      <td>196</td>\n",
       "      <td>15594815</td>\n",
       "      <td>Aleshire</td>\n",
       "      <td>807</td>\n",
       "      <td>France</td>\n",
       "      <td>m</td>\n",
       "      <td>35</td>\n",
       "      <td>3.0</td>\n",
       "      <td>174790.15</td>\n",
       "      <td>1</td>\n",
       "      <td>1</td>\n",
       "      <td>1</td>\n",
       "      <td>600.36</td>\n",
       "      <td>0</td>\n",
       "    </tr>\n",
       "    <tr>\n",
       "      <th>393</th>\n",
       "      <td>394</td>\n",
       "      <td>15684548</td>\n",
       "      <td>Demidov</td>\n",
       "      <td>556</td>\n",
       "      <td>Spain</td>\n",
       "      <td>m</td>\n",
       "      <td>38</td>\n",
       "      <td>8.0</td>\n",
       "      <td>0.00</td>\n",
       "      <td>2</td>\n",
       "      <td>0</td>\n",
       "      <td>0</td>\n",
       "      <td>417.41</td>\n",
       "      <td>1</td>\n",
       "    </tr>\n",
       "    <tr>\n",
       "      <th>396</th>\n",
       "      <td>397</td>\n",
       "      <td>15584766</td>\n",
       "      <td>Knight</td>\n",
       "      <td>557</td>\n",
       "      <td>France</td>\n",
       "      <td>m</td>\n",
       "      <td>33</td>\n",
       "      <td>3.0</td>\n",
       "      <td>54503.55</td>\n",
       "      <td>1</td>\n",
       "      <td>1</td>\n",
       "      <td>1</td>\n",
       "      <td>371.05</td>\n",
       "      <td>0</td>\n",
       "    </tr>\n",
       "    <tr>\n",
       "      <th>559</th>\n",
       "      <td>560</td>\n",
       "      <td>15571816</td>\n",
       "      <td>Ritchie</td>\n",
       "      <td>850</td>\n",
       "      <td>Spain</td>\n",
       "      <td>f</td>\n",
       "      <td>70</td>\n",
       "      <td>NaN</td>\n",
       "      <td>0.00</td>\n",
       "      <td>1</td>\n",
       "      <td>1</td>\n",
       "      <td>1</td>\n",
       "      <td>705.18</td>\n",
       "      <td>0</td>\n",
       "    </tr>\n",
       "  </tbody>\n",
       "</table>\n",
       "</div>"
      ],
      "text/plain": [
       "     rownumber customer_id   surname  credit_score geography gender  age  \\\n",
       "149        150    15794413    Harris           416    France      m   32   \n",
       "195        196    15594815  Aleshire           807    France      m   35   \n",
       "393        394    15684548   Demidov           556     Spain      m   38   \n",
       "396        397    15584766    Knight           557    France      m   33   \n",
       "559        560    15571816   Ritchie           850     Spain      f   70   \n",
       "\n",
       "     tenure    balance  num_of_products  has_crcard  is_active  est_salary  \\\n",
       "149     0.0       0.00                2           0          1      878.87   \n",
       "195     3.0  174790.15                1           1          1      600.36   \n",
       "393     8.0       0.00                2           0          0      417.41   \n",
       "396     3.0   54503.55                1           1          1      371.05   \n",
       "559     NaN       0.00                1           1          1      705.18   \n",
       "\n",
       "     exited  \n",
       "149       0  \n",
       "195       0  \n",
       "393       1  \n",
       "396       0  \n",
       "559       0  "
      ]
     },
     "execution_count": 223,
     "metadata": {},
     "output_type": "execute_result"
    }
   ],
   "source": [
    "init_df[init_df['est_salary']<1000].head()"
   ]
  },
  {
   "cell_type": "markdown",
   "metadata": {},
   "source": [
    "**Распределенеие ожидаймой заралпты равномерное, при этом в est_salary встречаются как крайне низкие,\n",
    "так и крайне высокие значения. Возможно, этот признак уже поскейлен, не очень ясно в чем в принципе тут измеряется ЗП**"
   ]
  },
  {
   "cell_type": "markdown",
   "metadata": {},
   "source": [
    "**проверим последнюю колонку**"
   ]
  },
  {
   "cell_type": "code",
   "execution_count": 224,
   "metadata": {},
   "outputs": [
    {
     "data": {
      "text/plain": [
       "0"
      ]
     },
     "execution_count": 224,
     "metadata": {},
     "output_type": "execute_result"
    }
   ],
   "source": [
    "init_df['exited'].isna().sum()"
   ]
  },
  {
   "cell_type": "code",
   "execution_count": 225,
   "metadata": {},
   "outputs": [
    {
     "data": {
      "text/plain": [
       "0    7963\n",
       "1    2037\n",
       "Name: exited, dtype: int64"
      ]
     },
     "execution_count": 225,
     "metadata": {},
     "output_type": "execute_result"
    }
   ],
   "source": [
    "init_df['exited'].value_counts()"
   ]
  },
  {
   "cell_type": "markdown",
   "metadata": {},
   "source": [
    "**пропорция значений приблизительно 20 на 80**"
   ]
  },
  {
   "cell_type": "markdown",
   "metadata": {},
   "source": [
    "**колонку с фамилией дропнем, по фамилии мы ничего предсказывать не будем я думаю**"
   ]
  },
  {
   "cell_type": "code",
   "execution_count": 226,
   "metadata": {},
   "outputs": [],
   "source": [
    "clean_df = init_df.drop(['surname','rownumber'], axis='columns')"
   ]
  },
  {
   "cell_type": "code",
   "execution_count": 227,
   "metadata": {},
   "outputs": [
    {
     "data": {
      "text/html": [
       "<div>\n",
       "<style scoped>\n",
       "    .dataframe tbody tr th:only-of-type {\n",
       "        vertical-align: middle;\n",
       "    }\n",
       "\n",
       "    .dataframe tbody tr th {\n",
       "        vertical-align: top;\n",
       "    }\n",
       "\n",
       "    .dataframe thead th {\n",
       "        text-align: right;\n",
       "    }\n",
       "</style>\n",
       "<table border=\"1\" class=\"dataframe\">\n",
       "  <thead>\n",
       "    <tr style=\"text-align: right;\">\n",
       "      <th></th>\n",
       "      <th>customer_id</th>\n",
       "      <th>credit_score</th>\n",
       "      <th>geography</th>\n",
       "      <th>gender</th>\n",
       "      <th>age</th>\n",
       "      <th>tenure</th>\n",
       "      <th>balance</th>\n",
       "      <th>num_of_products</th>\n",
       "      <th>has_crcard</th>\n",
       "      <th>is_active</th>\n",
       "      <th>est_salary</th>\n",
       "      <th>exited</th>\n",
       "    </tr>\n",
       "  </thead>\n",
       "  <tbody>\n",
       "    <tr>\n",
       "      <th>0</th>\n",
       "      <td>15634602</td>\n",
       "      <td>619</td>\n",
       "      <td>France</td>\n",
       "      <td>f</td>\n",
       "      <td>42</td>\n",
       "      <td>2.0</td>\n",
       "      <td>0.00</td>\n",
       "      <td>1</td>\n",
       "      <td>1</td>\n",
       "      <td>1</td>\n",
       "      <td>101348.88</td>\n",
       "      <td>1</td>\n",
       "    </tr>\n",
       "    <tr>\n",
       "      <th>1</th>\n",
       "      <td>15647311</td>\n",
       "      <td>608</td>\n",
       "      <td>Spain</td>\n",
       "      <td>f</td>\n",
       "      <td>41</td>\n",
       "      <td>1.0</td>\n",
       "      <td>83807.86</td>\n",
       "      <td>1</td>\n",
       "      <td>0</td>\n",
       "      <td>1</td>\n",
       "      <td>112542.58</td>\n",
       "      <td>0</td>\n",
       "    </tr>\n",
       "    <tr>\n",
       "      <th>2</th>\n",
       "      <td>15619304</td>\n",
       "      <td>502</td>\n",
       "      <td>France</td>\n",
       "      <td>f</td>\n",
       "      <td>42</td>\n",
       "      <td>8.0</td>\n",
       "      <td>159660.80</td>\n",
       "      <td>3</td>\n",
       "      <td>1</td>\n",
       "      <td>0</td>\n",
       "      <td>113931.57</td>\n",
       "      <td>1</td>\n",
       "    </tr>\n",
       "    <tr>\n",
       "      <th>3</th>\n",
       "      <td>15701354</td>\n",
       "      <td>699</td>\n",
       "      <td>France</td>\n",
       "      <td>f</td>\n",
       "      <td>39</td>\n",
       "      <td>1.0</td>\n",
       "      <td>0.00</td>\n",
       "      <td>2</td>\n",
       "      <td>0</td>\n",
       "      <td>0</td>\n",
       "      <td>93826.63</td>\n",
       "      <td>0</td>\n",
       "    </tr>\n",
       "    <tr>\n",
       "      <th>4</th>\n",
       "      <td>15737888</td>\n",
       "      <td>850</td>\n",
       "      <td>Spain</td>\n",
       "      <td>f</td>\n",
       "      <td>43</td>\n",
       "      <td>2.0</td>\n",
       "      <td>125510.82</td>\n",
       "      <td>1</td>\n",
       "      <td>1</td>\n",
       "      <td>1</td>\n",
       "      <td>79084.10</td>\n",
       "      <td>0</td>\n",
       "    </tr>\n",
       "  </tbody>\n",
       "</table>\n",
       "</div>"
      ],
      "text/plain": [
       "  customer_id  credit_score geography gender  age  tenure    balance  \\\n",
       "0    15634602           619    France      f   42     2.0       0.00   \n",
       "1    15647311           608     Spain      f   41     1.0   83807.86   \n",
       "2    15619304           502    France      f   42     8.0  159660.80   \n",
       "3    15701354           699    France      f   39     1.0       0.00   \n",
       "4    15737888           850     Spain      f   43     2.0  125510.82   \n",
       "\n",
       "   num_of_products  has_crcard  is_active  est_salary  exited  \n",
       "0                1           1          1   101348.88       1  \n",
       "1                1           0          1   112542.58       0  \n",
       "2                3           1          0   113931.57       1  \n",
       "3                2           0          0    93826.63       0  \n",
       "4                1           1          1    79084.10       0  "
      ]
     },
     "execution_count": 227,
     "metadata": {},
     "output_type": "execute_result"
    }
   ],
   "source": [
    "clean_df.head()"
   ]
  },
  {
   "cell_type": "code",
   "execution_count": 228,
   "metadata": {},
   "outputs": [
    {
     "name": "stdout",
     "output_type": "stream",
     "text": [
      "<class 'pandas.core.frame.DataFrame'>\n",
      "RangeIndex: 10000 entries, 0 to 9999\n",
      "Data columns (total 12 columns):\n",
      " #   Column           Non-Null Count  Dtype   \n",
      "---  ------           --------------  -----   \n",
      " 0   customer_id      10000 non-null  object  \n",
      " 1   credit_score     10000 non-null  int64   \n",
      " 2   geography        10000 non-null  object  \n",
      " 3   gender           10000 non-null  category\n",
      " 4   age              10000 non-null  int64   \n",
      " 5   tenure           9091 non-null   float64 \n",
      " 6   balance          10000 non-null  float64 \n",
      " 7   num_of_products  10000 non-null  int64   \n",
      " 8   has_crcard       10000 non-null  int64   \n",
      " 9   is_active        10000 non-null  int64   \n",
      " 10  est_salary       10000 non-null  float64 \n",
      " 11  exited           10000 non-null  int64   \n",
      "dtypes: category(1), float64(3), int64(6), object(2)\n",
      "memory usage: 869.4+ KB\n"
     ]
    }
   ],
   "source": [
    "clean_df.info()"
   ]
  },
  {
   "cell_type": "markdown",
   "metadata": {},
   "source": [
    "**Создадим словарь для маппинга пользователей по индексу**"
   ]
  },
  {
   "cell_type": "code",
   "execution_count": 229,
   "metadata": {},
   "outputs": [],
   "source": [
    "user_mapping = {v: k for k, v in clean_df['customer_id'].items()}"
   ]
  },
  {
   "cell_type": "markdown",
   "metadata": {},
   "source": [
    "**теперь можем дропнуть customer_id**"
   ]
  },
  {
   "cell_type": "code",
   "execution_count": 230,
   "metadata": {},
   "outputs": [],
   "source": [
    "clean_df = clean_df.drop('customer_id', axis='columns')"
   ]
  },
  {
   "cell_type": "markdown",
   "metadata": {},
   "source": [
    "**Для пола используем OneHotEncoder, так как у нас всего два гендера, то один дропнем**"
   ]
  },
  {
   "cell_type": "code",
   "execution_count": 231,
   "metadata": {},
   "outputs": [],
   "source": [
    "df = clean_df.drop('gender',axis='columns').merge(pd.get_dummies(clean_df['gender'],drop_first=True),\n",
    "                                             left_index=True,\n",
    "                                             right_index=True,\n",
    "                                            how='left')"
   ]
  },
  {
   "cell_type": "markdown",
   "metadata": {},
   "source": [
    "**также преобразуем страны через OHE**"
   ]
  },
  {
   "cell_type": "code",
   "execution_count": 232,
   "metadata": {},
   "outputs": [],
   "source": [
    "df = df.drop('geography', axis='columns').merge(pd.get_dummies(df['geography']),\n",
    "                                          left_index=True,\n",
    "                                          right_index=True,\n",
    "                                          how='left')\n",
    "\n",
    "df.columns = df.columns.str.lower()"
   ]
  },
  {
   "cell_type": "code",
   "execution_count": 233,
   "metadata": {},
   "outputs": [
    {
     "data": {
      "text/html": [
       "<div>\n",
       "<style scoped>\n",
       "    .dataframe tbody tr th:only-of-type {\n",
       "        vertical-align: middle;\n",
       "    }\n",
       "\n",
       "    .dataframe tbody tr th {\n",
       "        vertical-align: top;\n",
       "    }\n",
       "\n",
       "    .dataframe thead th {\n",
       "        text-align: right;\n",
       "    }\n",
       "</style>\n",
       "<table border=\"1\" class=\"dataframe\">\n",
       "  <thead>\n",
       "    <tr style=\"text-align: right;\">\n",
       "      <th></th>\n",
       "      <th>credit_score</th>\n",
       "      <th>age</th>\n",
       "      <th>tenure</th>\n",
       "      <th>balance</th>\n",
       "      <th>num_of_products</th>\n",
       "      <th>has_crcard</th>\n",
       "      <th>is_active</th>\n",
       "      <th>est_salary</th>\n",
       "      <th>exited</th>\n",
       "      <th>m</th>\n",
       "      <th>france</th>\n",
       "      <th>germany</th>\n",
       "      <th>spain</th>\n",
       "    </tr>\n",
       "  </thead>\n",
       "  <tbody>\n",
       "    <tr>\n",
       "      <th>0</th>\n",
       "      <td>619</td>\n",
       "      <td>42</td>\n",
       "      <td>2.0</td>\n",
       "      <td>0.00</td>\n",
       "      <td>1</td>\n",
       "      <td>1</td>\n",
       "      <td>1</td>\n",
       "      <td>101348.88</td>\n",
       "      <td>1</td>\n",
       "      <td>0</td>\n",
       "      <td>1</td>\n",
       "      <td>0</td>\n",
       "      <td>0</td>\n",
       "    </tr>\n",
       "    <tr>\n",
       "      <th>1</th>\n",
       "      <td>608</td>\n",
       "      <td>41</td>\n",
       "      <td>1.0</td>\n",
       "      <td>83807.86</td>\n",
       "      <td>1</td>\n",
       "      <td>0</td>\n",
       "      <td>1</td>\n",
       "      <td>112542.58</td>\n",
       "      <td>0</td>\n",
       "      <td>0</td>\n",
       "      <td>0</td>\n",
       "      <td>0</td>\n",
       "      <td>1</td>\n",
       "    </tr>\n",
       "    <tr>\n",
       "      <th>2</th>\n",
       "      <td>502</td>\n",
       "      <td>42</td>\n",
       "      <td>8.0</td>\n",
       "      <td>159660.80</td>\n",
       "      <td>3</td>\n",
       "      <td>1</td>\n",
       "      <td>0</td>\n",
       "      <td>113931.57</td>\n",
       "      <td>1</td>\n",
       "      <td>0</td>\n",
       "      <td>1</td>\n",
       "      <td>0</td>\n",
       "      <td>0</td>\n",
       "    </tr>\n",
       "    <tr>\n",
       "      <th>3</th>\n",
       "      <td>699</td>\n",
       "      <td>39</td>\n",
       "      <td>1.0</td>\n",
       "      <td>0.00</td>\n",
       "      <td>2</td>\n",
       "      <td>0</td>\n",
       "      <td>0</td>\n",
       "      <td>93826.63</td>\n",
       "      <td>0</td>\n",
       "      <td>0</td>\n",
       "      <td>1</td>\n",
       "      <td>0</td>\n",
       "      <td>0</td>\n",
       "    </tr>\n",
       "    <tr>\n",
       "      <th>4</th>\n",
       "      <td>850</td>\n",
       "      <td>43</td>\n",
       "      <td>2.0</td>\n",
       "      <td>125510.82</td>\n",
       "      <td>1</td>\n",
       "      <td>1</td>\n",
       "      <td>1</td>\n",
       "      <td>79084.10</td>\n",
       "      <td>0</td>\n",
       "      <td>0</td>\n",
       "      <td>0</td>\n",
       "      <td>0</td>\n",
       "      <td>1</td>\n",
       "    </tr>\n",
       "  </tbody>\n",
       "</table>\n",
       "</div>"
      ],
      "text/plain": [
       "   credit_score  age  tenure    balance  num_of_products  has_crcard  \\\n",
       "0           619   42     2.0       0.00                1           1   \n",
       "1           608   41     1.0   83807.86                1           0   \n",
       "2           502   42     8.0  159660.80                3           1   \n",
       "3           699   39     1.0       0.00                2           0   \n",
       "4           850   43     2.0  125510.82                1           1   \n",
       "\n",
       "   is_active  est_salary  exited  m  france  germany  spain  \n",
       "0          1   101348.88       1  0       1        0      0  \n",
       "1          1   112542.58       0  0       0        0      1  \n",
       "2          0   113931.57       1  0       1        0      0  \n",
       "3          0    93826.63       0  0       1        0      0  \n",
       "4          1    79084.10       0  0       0        0      1  "
      ]
     },
     "execution_count": 233,
     "metadata": {},
     "output_type": "execute_result"
    }
   ],
   "source": [
    "df.head()"
   ]
  },
  {
   "cell_type": "markdown",
   "metadata": {},
   "source": [
    "**Разобьем выборку на 2 части - train и test. Валидировать будем через кросс-валидацию на train, так что в этом случае отдельная\n",
    "выборка под валидацию нам не нужна**"
   ]
  },
  {
   "cell_type": "code",
   "execution_count": 234,
   "metadata": {},
   "outputs": [],
   "source": [
    "features = df.drop('exited', axis='columns')\n",
    "target = df['exited']"
   ]
  },
  {
   "cell_type": "code",
   "execution_count": 235,
   "metadata": {},
   "outputs": [],
   "source": [
    "X_train, X_test, y_train, y_test = train_test_split(features, target, test_size = 0.2, random_state=282)"
   ]
  },
  {
   "cell_type": "markdown",
   "metadata": {},
   "source": [
    "**Заполним пропуски в фичах**"
   ]
  },
  {
   "cell_type": "code",
   "execution_count": 236,
   "metadata": {},
   "outputs": [],
   "source": [
    "cols_with_missing = [col for col in X_train.columns\n",
    "                     if X_train[col].isnull().any()]"
   ]
  },
  {
   "cell_type": "code",
   "execution_count": 237,
   "metadata": {},
   "outputs": [
    {
     "data": {
      "text/plain": [
       "['tenure']"
      ]
     },
     "execution_count": 237,
     "metadata": {},
     "output_type": "execute_result"
    }
   ],
   "source": [
    "cols_with_missing"
   ]
  },
  {
   "cell_type": "code",
   "execution_count": 238,
   "metadata": {},
   "outputs": [],
   "source": [
    "my_imputer = SimpleImputer()"
   ]
  },
  {
   "cell_type": "code",
   "execution_count": 239,
   "metadata": {},
   "outputs": [],
   "source": [
    "imputed_X_train = pd.DataFrame(my_imputer.fit_transform(X_train))\n",
    "imputed_X_test = pd.DataFrame(my_imputer.transform(X_test))"
   ]
  },
  {
   "cell_type": "code",
   "execution_count": 240,
   "metadata": {},
   "outputs": [],
   "source": [
    "imputed_X_train.columns = X_train.columns\n",
    "imputed_X_test.columns = X_test.columns"
   ]
  },
  {
   "cell_type": "code",
   "execution_count": 241,
   "metadata": {},
   "outputs": [],
   "source": [
    "X_train = imputed_X_train\n",
    "X_test = imputed_X_test"
   ]
  },
  {
   "cell_type": "code",
   "execution_count": 242,
   "metadata": {},
   "outputs": [
    {
     "name": "stdout",
     "output_type": "stream",
     "text": [
      "<class 'pandas.core.frame.DataFrame'>\n",
      "RangeIndex: 8000 entries, 0 to 7999\n",
      "Data columns (total 12 columns):\n",
      " #   Column           Non-Null Count  Dtype  \n",
      "---  ------           --------------  -----  \n",
      " 0   credit_score     8000 non-null   float64\n",
      " 1   age              8000 non-null   float64\n",
      " 2   tenure           8000 non-null   float64\n",
      " 3   balance          8000 non-null   float64\n",
      " 4   num_of_products  8000 non-null   float64\n",
      " 5   has_crcard       8000 non-null   float64\n",
      " 6   is_active        8000 non-null   float64\n",
      " 7   est_salary       8000 non-null   float64\n",
      " 8   m                8000 non-null   float64\n",
      " 9   france           8000 non-null   float64\n",
      " 10  germany          8000 non-null   float64\n",
      " 11  spain            8000 non-null   float64\n",
      "dtypes: float64(12)\n",
      "memory usage: 750.1 KB\n"
     ]
    }
   ],
   "source": [
    "X_train.info()"
   ]
  },
  {
   "cell_type": "markdown",
   "metadata": {},
   "source": [
    "**пропуски заполнены** "
   ]
  },
  {
   "cell_type": "code",
   "execution_count": 243,
   "metadata": {
    "scrolled": true
   },
   "outputs": [
    {
     "data": {
      "text/html": [
       "<div>\n",
       "<style scoped>\n",
       "    .dataframe tbody tr th:only-of-type {\n",
       "        vertical-align: middle;\n",
       "    }\n",
       "\n",
       "    .dataframe tbody tr th {\n",
       "        vertical-align: top;\n",
       "    }\n",
       "\n",
       "    .dataframe thead th {\n",
       "        text-align: right;\n",
       "    }\n",
       "</style>\n",
       "<table border=\"1\" class=\"dataframe\">\n",
       "  <thead>\n",
       "    <tr style=\"text-align: right;\">\n",
       "      <th></th>\n",
       "      <th>credit_score</th>\n",
       "      <th>age</th>\n",
       "      <th>tenure</th>\n",
       "      <th>balance</th>\n",
       "      <th>num_of_products</th>\n",
       "      <th>has_crcard</th>\n",
       "      <th>is_active</th>\n",
       "      <th>est_salary</th>\n",
       "      <th>m</th>\n",
       "      <th>france</th>\n",
       "      <th>germany</th>\n",
       "      <th>spain</th>\n",
       "    </tr>\n",
       "  </thead>\n",
       "  <tbody>\n",
       "    <tr>\n",
       "      <th>0</th>\n",
       "      <td>492.0</td>\n",
       "      <td>49.0</td>\n",
       "      <td>2.00000</td>\n",
       "      <td>151249.45</td>\n",
       "      <td>2.0</td>\n",
       "      <td>1.0</td>\n",
       "      <td>1.0</td>\n",
       "      <td>167237.94</td>\n",
       "      <td>0.0</td>\n",
       "      <td>0.0</td>\n",
       "      <td>1.0</td>\n",
       "      <td>0.0</td>\n",
       "    </tr>\n",
       "    <tr>\n",
       "      <th>1</th>\n",
       "      <td>729.0</td>\n",
       "      <td>38.0</td>\n",
       "      <td>10.00000</td>\n",
       "      <td>0.00</td>\n",
       "      <td>2.0</td>\n",
       "      <td>1.0</td>\n",
       "      <td>0.0</td>\n",
       "      <td>189727.12</td>\n",
       "      <td>0.0</td>\n",
       "      <td>0.0</td>\n",
       "      <td>0.0</td>\n",
       "      <td>1.0</td>\n",
       "    </tr>\n",
       "    <tr>\n",
       "      <th>2</th>\n",
       "      <td>451.0</td>\n",
       "      <td>31.0</td>\n",
       "      <td>4.99518</td>\n",
       "      <td>140931.82</td>\n",
       "      <td>1.0</td>\n",
       "      <td>0.0</td>\n",
       "      <td>1.0</td>\n",
       "      <td>20388.77</td>\n",
       "      <td>0.0</td>\n",
       "      <td>1.0</td>\n",
       "      <td>0.0</td>\n",
       "      <td>0.0</td>\n",
       "    </tr>\n",
       "    <tr>\n",
       "      <th>3</th>\n",
       "      <td>644.0</td>\n",
       "      <td>31.0</td>\n",
       "      <td>5.00000</td>\n",
       "      <td>0.00</td>\n",
       "      <td>2.0</td>\n",
       "      <td>1.0</td>\n",
       "      <td>1.0</td>\n",
       "      <td>41872.17</td>\n",
       "      <td>1.0</td>\n",
       "      <td>1.0</td>\n",
       "      <td>0.0</td>\n",
       "      <td>0.0</td>\n",
       "    </tr>\n",
       "    <tr>\n",
       "      <th>4</th>\n",
       "      <td>850.0</td>\n",
       "      <td>30.0</td>\n",
       "      <td>2.00000</td>\n",
       "      <td>141040.01</td>\n",
       "      <td>1.0</td>\n",
       "      <td>1.0</td>\n",
       "      <td>1.0</td>\n",
       "      <td>5978.20</td>\n",
       "      <td>1.0</td>\n",
       "      <td>0.0</td>\n",
       "      <td>0.0</td>\n",
       "      <td>1.0</td>\n",
       "    </tr>\n",
       "  </tbody>\n",
       "</table>\n",
       "</div>"
      ],
      "text/plain": [
       "   credit_score   age    tenure    balance  num_of_products  has_crcard  \\\n",
       "0         492.0  49.0   2.00000  151249.45              2.0         1.0   \n",
       "1         729.0  38.0  10.00000       0.00              2.0         1.0   \n",
       "2         451.0  31.0   4.99518  140931.82              1.0         0.0   \n",
       "3         644.0  31.0   5.00000       0.00              2.0         1.0   \n",
       "4         850.0  30.0   2.00000  141040.01              1.0         1.0   \n",
       "\n",
       "   is_active  est_salary    m  france  germany  spain  \n",
       "0        1.0   167237.94  0.0     0.0      1.0    0.0  \n",
       "1        0.0   189727.12  0.0     0.0      0.0    1.0  \n",
       "2        1.0    20388.77  0.0     1.0      0.0    0.0  \n",
       "3        1.0    41872.17  1.0     1.0      0.0    0.0  \n",
       "4        1.0     5978.20  1.0     0.0      0.0    1.0  "
      ]
     },
     "execution_count": 243,
     "metadata": {},
     "output_type": "execute_result"
    }
   ],
   "source": [
    "X_train.head()"
   ]
  },
  {
   "cell_type": "code",
   "execution_count": 244,
   "metadata": {},
   "outputs": [
    {
     "data": {
      "text/plain": [
       "<AxesSubplot:ylabel='Frequency'>"
      ]
     },
     "execution_count": 244,
     "metadata": {},
     "output_type": "execute_result"
    },
    {
     "data": {
      "image/png": "[encoded data removed]",
      "text/plain": [
       "<Figure size 432x288 with 1 Axes>"
      ]
     },
     "metadata": {
      "needs_background": "light"
     },
     "output_type": "display_data"
    }
   ],
   "source": [
    "init_df['tenure'].plot(kind='hist')"
   ]
  },
  {
   "cell_type": "markdown",
   "metadata": {},
   "source": [
    "**посмотрим дополнительно на корреляцию признаков между собой**"
   ]
  },
  {
   "cell_type": "code",
   "execution_count": 245,
   "metadata": {},
   "outputs": [
    {
     "data": {
      "text/html": [
       "<div>\n",
       "<style scoped>\n",
       "    .dataframe tbody tr th:only-of-type {\n",
       "        vertical-align: middle;\n",
       "    }\n",
       "\n",
       "    .dataframe tbody tr th {\n",
       "        vertical-align: top;\n",
       "    }\n",
       "\n",
       "    .dataframe thead th {\n",
       "        text-align: right;\n",
       "    }\n",
       "</style>\n",
       "<table border=\"1\" class=\"dataframe\">\n",
       "  <thead>\n",
       "    <tr style=\"text-align: right;\">\n",
       "      <th></th>\n",
       "      <th>credit_score</th>\n",
       "      <th>age</th>\n",
       "      <th>balance</th>\n",
       "    </tr>\n",
       "  </thead>\n",
       "  <tbody>\n",
       "    <tr>\n",
       "      <th>credit_score</th>\n",
       "      <td>1.000000</td>\n",
       "      <td>-0.004119</td>\n",
       "      <td>0.012826</td>\n",
       "    </tr>\n",
       "    <tr>\n",
       "      <th>age</th>\n",
       "      <td>-0.004119</td>\n",
       "      <td>1.000000</td>\n",
       "      <td>0.035131</td>\n",
       "    </tr>\n",
       "    <tr>\n",
       "      <th>balance</th>\n",
       "      <td>0.012826</td>\n",
       "      <td>0.035131</td>\n",
       "      <td>1.000000</td>\n",
       "    </tr>\n",
       "  </tbody>\n",
       "</table>\n",
       "</div>"
      ],
      "text/plain": [
       "              credit_score       age   balance\n",
       "credit_score      1.000000 -0.004119  0.012826\n",
       "age              -0.004119  1.000000  0.035131\n",
       "balance           0.012826  0.035131  1.000000"
      ]
     },
     "execution_count": 245,
     "metadata": {},
     "output_type": "execute_result"
    }
   ],
   "source": [
    "X_train[['credit_score','age','balance']].corr()"
   ]
  },
  {
   "cell_type": "code",
   "execution_count": 246,
   "metadata": {},
   "outputs": [
    {
     "data": {
      "text/html": [
       "<div>\n",
       "<style scoped>\n",
       "    .dataframe tbody tr th:only-of-type {\n",
       "        vertical-align: middle;\n",
       "    }\n",
       "\n",
       "    .dataframe tbody tr th {\n",
       "        vertical-align: top;\n",
       "    }\n",
       "\n",
       "    .dataframe thead th {\n",
       "        text-align: right;\n",
       "    }\n",
       "</style>\n",
       "<table border=\"1\" class=\"dataframe\">\n",
       "  <thead>\n",
       "    <tr style=\"text-align: right;\">\n",
       "      <th></th>\n",
       "      <th>age</th>\n",
       "      <th>credit_score</th>\n",
       "    </tr>\n",
       "  </thead>\n",
       "  <tbody>\n",
       "    <tr>\n",
       "      <th>age</th>\n",
       "      <td>1.000000</td>\n",
       "      <td>-0.004119</td>\n",
       "    </tr>\n",
       "    <tr>\n",
       "      <th>credit_score</th>\n",
       "      <td>-0.004119</td>\n",
       "      <td>1.000000</td>\n",
       "    </tr>\n",
       "  </tbody>\n",
       "</table>\n",
       "</div>"
      ],
      "text/plain": [
       "                   age  credit_score\n",
       "age           1.000000     -0.004119\n",
       "credit_score -0.004119      1.000000"
      ]
     },
     "execution_count": 246,
     "metadata": {},
     "output_type": "execute_result"
    }
   ],
   "source": [
    "X_train[['age','credit_score']].corr()"
   ]
  },
  {
   "cell_type": "code",
   "execution_count": 247,
   "metadata": {},
   "outputs": [
    {
     "data": {
      "text/html": [
       "<div>\n",
       "<style scoped>\n",
       "    .dataframe tbody tr th:only-of-type {\n",
       "        vertical-align: middle;\n",
       "    }\n",
       "\n",
       "    .dataframe tbody tr th {\n",
       "        vertical-align: top;\n",
       "    }\n",
       "\n",
       "    .dataframe thead th {\n",
       "        text-align: right;\n",
       "    }\n",
       "</style>\n",
       "<table border=\"1\" class=\"dataframe\">\n",
       "  <thead>\n",
       "    <tr style=\"text-align: right;\">\n",
       "      <th></th>\n",
       "      <th>balance</th>\n",
       "      <th>est_salary</th>\n",
       "    </tr>\n",
       "  </thead>\n",
       "  <tbody>\n",
       "    <tr>\n",
       "      <th>balance</th>\n",
       "      <td>1.000000</td>\n",
       "      <td>0.012113</td>\n",
       "    </tr>\n",
       "    <tr>\n",
       "      <th>est_salary</th>\n",
       "      <td>0.012113</td>\n",
       "      <td>1.000000</td>\n",
       "    </tr>\n",
       "  </tbody>\n",
       "</table>\n",
       "</div>"
      ],
      "text/plain": [
       "             balance  est_salary\n",
       "balance     1.000000    0.012113\n",
       "est_salary  0.012113    1.000000"
      ]
     },
     "execution_count": 247,
     "metadata": {},
     "output_type": "execute_result"
    }
   ],
   "source": [
    "X_train[['balance','est_salary']].corr()"
   ]
  },
  {
   "cell_type": "code",
   "execution_count": 248,
   "metadata": {},
   "outputs": [
    {
     "data": {
      "text/html": [
       "<div>\n",
       "<style scoped>\n",
       "    .dataframe tbody tr th:only-of-type {\n",
       "        vertical-align: middle;\n",
       "    }\n",
       "\n",
       "    .dataframe tbody tr th {\n",
       "        vertical-align: top;\n",
       "    }\n",
       "\n",
       "    .dataframe thead th {\n",
       "        text-align: right;\n",
       "    }\n",
       "</style>\n",
       "<table border=\"1\" class=\"dataframe\">\n",
       "  <thead>\n",
       "    <tr style=\"text-align: right;\">\n",
       "      <th></th>\n",
       "      <th>balance</th>\n",
       "      <th>m</th>\n",
       "    </tr>\n",
       "  </thead>\n",
       "  <tbody>\n",
       "    <tr>\n",
       "      <th>balance</th>\n",
       "      <td>1.000000</td>\n",
       "      <td>0.011418</td>\n",
       "    </tr>\n",
       "    <tr>\n",
       "      <th>m</th>\n",
       "      <td>0.011418</td>\n",
       "      <td>1.000000</td>\n",
       "    </tr>\n",
       "  </tbody>\n",
       "</table>\n",
       "</div>"
      ],
      "text/plain": [
       "          balance         m\n",
       "balance  1.000000  0.011418\n",
       "m        0.011418  1.000000"
      ]
     },
     "execution_count": 248,
     "metadata": {},
     "output_type": "execute_result"
    }
   ],
   "source": [
    "X_train[['balance','m']].corr(method='kendall')"
   ]
  },
  {
   "cell_type": "code",
   "execution_count": 249,
   "metadata": {},
   "outputs": [
    {
     "data": {
      "image/png": "[encoded data removed]",
      "text/plain": [
       "<Figure size 720x720 with 16 Axes>"
      ]
     },
     "metadata": {
      "needs_background": "light"
     },
     "output_type": "display_data"
    }
   ],
   "source": [
    "axes = pd.plotting.scatter_matrix(X_train[['credit_score','age','balance','est_salary']],\n",
    "                                  figsize=(10,10), diagonal='kde', grid=True)\n",
    "corr = X_train[['credit_score','age','balance','est_salary']].corr().values\n",
    "for i, j in zip(*plt.np.triu_indices_from(axes, k=1)):\n",
    "    axes[i, j].annotate(\"%.3f\" %corr[i,j], (0.8, 0.8),\n",
    "                        xycoords='axes fraction', ha='center', va='center')\n",
    "plt.show()"
   ]
  },
  {
   "cell_type": "markdown",
   "metadata": {},
   "source": [
    "**Выглядит так, что основные количественные признаки в нашем наборе данных слабо кореллируют между собой и нет необходимости\n",
    "исключать какой-либо из них на данном этапе**"
   ]
  },
  {
   "cell_type": "code",
   "execution_count": 250,
   "metadata": {},
   "outputs": [
    {
     "name": "stdout",
     "output_type": "stream",
     "text": [
      "<class 'pandas.core.frame.DataFrame'>\n",
      "RangeIndex: 8000 entries, 0 to 7999\n",
      "Data columns (total 12 columns):\n",
      " #   Column           Non-Null Count  Dtype  \n",
      "---  ------           --------------  -----  \n",
      " 0   credit_score     8000 non-null   float64\n",
      " 1   age              8000 non-null   float64\n",
      " 2   tenure           8000 non-null   float64\n",
      " 3   balance          8000 non-null   float64\n",
      " 4   num_of_products  8000 non-null   float64\n",
      " 5   has_crcard       8000 non-null   float64\n",
      " 6   is_active        8000 non-null   float64\n",
      " 7   est_salary       8000 non-null   float64\n",
      " 8   m                8000 non-null   float64\n",
      " 9   france           8000 non-null   float64\n",
      " 10  germany          8000 non-null   float64\n",
      " 11  spain            8000 non-null   float64\n",
      "dtypes: float64(12)\n",
      "memory usage: 750.1 KB\n"
     ]
    }
   ],
   "source": [
    "X_train.info()"
   ]
  },
  {
   "cell_type": "markdown",
   "metadata": {},
   "source": [
    "**Поскейлим данные в количественных фичах через StandardScaler**"
   ]
  },
  {
   "cell_type": "code",
   "execution_count": 251,
   "metadata": {},
   "outputs": [
    {
     "data": {
      "text/html": [
       "<div>\n",
       "<style scoped>\n",
       "    .dataframe tbody tr th:only-of-type {\n",
       "        vertical-align: middle;\n",
       "    }\n",
       "\n",
       "    .dataframe tbody tr th {\n",
       "        vertical-align: top;\n",
       "    }\n",
       "\n",
       "    .dataframe thead th {\n",
       "        text-align: right;\n",
       "    }\n",
       "</style>\n",
       "<table border=\"1\" class=\"dataframe\">\n",
       "  <thead>\n",
       "    <tr style=\"text-align: right;\">\n",
       "      <th></th>\n",
       "      <th>credit_score</th>\n",
       "      <th>age</th>\n",
       "      <th>tenure</th>\n",
       "      <th>balance</th>\n",
       "      <th>num_of_products</th>\n",
       "      <th>has_crcard</th>\n",
       "      <th>is_active</th>\n",
       "      <th>est_salary</th>\n",
       "      <th>m</th>\n",
       "      <th>france</th>\n",
       "      <th>germany</th>\n",
       "      <th>spain</th>\n",
       "    </tr>\n",
       "  </thead>\n",
       "  <tbody>\n",
       "    <tr>\n",
       "      <th>0</th>\n",
       "      <td>492.0</td>\n",
       "      <td>49.0</td>\n",
       "      <td>2.00000</td>\n",
       "      <td>151249.45</td>\n",
       "      <td>2.0</td>\n",
       "      <td>1.0</td>\n",
       "      <td>1.0</td>\n",
       "      <td>167237.94</td>\n",
       "      <td>0.0</td>\n",
       "      <td>0.0</td>\n",
       "      <td>1.0</td>\n",
       "      <td>0.0</td>\n",
       "    </tr>\n",
       "    <tr>\n",
       "      <th>1</th>\n",
       "      <td>729.0</td>\n",
       "      <td>38.0</td>\n",
       "      <td>10.00000</td>\n",
       "      <td>0.00</td>\n",
       "      <td>2.0</td>\n",
       "      <td>1.0</td>\n",
       "      <td>0.0</td>\n",
       "      <td>189727.12</td>\n",
       "      <td>0.0</td>\n",
       "      <td>0.0</td>\n",
       "      <td>0.0</td>\n",
       "      <td>1.0</td>\n",
       "    </tr>\n",
       "    <tr>\n",
       "      <th>2</th>\n",
       "      <td>451.0</td>\n",
       "      <td>31.0</td>\n",
       "      <td>4.99518</td>\n",
       "      <td>140931.82</td>\n",
       "      <td>1.0</td>\n",
       "      <td>0.0</td>\n",
       "      <td>1.0</td>\n",
       "      <td>20388.77</td>\n",
       "      <td>0.0</td>\n",
       "      <td>1.0</td>\n",
       "      <td>0.0</td>\n",
       "      <td>0.0</td>\n",
       "    </tr>\n",
       "    <tr>\n",
       "      <th>3</th>\n",
       "      <td>644.0</td>\n",
       "      <td>31.0</td>\n",
       "      <td>5.00000</td>\n",
       "      <td>0.00</td>\n",
       "      <td>2.0</td>\n",
       "      <td>1.0</td>\n",
       "      <td>1.0</td>\n",
       "      <td>41872.17</td>\n",
       "      <td>1.0</td>\n",
       "      <td>1.0</td>\n",
       "      <td>0.0</td>\n",
       "      <td>0.0</td>\n",
       "    </tr>\n",
       "    <tr>\n",
       "      <th>4</th>\n",
       "      <td>850.0</td>\n",
       "      <td>30.0</td>\n",
       "      <td>2.00000</td>\n",
       "      <td>141040.01</td>\n",
       "      <td>1.0</td>\n",
       "      <td>1.0</td>\n",
       "      <td>1.0</td>\n",
       "      <td>5978.20</td>\n",
       "      <td>1.0</td>\n",
       "      <td>0.0</td>\n",
       "      <td>0.0</td>\n",
       "      <td>1.0</td>\n",
       "    </tr>\n",
       "  </tbody>\n",
       "</table>\n",
       "</div>"
      ],
      "text/plain": [
       "   credit_score   age    tenure    balance  num_of_products  has_crcard  \\\n",
       "0         492.0  49.0   2.00000  151249.45              2.0         1.0   \n",
       "1         729.0  38.0  10.00000       0.00              2.0         1.0   \n",
       "2         451.0  31.0   4.99518  140931.82              1.0         0.0   \n",
       "3         644.0  31.0   5.00000       0.00              2.0         1.0   \n",
       "4         850.0  30.0   2.00000  141040.01              1.0         1.0   \n",
       "\n",
       "   is_active  est_salary    m  france  germany  spain  \n",
       "0        1.0   167237.94  0.0     0.0      1.0    0.0  \n",
       "1        0.0   189727.12  0.0     0.0      0.0    1.0  \n",
       "2        1.0    20388.77  0.0     1.0      0.0    0.0  \n",
       "3        1.0    41872.17  1.0     1.0      0.0    0.0  \n",
       "4        1.0     5978.20  1.0     0.0      0.0    1.0  "
      ]
     },
     "execution_count": 251,
     "metadata": {},
     "output_type": "execute_result"
    }
   ],
   "source": [
    "X_train.head()"
   ]
  },
  {
   "cell_type": "code",
   "execution_count": 252,
   "metadata": {},
   "outputs": [],
   "source": [
    "my_scaler = StandardScaler()\n",
    "cols_to_scale = [col for col in X_train.columns if X_train[col].nunique()>2]"
   ]
  },
  {
   "cell_type": "code",
   "execution_count": 253,
   "metadata": {},
   "outputs": [
    {
     "data": {
      "text/plain": [
       "['credit_score', 'age', 'tenure', 'balance', 'num_of_products', 'est_salary']"
      ]
     },
     "execution_count": 253,
     "metadata": {},
     "output_type": "execute_result"
    }
   ],
   "source": [
    "cols_to_scale"
   ]
  },
  {
   "cell_type": "code",
   "execution_count": 254,
   "metadata": {},
   "outputs": [],
   "source": [
    "scaled_X_train = pd.DataFrame(my_scaler.fit_transform(X_train[cols_to_scale]))\n",
    "scaled_X_test = pd.DataFrame(my_scaler.transform(X_test[cols_to_scale])) #тут только трансформ, без фита\n",
    "\n",
    "scaled_X_train.columns = cols_to_scale\n",
    "scaled_X_test.columns = cols_to_scale"
   ]
  },
  {
   "cell_type": "code",
   "execution_count": 255,
   "metadata": {},
   "outputs": [],
   "source": [
    "X_train = X_train.drop(cols_to_scale, axis='columns').merge(scaled_X_train,\n",
    "                                                 left_index=True,\n",
    "                                                 right_index=True,\n",
    "                                                 how='left')\n",
    "\n",
    "X_test = X_test.drop(cols_to_scale, axis='columns').merge(scaled_X_test,\n",
    "                                                 left_index=True,\n",
    "                                                 right_index=True,\n",
    "                                                 how='left')"
   ]
  },
  {
   "cell_type": "code",
   "execution_count": 256,
   "metadata": {},
   "outputs": [
    {
     "data": {
      "text/html": [
       "<div>\n",
       "<style scoped>\n",
       "    .dataframe tbody tr th:only-of-type {\n",
       "        vertical-align: middle;\n",
       "    }\n",
       "\n",
       "    .dataframe tbody tr th {\n",
       "        vertical-align: top;\n",
       "    }\n",
       "\n",
       "    .dataframe thead th {\n",
       "        text-align: right;\n",
       "    }\n",
       "</style>\n",
       "<table border=\"1\" class=\"dataframe\">\n",
       "  <thead>\n",
       "    <tr style=\"text-align: right;\">\n",
       "      <th></th>\n",
       "      <th>has_crcard</th>\n",
       "      <th>is_active</th>\n",
       "      <th>m</th>\n",
       "      <th>france</th>\n",
       "      <th>germany</th>\n",
       "      <th>spain</th>\n",
       "      <th>credit_score</th>\n",
       "      <th>age</th>\n",
       "      <th>tenure</th>\n",
       "      <th>balance</th>\n",
       "      <th>num_of_products</th>\n",
       "      <th>est_salary</th>\n",
       "    </tr>\n",
       "  </thead>\n",
       "  <tbody>\n",
       "    <tr>\n",
       "      <th>0</th>\n",
       "      <td>1.0</td>\n",
       "      <td>1.0</td>\n",
       "      <td>0.0</td>\n",
       "      <td>0.0</td>\n",
       "      <td>1.0</td>\n",
       "      <td>0.0</td>\n",
       "      <td>-1.648819</td>\n",
       "      <td>0.968737</td>\n",
       "      <td>-1.079836</td>\n",
       "      <td>1.192598</td>\n",
       "      <td>0.805105</td>\n",
       "      <td>1.172302</td>\n",
       "    </tr>\n",
       "    <tr>\n",
       "      <th>1</th>\n",
       "      <td>1.0</td>\n",
       "      <td>0.0</td>\n",
       "      <td>0.0</td>\n",
       "      <td>0.0</td>\n",
       "      <td>0.0</td>\n",
       "      <td>1.0</td>\n",
       "      <td>0.801642</td>\n",
       "      <td>-0.088784</td>\n",
       "      <td>1.804362</td>\n",
       "      <td>-1.224403</td>\n",
       "      <td>0.805105</td>\n",
       "      <td>1.565844</td>\n",
       "    </tr>\n",
       "    <tr>\n",
       "      <th>2</th>\n",
       "      <td>0.0</td>\n",
       "      <td>1.0</td>\n",
       "      <td>0.0</td>\n",
       "      <td>1.0</td>\n",
       "      <td>0.0</td>\n",
       "      <td>0.0</td>\n",
       "      <td>-2.072738</td>\n",
       "      <td>-0.761751</td>\n",
       "      <td>0.000000</td>\n",
       "      <td>1.027720</td>\n",
       "      <td>-0.915665</td>\n",
       "      <td>-1.397437</td>\n",
       "    </tr>\n",
       "    <tr>\n",
       "      <th>3</th>\n",
       "      <td>1.0</td>\n",
       "      <td>1.0</td>\n",
       "      <td>1.0</td>\n",
       "      <td>1.0</td>\n",
       "      <td>0.0</td>\n",
       "      <td>0.0</td>\n",
       "      <td>-0.077215</td>\n",
       "      <td>-0.761751</td>\n",
       "      <td>0.001738</td>\n",
       "      <td>-1.224403</td>\n",
       "      <td>0.805105</td>\n",
       "      <td>-1.021495</td>\n",
       "    </tr>\n",
       "    <tr>\n",
       "      <th>4</th>\n",
       "      <td>1.0</td>\n",
       "      <td>1.0</td>\n",
       "      <td>1.0</td>\n",
       "      <td>0.0</td>\n",
       "      <td>0.0</td>\n",
       "      <td>1.0</td>\n",
       "      <td>2.052721</td>\n",
       "      <td>-0.857889</td>\n",
       "      <td>-1.079836</td>\n",
       "      <td>1.029449</td>\n",
       "      <td>-0.915665</td>\n",
       "      <td>-1.649610</td>\n",
       "    </tr>\n",
       "  </tbody>\n",
       "</table>\n",
       "</div>"
      ],
      "text/plain": [
       "   has_crcard  is_active    m  france  germany  spain  credit_score       age  \\\n",
       "0         1.0        1.0  0.0     0.0      1.0    0.0     -1.648819  0.968737   \n",
       "1         1.0        0.0  0.0     0.0      0.0    1.0      0.801642 -0.088784   \n",
       "2         0.0        1.0  0.0     1.0      0.0    0.0     -2.072738 -0.761751   \n",
       "3         1.0        1.0  1.0     1.0      0.0    0.0     -0.077215 -0.761751   \n",
       "4         1.0        1.0  1.0     0.0      0.0    1.0      2.052721 -0.857889   \n",
       "\n",
       "     tenure   balance  num_of_products  est_salary  \n",
       "0 -1.079836  1.192598         0.805105    1.172302  \n",
       "1  1.804362 -1.224403         0.805105    1.565844  \n",
       "2  0.000000  1.027720        -0.915665   -1.397437  \n",
       "3  0.001738 -1.224403         0.805105   -1.021495  \n",
       "4 -1.079836  1.029449        -0.915665   -1.649610  "
      ]
     },
     "execution_count": 256,
     "metadata": {},
     "output_type": "execute_result"
    }
   ],
   "source": [
    "X_train.head()"
   ]
  },
  {
   "cell_type": "markdown",
   "metadata": {},
   "source": [
    "**Итог:**\n",
    "    \n",
    "    - окей, на данном этапе разобрались с типами даннных\n",
    "    - применили OHE для кодирования столбцов с dtype = object\n",
    "    - заполнили пропуски с помощью SimpleImputer\n",
    "    - разбили выборку на train и test\n",
    "    - проверили линейную корреляцию между признаками\n",
    "    - поскейлили количественные признаки через StandardScaler\n",
    "    \n",
    "  Можем переходить к первому обучению моделек\n",
    "    "
   ]
  },
  {
   "cell_type": "markdown",
   "metadata": {},
   "source": [
    "## Исследование задачи"
   ]
  },
  {
   "cell_type": "markdown",
   "metadata": {},
   "source": [
    "**Нам необходимо запредиктить отвалы пользователей, постараемся использовать кросс-валидацию и GridSearch**"
   ]
  },
  {
   "cell_type": "code",
   "execution_count": 257,
   "metadata": {},
   "outputs": [],
   "source": [
    "from sklearn.model_selection import cross_val_score, GridSearchCV\n"
   ]
  },
  {
   "cell_type": "code",
   "execution_count": 258,
   "metadata": {},
   "outputs": [],
   "source": [
    "forest_model = RandomForestClassifier(random_state = 282)"
   ]
  },
  {
   "cell_type": "code",
   "execution_count": 259,
   "metadata": {},
   "outputs": [],
   "source": [
    "forest_params = {'criterion':['gini','entropy'],\n",
    "                'max_depth': range(1,11),\n",
    "                'max_features': range(4,12)}"
   ]
  },
  {
   "cell_type": "code",
   "execution_count": 260,
   "metadata": {},
   "outputs": [],
   "source": [
    "from sklearn.metrics import f1_score, make_scorer\n"
   ]
  },
  {
   "cell_type": "code",
   "execution_count": 261,
   "metadata": {},
   "outputs": [],
   "source": [
    "forest_grid = GridSearchCV(forest_model, forest_params,\n",
    "cv=5, n_jobs=-1,\n",
    "verbose=2,\n",
    "scoring='f1') #скорим f1 метрику через грид серч"
   ]
  },
  {
   "cell_type": "code",
   "execution_count": 262,
   "metadata": {
    "scrolled": true
   },
   "outputs": [
    {
     "name": "stdout",
     "output_type": "stream",
     "text": [
      "Wall time: 0 ns\n",
      "Fitting 5 folds for each of 160 candidates, totalling 800 fits\n"
     ]
    },
    {
     "data": {
      "text/plain": [
       "GridSearchCV(cv=5, estimator=RandomForestClassifier(random_state=282),\n",
       "             n_jobs=-1,\n",
       "             param_grid={'criterion': ['gini', 'entropy'],\n",
       "                         'max_depth': range(1, 11),\n",
       "                         'max_features': range(4, 12)},\n",
       "             scoring='f1', verbose=2)"
      ]
     },
     "execution_count": 262,
     "metadata": {},
     "output_type": "execute_result"
    }
   ],
   "source": [
    "#800 фитов - примерно 2 минуты на выполнение\n",
    "%time\n",
    "forest_grid.fit(X_train, y_train)"
   ]
  },
  {
   "cell_type": "code",
   "execution_count": 263,
   "metadata": {},
   "outputs": [
    {
     "data": {
      "text/plain": [
       "{'criterion': 'entropy', 'max_depth': 10, 'max_features': 10}"
      ]
     },
     "execution_count": 263,
     "metadata": {},
     "output_type": "execute_result"
    }
   ],
   "source": [
    "forest_grid.best_params_"
   ]
  },
  {
   "cell_type": "code",
   "execution_count": 264,
   "metadata": {},
   "outputs": [
    {
     "data": {
      "text/plain": [
       "0.5901811255892759"
      ]
     },
     "execution_count": 264,
     "metadata": {},
     "output_type": "execute_result"
    }
   ],
   "source": [
    "forest_grid.best_score_"
   ]
  },
  {
   "cell_type": "code",
   "execution_count": 265,
   "metadata": {},
   "outputs": [],
   "source": [
    "train_prediction = forest_grid.predict(X_train)"
   ]
  },
  {
   "cell_type": "code",
   "execution_count": 266,
   "metadata": {},
   "outputs": [
    {
     "data": {
      "text/plain": [
       "array([[6275,   78],\n",
       "       [ 661,  986]], dtype=int64)"
      ]
     },
     "execution_count": 266,
     "metadata": {},
     "output_type": "execute_result"
    }
   ],
   "source": [
    "confusion_matrix(y_train, train_prediction)"
   ]
  },
  {
   "cell_type": "markdown",
   "metadata": {},
   "source": [
    "**пока что на предикте трейна мы видим, что алгоритм угадывает примерно половину правильных ответов**"
   ]
  },
  {
   "cell_type": "code",
   "execution_count": 267,
   "metadata": {},
   "outputs": [
    {
     "data": {
      "text/plain": [
       "0.7274068609369235"
      ]
     },
     "execution_count": 267,
     "metadata": {},
     "output_type": "execute_result"
    }
   ],
   "source": [
    "f1_score(y_train, train_prediction)"
   ]
  },
  {
   "cell_type": "code",
   "execution_count": 268,
   "metadata": {},
   "outputs": [
    {
     "data": {
      "text/plain": [
       "0.5986642380085003"
      ]
     },
     "execution_count": 268,
     "metadata": {},
     "output_type": "execute_result"
    }
   ],
   "source": [
    "recall_score(y_train, train_prediction)"
   ]
  },
  {
   "cell_type": "code",
   "execution_count": 269,
   "metadata": {},
   "outputs": [
    {
     "data": {
      "text/plain": [
       "0.9266917293233082"
      ]
     },
     "execution_count": 269,
     "metadata": {},
     "output_type": "execute_result"
    }
   ],
   "source": [
    "precision_score(y_train, train_prediction)"
   ]
  },
  {
   "cell_type": "markdown",
   "metadata": {},
   "source": [
    "**Посмотрим что там у нас на test выборке при таких параметрах**"
   ]
  },
  {
   "cell_type": "code",
   "execution_count": 270,
   "metadata": {},
   "outputs": [],
   "source": [
    "test_prediction = forest_grid.predict(X_test)"
   ]
  },
  {
   "cell_type": "code",
   "execution_count": 271,
   "metadata": {},
   "outputs": [
    {
     "data": {
      "text/plain": [
       "array([[1541,   69],\n",
       "       [ 208,  182]], dtype=int64)"
      ]
     },
     "execution_count": 271,
     "metadata": {},
     "output_type": "execute_result"
    }
   ],
   "source": [
    "confusion_matrix(y_test, test_prediction)"
   ]
  },
  {
   "cell_type": "code",
   "execution_count": 272,
   "metadata": {},
   "outputs": [
    {
     "data": {
      "text/plain": [
       "0.5678627145085804"
      ]
     },
     "execution_count": 272,
     "metadata": {},
     "output_type": "execute_result"
    }
   ],
   "source": [
    "f1_score(y_test, test_prediction)"
   ]
  },
  {
   "cell_type": "code",
   "execution_count": 273,
   "metadata": {},
   "outputs": [
    {
     "data": {
      "text/plain": [
       "0.4666666666666667"
      ]
     },
     "execution_count": 273,
     "metadata": {},
     "output_type": "execute_result"
    }
   ],
   "source": [
    "recall_score(y_test, test_prediction)"
   ]
  },
  {
   "cell_type": "code",
   "execution_count": 274,
   "metadata": {},
   "outputs": [
    {
     "data": {
      "text/plain": [
       "0.7250996015936255"
      ]
     },
     "execution_count": 274,
     "metadata": {},
     "output_type": "execute_result"
    }
   ],
   "source": [
    "precision_score(y_test, test_prediction)"
   ]
  },
  {
   "cell_type": "code",
   "execution_count": 275,
   "metadata": {},
   "outputs": [
    {
     "data": {
      "text/plain": [
       "0.7302904564315352"
      ]
     },
     "execution_count": 275,
     "metadata": {},
     "output_type": "execute_result"
    }
   ],
   "source": [
    "176/(176+65)"
   ]
  },
  {
   "cell_type": "code",
   "execution_count": 276,
   "metadata": {},
   "outputs": [
    {
     "data": {
      "text/plain": [
       "array([0.59461447, 0.06318303, 0.01736231, ..., 0.09086141, 0.62388993,\n",
       "       0.07611959])"
      ]
     },
     "execution_count": 276,
     "metadata": {},
     "output_type": "execute_result"
    }
   ],
   "source": [
    "forest_grid.predict_proba(X_test)[:,1]"
   ]
  },
  {
   "cell_type": "code",
   "execution_count": 277,
   "metadata": {},
   "outputs": [],
   "source": [
    "probabilities_one_valid = forest_grid.predict_proba(X_test)[:,1]"
   ]
  },
  {
   "cell_type": "code",
   "execution_count": 278,
   "metadata": {},
   "outputs": [],
   "source": [
    "auc_roc = roc_auc_score(y_test,probabilities_one_valid)"
   ]
  },
  {
   "cell_type": "code",
   "execution_count": 279,
   "metadata": {},
   "outputs": [
    {
     "data": {
      "text/plain": [
       "0.8634782608695653"
      ]
     },
     "execution_count": 279,
     "metadata": {},
     "output_type": "execute_result"
    }
   ],
   "source": [
    "auc_roc"
   ]
  },
  {
   "cell_type": "code",
   "execution_count": 280,
   "metadata": {},
   "outputs": [],
   "source": [
    "fpr, tpr, thresholds = roc_curve(y_test, probabilities_one_valid) \n"
   ]
  },
  {
   "cell_type": "code",
   "execution_count": 281,
   "metadata": {},
   "outputs": [
    {
     "data": {
      "image/png": "[encoded data removed]",
      "text/plain": [
       "<Figure size 432x288 with 1 Axes>"
      ]
     },
     "metadata": {
      "needs_background": "light"
     },
     "output_type": "display_data"
    }
   ],
   "source": [
    "plt.figure()\n",
    "\n",
    "plt.plot(fpr, tpr)\n",
    "\n",
    "plt.plot([0, 1], [0, 1], linestyle='--')\n",
    "\n",
    "plt.xlim([0.0, 1.0])\n",
    "plt.ylim([0.0, 1.0])\n",
    "plt.xlabel('False Positive Rate')\n",
    "plt.ylabel('True Positive Rate')\n",
    "plt.title('ROC-кривая')\n",
    "plt.show()"
   ]
  },
  {
   "cell_type": "markdown",
   "metadata": {},
   "source": [
    "**Модель пока всеп также плохо находит конверсии в отвал, чаще недооценивает их (значительное количество False negative ошибок**"
   ]
  },
  {
   "cell_type": "markdown",
   "metadata": {},
   "source": [
    "**Перед работой с дисбалансом попробуем также улучшить модель за счет параметра n_estimators в случайном лесе**"
   ]
  },
  {
   "cell_type": "code",
   "execution_count": 282,
   "metadata": {},
   "outputs": [],
   "source": [
    "model = RandomForestClassifier(criterion='gini',\n",
    "                       max_depth=9,\n",
    "                       max_features=10,\n",
    "                       random_state = 282)"
   ]
  },
  {
   "cell_type": "code",
   "execution_count": 283,
   "metadata": {},
   "outputs": [],
   "source": [
    "forest_params = {'n_estimators':range(20,110,1)}"
   ]
  },
  {
   "cell_type": "code",
   "execution_count": 284,
   "metadata": {},
   "outputs": [
    {
     "data": {
      "text/plain": [
       "{'criterion': 'entropy', 'max_depth': 10, 'max_features': 10}"
      ]
     },
     "execution_count": 284,
     "metadata": {},
     "output_type": "execute_result"
    }
   ],
   "source": [
    "forest_grid.best_params_"
   ]
  },
  {
   "cell_type": "code",
   "execution_count": 285,
   "metadata": {},
   "outputs": [],
   "source": [
    "forest_grid_2 = GridSearchCV(model, forest_params,\n",
    "cv=5, n_jobs=-1,\n",
    "verbose=2,\n",
    "scoring='f1')"
   ]
  },
  {
   "cell_type": "code",
   "execution_count": 286,
   "metadata": {
    "scrolled": true
   },
   "outputs": [
    {
     "name": "stdout",
     "output_type": "stream",
     "text": [
      "Wall time: 0 ns\n",
      "Fitting 5 folds for each of 90 candidates, totalling 450 fits\n"
     ]
    },
    {
     "data": {
      "text/plain": [
       "GridSearchCV(cv=5,\n",
       "             estimator=RandomForestClassifier(max_depth=9, max_features=10,\n",
       "                                              random_state=282),\n",
       "             n_jobs=-1, param_grid={'n_estimators': range(20, 110)},\n",
       "             scoring='f1', verbose=2)"
      ]
     },
     "execution_count": 286,
     "metadata": {},
     "output_type": "execute_result"
    }
   ],
   "source": [
    "#450 фитов - примерно 6-7 минут по идее\n",
    "%time\n",
    "forest_grid_2.fit(X_train, y_train)"
   ]
  },
  {
   "cell_type": "code",
   "execution_count": 287,
   "metadata": {},
   "outputs": [
    {
     "data": {
      "text/plain": [
       "{'n_estimators': 21}"
      ]
     },
     "execution_count": 287,
     "metadata": {},
     "output_type": "execute_result"
    }
   ],
   "source": [
    "forest_grid_2.best_params_"
   ]
  },
  {
   "cell_type": "code",
   "execution_count": 288,
   "metadata": {},
   "outputs": [
    {
     "data": {
      "text/plain": [
       "0.5904816507572876"
      ]
     },
     "execution_count": 288,
     "metadata": {},
     "output_type": "execute_result"
    }
   ],
   "source": [
    "forest_grid_2.best_score_"
   ]
  },
  {
   "cell_type": "code",
   "execution_count": 289,
   "metadata": {},
   "outputs": [],
   "source": [
    "test_prediction = forest_grid_2.predict(X_test)"
   ]
  },
  {
   "cell_type": "code",
   "execution_count": 290,
   "metadata": {},
   "outputs": [
    {
     "data": {
      "text/plain": [
       "0.734375"
      ]
     },
     "execution_count": 290,
     "metadata": {},
     "output_type": "execute_result"
    }
   ],
   "source": [
    "precision_score(y_test,test_prediction)"
   ]
  },
  {
   "cell_type": "code",
   "execution_count": 291,
   "metadata": {},
   "outputs": [
    {
     "data": {
      "text/plain": [
       "0.48205128205128206"
      ]
     },
     "execution_count": 291,
     "metadata": {},
     "output_type": "execute_result"
    }
   ],
   "source": [
    "recall_score(y_test,test_prediction)"
   ]
  },
  {
   "cell_type": "code",
   "execution_count": 292,
   "metadata": {},
   "outputs": [
    {
     "data": {
      "text/plain": [
       "array([[1542,   68],\n",
       "       [ 202,  188]], dtype=int64)"
      ]
     },
     "execution_count": 292,
     "metadata": {},
     "output_type": "execute_result"
    }
   ],
   "source": [
    "confusion_matrix(y_test,test_prediction)"
   ]
  },
  {
   "cell_type": "markdown",
   "metadata": {},
   "source": [
    "**результат получился чуть лучше, пока можем двигаться дальше и попробовать что-то сделать с дисбалансом**"
   ]
  },
  {
   "cell_type": "code",
   "execution_count": 293,
   "metadata": {},
   "outputs": [
    {
     "data": {
      "text/plain": [
       "0.5820433436532507"
      ]
     },
     "execution_count": 293,
     "metadata": {},
     "output_type": "execute_result"
    }
   ],
   "source": [
    "f1_score(y_test,test_prediction)"
   ]
  },
  {
   "cell_type": "markdown",
   "metadata": {},
   "source": [
    "Итого в этой части: \n",
    "\n",
    "    - с помощью GridSearch обучили RandomForestClassifier оптимизируя F1 метрику\n",
    "    - довели f1 на тестовой выборке до 0.58"
   ]
  },
  {
   "cell_type": "markdown",
   "metadata": {},
   "source": [
    "## Борьба с дисбалансом"
   ]
  },
  {
   "cell_type": "markdown",
   "metadata": {},
   "source": [
    "**Попробуем сначала модель со сбалансированными весами всех классов**"
   ]
  },
  {
   "cell_type": "code",
   "execution_count": 294,
   "metadata": {},
   "outputs": [],
   "source": [
    "balanced_model = RandomForestClassifier(n_estimators=21,\n",
    "                                        criterion='gini',\n",
    "                                        max_depth=9,\n",
    "                                        max_features=10,\n",
    "                                        random_state=282,\n",
    "                                        class_weight='balanced')\n",
    "                       "
   ]
  },
  {
   "cell_type": "code",
   "execution_count": 295,
   "metadata": {},
   "outputs": [
    {
     "data": {
      "text/plain": [
       "RandomForestClassifier(class_weight='balanced', max_depth=9, max_features=10,\n",
       "                       n_estimators=21, random_state=282)"
      ]
     },
     "execution_count": 295,
     "metadata": {},
     "output_type": "execute_result"
    }
   ],
   "source": [
    "balanced_model.fit(X_train, y_train)"
   ]
  },
  {
   "cell_type": "code",
   "execution_count": 296,
   "metadata": {},
   "outputs": [],
   "source": [
    "train_prediction = balanced_model.predict(X_train)"
   ]
  },
  {
   "cell_type": "code",
   "execution_count": 297,
   "metadata": {},
   "outputs": [
    {
     "data": {
      "text/plain": [
       "0.6869346733668342"
      ]
     },
     "execution_count": 297,
     "metadata": {},
     "output_type": "execute_result"
    }
   ],
   "source": [
    "precision_score(y_train, train_prediction)"
   ]
  },
  {
   "cell_type": "code",
   "execution_count": 298,
   "metadata": {},
   "outputs": [
    {
     "data": {
      "text/plain": [
       "0.8299939283545841"
      ]
     },
     "execution_count": 298,
     "metadata": {},
     "output_type": "execute_result"
    }
   ],
   "source": [
    "recall_score(y_train,train_prediction)"
   ]
  },
  {
   "cell_type": "code",
   "execution_count": 299,
   "metadata": {},
   "outputs": [],
   "source": [
    "test_prediction = balanced_model.predict(X_test)"
   ]
  },
  {
   "cell_type": "code",
   "execution_count": 300,
   "metadata": {},
   "outputs": [
    {
     "data": {
      "text/plain": [
       "0.505859375"
      ]
     },
     "execution_count": 300,
     "metadata": {},
     "output_type": "execute_result"
    }
   ],
   "source": [
    "precision_score(y_test, test_prediction)"
   ]
  },
  {
   "cell_type": "code",
   "execution_count": 301,
   "metadata": {},
   "outputs": [
    {
     "data": {
      "text/plain": [
       "0.6641025641025641"
      ]
     },
     "execution_count": 301,
     "metadata": {},
     "output_type": "execute_result"
    }
   ],
   "source": [
    "recall_score(y_test, test_prediction)"
   ]
  },
  {
   "cell_type": "code",
   "execution_count": 302,
   "metadata": {},
   "outputs": [
    {
     "data": {
      "text/plain": [
       "array([[1357,  253],\n",
       "       [ 131,  259]], dtype=int64)"
      ]
     },
     "execution_count": 302,
     "metadata": {},
     "output_type": "execute_result"
    }
   ],
   "source": [
    "confusion_matrix(y_test, test_prediction)"
   ]
  },
  {
   "cell_type": "code",
   "execution_count": 303,
   "metadata": {
    "scrolled": true
   },
   "outputs": [
    {
     "data": {
      "text/plain": [
       "0.574279379157428"
      ]
     },
     "execution_count": 303,
     "metadata": {},
     "output_type": "execute_result"
    }
   ],
   "source": [
    "f1_score(y_test,test_prediction)"
   ]
  },
  {
   "cell_type": "markdown",
   "metadata": {},
   "source": [
    "**кажется стало даже чуть хуже, вернем обратно**"
   ]
  },
  {
   "cell_type": "code",
   "execution_count": 304,
   "metadata": {},
   "outputs": [],
   "source": [
    "model = RandomForestClassifier(n_estimators=21,\n",
    "                                        criterion='gini',\n",
    "                                        max_depth=9,\n",
    "                                        max_features=10,\n",
    "                                        random_state=282)\n",
    "                       "
   ]
  },
  {
   "cell_type": "markdown",
   "metadata": {},
   "source": [
    "**пременим upsample**"
   ]
  },
  {
   "cell_type": "code",
   "execution_count": 305,
   "metadata": {},
   "outputs": [],
   "source": [
    "def upsample(features, target, repeat):\n",
    "    \n",
    "    \n",
    "    features_zeros = features[target.values == 0]\n",
    "    features_ones = features[target.values == 1]\n",
    "    #print(len(features_zeros))\n",
    "    #print(len(features_ones))\n",
    "    \n",
    "    target_zeros = target[target.values == 0]\n",
    "    target_ones = target[target.values == 1]\n",
    "    #print(len(target_zeros))\n",
    "    #print(len(target_ones))\n",
    "        \n",
    "    features_upsampled = pd.concat([features_zeros] + [features_ones] * repeat)\n",
    "    target_upsampled = pd.concat([target_zeros] + [target_ones] * repeat)\n",
    "    \n",
    "    #features_upsampled = features_upsampled.reset_index(drop=True)\n",
    "    #target_upsampled = target_upsampled.reset_index(drop=True)\n",
    "    \n",
    "    return features_upsampled, target_upsampled\n",
    "\n"
   ]
  },
  {
   "cell_type": "code",
   "execution_count": 306,
   "metadata": {},
   "outputs": [],
   "source": [
    "X_train_upsampled, y_train_upsampled = upsample(X_train, pd.DataFrame(y_train), 2)\n"
   ]
  },
  {
   "cell_type": "code",
   "execution_count": 307,
   "metadata": {},
   "outputs": [
    {
     "name": "stdout",
     "output_type": "stream",
     "text": [
      "(9647, 12)\n",
      "(9647, 1)\n"
     ]
    }
   ],
   "source": [
    "print(X_train_upsampled.shape)\n",
    "print(y_train_upsampled.shape)"
   ]
  },
  {
   "cell_type": "markdown",
   "metadata": {},
   "source": [
    "**дополнительно разобьем выборки на тестовую и валидационную, так как на поиске оптимального\n",
    "множителя для upsample и downsample мы не будем применять GridSearchCV**"
   ]
  },
  {
   "cell_type": "code",
   "execution_count": 308,
   "metadata": {},
   "outputs": [],
   "source": [
    "X_train, X_valid, y_train, y_valid = train_test_split(X_train, y_train, test_size=0.25, random_state=282)"
   ]
  },
  {
   "cell_type": "code",
   "execution_count": 309,
   "metadata": {},
   "outputs": [],
   "source": [
    "f1_trains_list = []\n",
    "repeat_num_list = []\n",
    "\n",
    "\n",
    "for repeat in range(1,10,1):\n",
    "    X_train_upsampled, y_train_upsampled = upsample(X_train, pd.DataFrame(y_train), repeat)\n",
    "    \n",
    "    model.fit(X_train_upsampled, y_train_upsampled)\n",
    "    \n",
    "    train_prediction = model.predict(X_valid)\n",
    "    \n",
    "    f1_trains_list.append(f1_score(y_valid, train_prediction))\n",
    "    repeat_num_list.append(repeat)"
   ]
  },
  {
   "cell_type": "code",
   "execution_count": 310,
   "metadata": {},
   "outputs": [
    {
     "data": {
      "text/plain": [
       "[0.5759493670886077,\n",
       " 0.6071904127829562,\n",
       " 0.6040428061831152,\n",
       " 0.6029723991507431,\n",
       " 0.5890688259109312,\n",
       " 0.586239396795476,\n",
       " 0.5643382352941176,\n",
       " 0.5619982158786798,\n",
       " 0.5488530161427357]"
      ]
     },
     "execution_count": 310,
     "metadata": {},
     "output_type": "execute_result"
    }
   ],
   "source": [
    "f1_trains_list"
   ]
  },
  {
   "cell_type": "code",
   "execution_count": 311,
   "metadata": {},
   "outputs": [
    {
     "data": {
      "text/plain": [
       "[1, 2, 3, 4, 5, 6, 7, 8, 9]"
      ]
     },
     "execution_count": 311,
     "metadata": {},
     "output_type": "execute_result"
    }
   ],
   "source": [
    "repeat_num_list"
   ]
  },
  {
   "cell_type": "markdown",
   "metadata": {},
   "source": [
    "**Получается, что наилучшие показатели на повторном предикте тестовой выборки у нас при upsample = 2**"
   ]
  },
  {
   "cell_type": "code",
   "execution_count": 312,
   "metadata": {},
   "outputs": [],
   "source": [
    "X_train_upsampled, y_train_upsampled = upsample(X_train, pd.DataFrame(y_train), 2)"
   ]
  },
  {
   "cell_type": "code",
   "execution_count": 313,
   "metadata": {
    "scrolled": true
   },
   "outputs": [
    {
     "data": {
      "text/plain": [
       "RandomForestClassifier(max_depth=9, max_features=10, n_estimators=21,\n",
       "                       random_state=282)"
      ]
     },
     "execution_count": 313,
     "metadata": {},
     "output_type": "execute_result"
    }
   ],
   "source": [
    "model.fit(X_train_upsampled, y_train_upsampled)"
   ]
  },
  {
   "cell_type": "code",
   "execution_count": 314,
   "metadata": {},
   "outputs": [],
   "source": [
    "valid_prediction = model.predict(X_valid)"
   ]
  },
  {
   "cell_type": "code",
   "execution_count": 315,
   "metadata": {},
   "outputs": [
    {
     "data": {
      "text/plain": [
       "0.6458923512747875"
      ]
     },
     "execution_count": 315,
     "metadata": {},
     "output_type": "execute_result"
    }
   ],
   "source": [
    "precision_score(y_valid, valid_prediction)"
   ]
  },
  {
   "cell_type": "code",
   "execution_count": 316,
   "metadata": {},
   "outputs": [
    {
     "data": {
      "text/plain": [
       "0.5728643216080402"
      ]
     },
     "execution_count": 316,
     "metadata": {},
     "output_type": "execute_result"
    }
   ],
   "source": [
    "recall_score(y_valid, valid_prediction)"
   ]
  },
  {
   "cell_type": "code",
   "execution_count": 317,
   "metadata": {},
   "outputs": [
    {
     "data": {
      "text/plain": [
       "array([[1477,  125],\n",
       "       [ 170,  228]], dtype=int64)"
      ]
     },
     "execution_count": 317,
     "metadata": {},
     "output_type": "execute_result"
    }
   ],
   "source": [
    "confusion_matrix(y_valid, valid_prediction)"
   ]
  },
  {
   "cell_type": "code",
   "execution_count": 318,
   "metadata": {},
   "outputs": [
    {
     "data": {
      "text/plain": [
       "0.6071904127829562"
      ]
     },
     "execution_count": 318,
     "metadata": {},
     "output_type": "execute_result"
    }
   ],
   "source": [
    "f1_score(y_valid, valid_prediction)"
   ]
  },
  {
   "cell_type": "code",
   "execution_count": 319,
   "metadata": {},
   "outputs": [
    {
     "data": {
      "text/plain": [
       "0.8525"
      ]
     },
     "execution_count": 319,
     "metadata": {},
     "output_type": "execute_result"
    }
   ],
   "source": [
    "accuracy_score(y_valid, valid_prediction)"
   ]
  },
  {
   "cell_type": "markdown",
   "metadata": {},
   "source": [
    "**теперь мы видим ситуацию, когда у нас фактически одинаково и false_posititve и false_negative ошибок,\n",
    "precision и recall также примерно равны друг другу**"
   ]
  },
  {
   "cell_type": "markdown",
   "metadata": {},
   "source": [
    "**посмотрим на вероятности у тех айтемов, которые мы запредиктили неверно**"
   ]
  },
  {
   "cell_type": "code",
   "execution_count": 320,
   "metadata": {},
   "outputs": [
    {
     "data": {
      "text/plain": [
       "array([0, 0, 0, ..., 0, 0, 0], dtype=int64)"
      ]
     },
     "execution_count": 320,
     "metadata": {},
     "output_type": "execute_result"
    }
   ],
   "source": [
    "valid_prediction"
   ]
  },
  {
   "cell_type": "code",
   "execution_count": 321,
   "metadata": {},
   "outputs": [],
   "source": [
    "valid_prediction_df=pd.DataFrame(data={'prediction':valid_prediction,\n",
    "                  'actual_result':y_valid})"
   ]
  },
  {
   "cell_type": "markdown",
   "metadata": {},
   "source": [
    "**отберем только false_positive и true_negative предикты**"
   ]
  },
  {
   "cell_type": "code",
   "execution_count": 322,
   "metadata": {},
   "outputs": [
    {
     "data": {
      "text/html": [
       "<div>\n",
       "<style scoped>\n",
       "    .dataframe tbody tr th:only-of-type {\n",
       "        vertical-align: middle;\n",
       "    }\n",
       "\n",
       "    .dataframe tbody tr th {\n",
       "        vertical-align: top;\n",
       "    }\n",
       "\n",
       "    .dataframe thead th {\n",
       "        text-align: right;\n",
       "    }\n",
       "</style>\n",
       "<table border=\"1\" class=\"dataframe\">\n",
       "  <thead>\n",
       "    <tr style=\"text-align: right;\">\n",
       "      <th></th>\n",
       "      <th>prediction</th>\n",
       "      <th>actual_result</th>\n",
       "    </tr>\n",
       "  </thead>\n",
       "  <tbody>\n",
       "    <tr>\n",
       "      <th>6247</th>\n",
       "      <td>0</td>\n",
       "      <td>0</td>\n",
       "    </tr>\n",
       "    <tr>\n",
       "      <th>412</th>\n",
       "      <td>0</td>\n",
       "      <td>0</td>\n",
       "    </tr>\n",
       "    <tr>\n",
       "      <th>6214</th>\n",
       "      <td>0</td>\n",
       "      <td>0</td>\n",
       "    </tr>\n",
       "    <tr>\n",
       "      <th>1981</th>\n",
       "      <td>0</td>\n",
       "      <td>0</td>\n",
       "    </tr>\n",
       "    <tr>\n",
       "      <th>7154</th>\n",
       "      <td>0</td>\n",
       "      <td>0</td>\n",
       "    </tr>\n",
       "  </tbody>\n",
       "</table>\n",
       "</div>"
      ],
      "text/plain": [
       "      prediction  actual_result\n",
       "6247           0              0\n",
       "412            0              0\n",
       "6214           0              0\n",
       "1981           0              0\n",
       "7154           0              0"
      ]
     },
     "execution_count": 322,
     "metadata": {},
     "output_type": "execute_result"
    }
   ],
   "source": [
    "valid_prediction_df.head()"
   ]
  },
  {
   "cell_type": "code",
   "execution_count": 323,
   "metadata": {},
   "outputs": [],
   "source": [
    "def define_result(row):\n",
    "    if row['prediction'] == 0 and row['actual_result'] == 0:\n",
    "        return('TN')\n",
    "    \n",
    "    elif row['prediction'] == 1 and row['actual_result'] == 1:\n",
    "        return('TP')\n",
    "    \n",
    "    elif row['prediction'] == 0 and row['actual_result'] == 1:\n",
    "        return('FN')\n",
    "    else:\n",
    "        return('FP')    "
   ]
  },
  {
   "cell_type": "code",
   "execution_count": 324,
   "metadata": {},
   "outputs": [],
   "source": [
    "valid_prediction_df['result']=valid_prediction_df.apply(define_result, axis='columns')"
   ]
  },
  {
   "cell_type": "code",
   "execution_count": 325,
   "metadata": {},
   "outputs": [],
   "source": [
    "valid_prediction_df['probabilities'] = model.predict_proba(X_valid)[:,1]"
   ]
  },
  {
   "cell_type": "code",
   "execution_count": 326,
   "metadata": {},
   "outputs": [],
   "source": [
    "invalid_predictions = valid_prediction_df[valid_prediction_df['result'].isin(['FP','FN'])]"
   ]
  },
  {
   "cell_type": "code",
   "execution_count": 327,
   "metadata": {
    "scrolled": true
   },
   "outputs": [
    {
     "data": {
      "text/html": [
       "<div>\n",
       "<style scoped>\n",
       "    .dataframe tbody tr th:only-of-type {\n",
       "        vertical-align: middle;\n",
       "    }\n",
       "\n",
       "    .dataframe tbody tr th {\n",
       "        vertical-align: top;\n",
       "    }\n",
       "\n",
       "    .dataframe thead th {\n",
       "        text-align: right;\n",
       "    }\n",
       "</style>\n",
       "<table border=\"1\" class=\"dataframe\">\n",
       "  <thead>\n",
       "    <tr style=\"text-align: right;\">\n",
       "      <th></th>\n",
       "      <th>prediction</th>\n",
       "      <th>actual_result</th>\n",
       "      <th>result</th>\n",
       "      <th>probabilities</th>\n",
       "    </tr>\n",
       "  </thead>\n",
       "  <tbody>\n",
       "    <tr>\n",
       "      <th>3479</th>\n",
       "      <td>1</td>\n",
       "      <td>0</td>\n",
       "      <td>FP</td>\n",
       "      <td>0.548517</td>\n",
       "    </tr>\n",
       "    <tr>\n",
       "      <th>8870</th>\n",
       "      <td>0</td>\n",
       "      <td>1</td>\n",
       "      <td>FN</td>\n",
       "      <td>0.256022</td>\n",
       "    </tr>\n",
       "    <tr>\n",
       "      <th>4469</th>\n",
       "      <td>0</td>\n",
       "      <td>1</td>\n",
       "      <td>FN</td>\n",
       "      <td>0.291186</td>\n",
       "    </tr>\n",
       "    <tr>\n",
       "      <th>1424</th>\n",
       "      <td>0</td>\n",
       "      <td>1</td>\n",
       "      <td>FN</td>\n",
       "      <td>0.353077</td>\n",
       "    </tr>\n",
       "    <tr>\n",
       "      <th>3530</th>\n",
       "      <td>0</td>\n",
       "      <td>1</td>\n",
       "      <td>FN</td>\n",
       "      <td>0.495238</td>\n",
       "    </tr>\n",
       "    <tr>\n",
       "      <th>...</th>\n",
       "      <td>...</td>\n",
       "      <td>...</td>\n",
       "      <td>...</td>\n",
       "      <td>...</td>\n",
       "    </tr>\n",
       "    <tr>\n",
       "      <th>8887</th>\n",
       "      <td>0</td>\n",
       "      <td>1</td>\n",
       "      <td>FN</td>\n",
       "      <td>0.459876</td>\n",
       "    </tr>\n",
       "    <tr>\n",
       "      <th>2800</th>\n",
       "      <td>1</td>\n",
       "      <td>0</td>\n",
       "      <td>FP</td>\n",
       "      <td>0.582792</td>\n",
       "    </tr>\n",
       "    <tr>\n",
       "      <th>5432</th>\n",
       "      <td>1</td>\n",
       "      <td>0</td>\n",
       "      <td>FP</td>\n",
       "      <td>0.821465</td>\n",
       "    </tr>\n",
       "    <tr>\n",
       "      <th>6505</th>\n",
       "      <td>0</td>\n",
       "      <td>1</td>\n",
       "      <td>FN</td>\n",
       "      <td>0.482096</td>\n",
       "    </tr>\n",
       "    <tr>\n",
       "      <th>3476</th>\n",
       "      <td>0</td>\n",
       "      <td>1</td>\n",
       "      <td>FN</td>\n",
       "      <td>0.182311</td>\n",
       "    </tr>\n",
       "  </tbody>\n",
       "</table>\n",
       "<p>295 rows × 4 columns</p>\n",
       "</div>"
      ],
      "text/plain": [
       "      prediction  actual_result result  probabilities\n",
       "3479           1              0     FP       0.548517\n",
       "8870           0              1     FN       0.256022\n",
       "4469           0              1     FN       0.291186\n",
       "1424           0              1     FN       0.353077\n",
       "3530           0              1     FN       0.495238\n",
       "...          ...            ...    ...            ...\n",
       "8887           0              1     FN       0.459876\n",
       "2800           1              0     FP       0.582792\n",
       "5432           1              0     FP       0.821465\n",
       "6505           0              1     FN       0.482096\n",
       "3476           0              1     FN       0.182311\n",
       "\n",
       "[295 rows x 4 columns]"
      ]
     },
     "execution_count": 327,
     "metadata": {},
     "output_type": "execute_result"
    }
   ],
   "source": [
    "invalid_predictions"
   ]
  },
  {
   "cell_type": "code",
   "execution_count": 328,
   "metadata": {},
   "outputs": [
    {
     "data": {
      "text/plain": [
       "<AxesSubplot:ylabel='Density'>"
      ]
     },
     "execution_count": 328,
     "metadata": {},
     "output_type": "execute_result"
    },
    {
     "data": {
      "image/png": "[encoded data removed]",
      "text/plain": [
       "<Figure size 432x288 with 1 Axes>"
      ]
     },
     "metadata": {
      "needs_background": "light"
     },
     "output_type": "display_data"
    }
   ],
   "source": [
    "invalid_predictions['probabilities'].plot(kind='kde')"
   ]
  },
  {
   "cell_type": "code",
   "execution_count": 329,
   "metadata": {},
   "outputs": [
    {
     "data": {
      "text/html": [
       "<iframe\n",
       "    scrolling=\"no\"\n",
       "    width=\"100%\"\n",
       "    height=\"545px\"\n",
       "    src=\"iframe_figures/figure_329.html\"\n",
       "    frameborder=\"0\"\n",
       "    allowfullscreen\n",
       "></iframe>\n"
      ]
     },
     "metadata": {},
     "output_type": "display_data"
    }
   ],
   "source": [
    "px.histogram(invalid_predictions,\n",
    "             x='probabilities',\n",
    "             color='result',\n",
    "             nbins=100,\n",
    "            title='Распределение вероятностей для FP и FN предиктов')"
   ]
  },
  {
   "cell_type": "markdown",
   "metadata": {},
   "source": [
    "**думаю что мы можем сдвинуть вероятность определения 1 к 0.45, таким образом,\n",
    "мы решим проблему с пиком FN ошибок на стыке групп. При этом есть вероятонсть, что и количество ложноположительных\n",
    "результатов увеличиться. Однако, нам бизнесово, кажется, важнее исправить False Negative, также затем проверим как изменилась  f1 на валидации и примем решение оставляем или нет**"
   ]
  },
  {
   "cell_type": "code",
   "execution_count": 330,
   "metadata": {},
   "outputs": [
    {
     "name": "stdout",
     "output_type": "stream",
     "text": [
      "Порог = 0.45 | Точность = 0.599, Полнота = 0.618, F1 = 0.608\n",
      "Порог = 0.46 | Точность = 0.609, Полнота = 0.611, F1 = 0.610\n",
      "Порог = 0.47 | Точность = 0.619, Полнота = 0.603, F1 = 0.611\n",
      "Порог = 0.48 | Точность = 0.636, Полнота = 0.598, F1 = 0.617\n",
      "Порог = 0.49 | Точность = 0.642, Полнота = 0.590, F1 = 0.615\n",
      "Порог = 0.50 | Точность = 0.646, Полнота = 0.573, F1 = 0.607\n"
     ]
    }
   ],
   "source": [
    "probabilities_valid = model.predict_proba(X_valid)\n",
    "probabilities_one_valid = probabilities_valid[:, 1]\n",
    "\n",
    "\n",
    "for threshold in np.arange(0.45, 0.51, 0.01):\n",
    "    predicted_valid = model.predict(X_valid)\n",
    "    predicted_valid = probabilities_one_valid > threshold \n",
    "    \n",
    "    precision = precision_score(y_valid, predicted_valid)\n",
    "    recall = recall_score(y_valid, predicted_valid)\n",
    "    f1_metric = f1_score(y_valid, predicted_valid)\n",
    "    \n",
    "    print(\"Порог = {:.2f} | Точность = {:.3f}, Полнота = {:.3f}, F1 = {:.3f}\".format(\n",
    "        threshold, precision, recall, f1_metric))"
   ]
  },
  {
   "cell_type": "markdown",
   "metadata": {},
   "source": [
    "**наилучшее значение f меры мы получаем на трешхолде в 0.48**"
   ]
  },
  {
   "cell_type": "code",
   "execution_count": 344,
   "metadata": {},
   "outputs": [],
   "source": [
    "threshold = 0.48\n",
    "\n",
    "predicted_proba = model.predict_proba(X_valid)\n",
    "predicted = (predicted_proba [:,1] >= threshold).astype('int')\n",
    "\n",
    "accuracy = accuracy_score(y_valid, predicted)"
   ]
  },
  {
   "cell_type": "code",
   "execution_count": 345,
   "metadata": {
    "scrolled": true
   },
   "outputs": [
    {
     "data": {
      "text/plain": [
       "0.852"
      ]
     },
     "execution_count": 345,
     "metadata": {},
     "output_type": "execute_result"
    }
   ],
   "source": [
    "accuracy"
   ]
  },
  {
   "cell_type": "markdown",
   "metadata": {},
   "source": [
    "**по итогу тут мы:**\n",
    "\n",
    "        - провели апсемплинг,\n",
    "        - поменяли трешхолд\n",
    "      \n",
    "\n",
    "**можем провести тестирование нашей модели на тестовой выборке**"
   ]
  },
  {
   "cell_type": "markdown",
   "metadata": {},
   "source": [
    "## Тестирование модели"
   ]
  },
  {
   "cell_type": "code",
   "execution_count": 348,
   "metadata": {},
   "outputs": [
    {
     "name": "stdout",
     "output_type": "stream",
     "text": [
      "Точность = 0.576, Полнота = 0.623, F1 = 0.599, accuracy = 0.837\n"
     ]
    }
   ],
   "source": [
    "threshold = 0.48\n",
    "\n",
    "predicted_proba = model.predict_proba(X_test)\n",
    "predicted = (predicted_proba [:,1] >= threshold).astype('int')\n",
    "\n",
    "f1_test = f1_score(y_test, predicted)\n",
    "precision = precision_score(y_test, predicted)\n",
    "recall = recall_score(y_test, predicted)\n",
    "accuracy = accuracy_score(y_test, predicted)\n",
    "\n",
    "print(\"Точность = {:.3f}, Полнота = {:.3f}, F1 = {:.3f}, accuracy = {:.3f}\".format(\n",
    "        precision, recall, f1_test,accuracy))"
   ]
  },
  {
   "cell_type": "code",
   "execution_count": 349,
   "metadata": {},
   "outputs": [
    {
     "data": {
      "text/plain": [
       "array([[1431,  179],\n",
       "       [ 147,  243]], dtype=int64)"
      ]
     },
     "execution_count": 349,
     "metadata": {},
     "output_type": "execute_result"
    }
   ],
   "source": [
    "confusion_matrix(y_test, predicted)"
   ]
  },
  {
   "cell_type": "markdown",
   "metadata": {},
   "source": [
    "**Удалось достигнуть метрики F1 близкой к 0.6, все также - на тестовой выборке примерно равное количество\n",
    "как FP так и FN ошибок, возможно, вся проблема в весах фичей внутри - они не равнозначны**"
   ]
  },
  {
   "cell_type": "code",
   "execution_count": 350,
   "metadata": {},
   "outputs": [],
   "source": [
    "probabilities_one_test = model.predict_proba(X_test)[:,1]"
   ]
  },
  {
   "cell_type": "code",
   "execution_count": 351,
   "metadata": {},
   "outputs": [],
   "source": [
    "fpr, tpr, thresholds = roc_curve(y_test, probabilities_one_test) "
   ]
  },
  {
   "cell_type": "code",
   "execution_count": 352,
   "metadata": {},
   "outputs": [
    {
     "data": {
      "image/png": "[encoded data removed]",
      "text/plain": [
       "<Figure size 432x288 with 1 Axes>"
      ]
     },
     "metadata": {
      "needs_background": "light"
     },
     "output_type": "display_data"
    }
   ],
   "source": [
    "plt.figure()\n",
    "\n",
    "plt.plot(fpr, tpr)\n",
    "\n",
    "plt.plot([0, 1], [0, 1], linestyle='--')\n",
    "\n",
    "plt.xlim([0.0, 1.0])\n",
    "plt.ylim([0.0, 1.0])\n",
    "plt.xlabel('False Positive Rate')\n",
    "plt.ylabel('True Positive Rate')\n",
    "plt.title('ROC-кривая')\n",
    "plt.show()"
   ]
  },
  {
   "cell_type": "code",
   "execution_count": 353,
   "metadata": {},
   "outputs": [
    {
     "name": "stdout",
     "output_type": "stream",
     "text": [
      "0.8548972766364071\n"
     ]
    }
   ],
   "source": [
    "auc_roc = roc_auc_score(y_test, probabilities_one_test)\n",
    "\n",
    "print(auc_roc)"
   ]
  },
  {
   "cell_type": "code",
   "execution_count": 354,
   "metadata": {},
   "outputs": [
    {
     "data": {
      "text/plain": [
       "array([0.00787234, 0.08290157, 0.01614412, 0.0059457 , 0.03948467,\n",
       "       0.00378477, 0.06677905, 0.33250199, 0.03684704, 0.14324633,\n",
       "       0.19042451, 0.07406789])"
      ]
     },
     "execution_count": 354,
     "metadata": {},
     "output_type": "execute_result"
    }
   ],
   "source": [
    "model.feature_importances_"
   ]
  },
  {
   "cell_type": "markdown",
   "metadata": {},
   "source": [
    "**Площадь под кривой - 0.85, да и в целом судя по функции, модель кажется рабочей**"
   ]
  },
  {
   "cell_type": "code",
   "execution_count": 355,
   "metadata": {},
   "outputs": [],
   "source": [
    "feature_importance_df = pd.DataFrame({'feature':list(X_test.columns),\n",
    "             'importance':list(model.feature_importances_)})"
   ]
  },
  {
   "cell_type": "code",
   "execution_count": 356,
   "metadata": {},
   "outputs": [
    {
     "data": {
      "text/html": [
       "<iframe\n",
       "    scrolling=\"no\"\n",
       "    width=\"100%\"\n",
       "    height=\"545px\"\n",
       "    src=\"iframe_figures/figure_356.html\"\n",
       "    frameborder=\"0\"\n",
       "    allowfullscreen\n",
       "></iframe>\n"
      ]
     },
     "metadata": {},
     "output_type": "display_data"
    }
   ],
   "source": [
    "px.bar(feature_importance_df.sort_values('importance',ascending=False), x='feature', y='importance',\n",
    "      title='model feature importance')"
   ]
  },
  {
   "cell_type": "code",
   "execution_count": 357,
   "metadata": {},
   "outputs": [
    {
     "data": {
      "text/plain": [
       "array([[1431,  179],\n",
       "       [ 147,  243]], dtype=int64)"
      ]
     },
     "execution_count": 357,
     "metadata": {},
     "output_type": "execute_result"
    }
   ],
   "source": [
    "confusion_matrix(y_test, predicted)"
   ]
  },
  {
   "cell_type": "markdown",
   "metadata": {},
   "source": [
    "## Чек-лист готовности проекта"
   ]
  },
  {
   "cell_type": "markdown",
   "metadata": {},
   "source": [
    "Поставьте 'x' в выполненных пунктах. Далее нажмите Shift+Enter."
   ]
  },
  {
   "cell_type": "markdown",
   "metadata": {},
   "source": [
    "- [x]  Jupyter Notebook открыт\n",
    "- [x]  Весь код выполняется без ошибок\n",
    "- [x]  Ячейки с кодом расположены в порядке исполнения\n",
    "- [x]  Выполнен шаг 1: данные подготовлены\n",
    "- [x]  Выполнен шаг 2: задача исследована\n",
    "    - [x]  Исследован баланс классов\n",
    "    - [x]  Изучены модели без учёта дисбаланса\n",
    "    - [x]  Написаны выводы по результатам исследования\n",
    "- [x]  Выполнен шаг 3: учтён дисбаланс\n",
    "    - [x]  Применено несколько способов борьбы с дисбалансом\n",
    "    - [x]  Написаны выводы по результатам исследования\n",
    "- [x]  Выполнен шаг 4: проведено тестирование\n",
    "- [x]  Удалось достичь *F1*-меры не менее 0.59\n",
    "- [x]  Исследована метрика *AUC-ROC*"
   ]
  },
  {
   "cell_type": "code",
   "execution_count": null,
   "metadata": {},
   "outputs": [],
   "source": []
  }
 ],
 "metadata": {
  "ExecuteTimeLog": [
   {
    "duration": 340,
    "start_time": "2021-12-27T08:01:37.047Z"
   },
   {
    "duration": 508,
    "start_time": "2021-12-27T08:02:41.760Z"
   },
   {
    "duration": 4,
    "start_time": "2021-12-27T08:03:06.585Z"
   },
   {
    "duration": 380,
    "start_time": "2021-12-27T08:15:10.069Z"
   },
   {
    "duration": 317,
    "start_time": "2021-12-27T08:15:28.560Z"
   },
   {
    "duration": 392,
    "start_time": "2021-12-27T08:15:52.925Z"
   },
   {
    "duration": 5,
    "start_time": "2021-12-27T08:15:56.560Z"
   },
   {
    "duration": 320,
    "start_time": "2021-12-27T08:15:57.381Z"
   },
   {
    "duration": 1365,
    "start_time": "2021-12-27T08:16:06.808Z"
   },
   {
    "duration": 663,
    "start_time": "2021-12-27T08:16:09.619Z"
   },
   {
    "duration": 461,
    "start_time": "2021-12-27T08:16:12.748Z"
   },
   {
    "duration": 288,
    "start_time": "2021-12-27T08:16:32.119Z"
   },
   {
    "duration": 4,
    "start_time": "2021-12-27T08:16:52.320Z"
   },
   {
    "duration": 6,
    "start_time": "2021-12-27T08:17:00.759Z"
   },
   {
    "duration": 4,
    "start_time": "2021-12-27T08:17:41.518Z"
   },
   {
    "duration": 4,
    "start_time": "2021-12-27T08:17:43.001Z"
   },
   {
    "duration": 4,
    "start_time": "2021-12-27T08:17:43.289Z"
   },
   {
    "duration": 5,
    "start_time": "2021-12-27T08:17:44.416Z"
   },
   {
    "duration": 8,
    "start_time": "2021-12-27T08:17:44.424Z"
   },
   {
    "duration": 108,
    "start_time": "2021-12-27T08:17:53.618Z"
   },
   {
    "duration": 28,
    "start_time": "2021-12-27T08:18:10.009Z"
   },
   {
    "duration": 265,
    "start_time": "2021-12-27T08:18:17.762Z"
   },
   {
    "duration": 31,
    "start_time": "2021-12-27T08:18:21.138Z"
   },
   {
    "duration": 30,
    "start_time": "2021-12-27T08:18:24.148Z"
   },
   {
    "duration": 283,
    "start_time": "2021-12-27T08:18:24.529Z"
   },
   {
    "duration": 28,
    "start_time": "2021-12-27T08:18:26.690Z"
   },
   {
    "duration": 29,
    "start_time": "2021-12-27T08:18:30.072Z"
   },
   {
    "duration": 5,
    "start_time": "2021-12-27T08:18:31.134Z"
   },
   {
    "duration": 17,
    "start_time": "2021-12-27T08:18:36.754Z"
   },
   {
    "duration": 19,
    "start_time": "2021-12-27T08:18:43.362Z"
   },
   {
    "duration": 12,
    "start_time": "2021-12-27T08:18:51.983Z"
   },
   {
    "duration": 6,
    "start_time": "2021-12-27T08:20:51.054Z"
   },
   {
    "duration": 9,
    "start_time": "2021-12-27T08:20:54.928Z"
   },
   {
    "duration": 4,
    "start_time": "2021-12-27T08:21:05.757Z"
   },
   {
    "duration": 30,
    "start_time": "2021-12-27T08:21:33.277Z"
   },
   {
    "duration": 5,
    "start_time": "2021-12-27T08:21:45.883Z"
   },
   {
    "duration": 268,
    "start_time": "2021-12-27T08:22:47.242Z"
   },
   {
    "duration": 7,
    "start_time": "2021-12-27T08:22:50.727Z"
   },
   {
    "duration": 4,
    "start_time": "2021-12-27T08:27:46.431Z"
   },
   {
    "duration": 273,
    "start_time": "2021-12-27T08:28:14.157Z"
   },
   {
    "duration": 6,
    "start_time": "2021-12-27T08:28:15.972Z"
   },
   {
    "duration": 281,
    "start_time": "2021-12-27T08:28:29.326Z"
   },
   {
    "duration": 314,
    "start_time": "2021-12-27T08:28:37.108Z"
   },
   {
    "duration": 33754,
    "start_time": "2021-12-27T08:28:57.791Z"
   },
   {
    "duration": 203,
    "start_time": "2021-12-27T08:29:33.857Z"
   },
   {
    "duration": 6,
    "start_time": "2021-12-27T08:30:03.386Z"
   },
   {
    "duration": 8,
    "start_time": "2021-12-27T08:30:12.030Z"
   },
   {
    "duration": 8,
    "start_time": "2021-12-27T08:32:28.874Z"
   },
   {
    "duration": 7,
    "start_time": "2021-12-27T08:32:37.655Z"
   },
   {
    "duration": 8,
    "start_time": "2021-12-27T08:33:20.272Z"
   },
   {
    "duration": 9,
    "start_time": "2021-12-27T08:42:23.472Z"
   },
   {
    "duration": 9,
    "start_time": "2021-12-27T08:44:24.078Z"
   },
   {
    "duration": 7,
    "start_time": "2021-12-27T08:44:32.166Z"
   },
   {
    "duration": 278,
    "start_time": "2021-12-27T08:44:45.886Z"
   },
   {
    "duration": 11,
    "start_time": "2021-12-27T08:44:49.212Z"
   },
   {
    "duration": 8,
    "start_time": "2021-12-27T08:44:55.540Z"
   },
   {
    "duration": 17,
    "start_time": "2021-12-27T08:45:38.538Z"
   },
   {
    "duration": 8,
    "start_time": "2021-12-27T08:45:46.777Z"
   },
   {
    "duration": 9,
    "start_time": "2021-12-27T08:45:51.563Z"
   },
   {
    "duration": 7,
    "start_time": "2021-12-27T08:46:23.981Z"
   },
   {
    "duration": 6,
    "start_time": "2021-12-27T08:47:05.408Z"
   },
   {
    "duration": 347,
    "start_time": "2021-12-27T08:57:22.016Z"
   },
   {
    "duration": 109,
    "start_time": "2021-12-27T11:53:46.789Z"
   },
   {
    "duration": 5,
    "start_time": "2021-12-27T16:20:19.363Z"
   },
   {
    "duration": 3,
    "start_time": "2021-12-27T16:20:19.861Z"
   },
   {
    "duration": 5,
    "start_time": "2021-12-27T16:20:54.272Z"
   },
   {
    "duration": 4,
    "start_time": "2021-12-27T16:20:55.663Z"
   },
   {
    "duration": 83,
    "start_time": "2021-12-27T16:20:56.998Z"
   },
   {
    "duration": 67,
    "start_time": "2021-12-27T16:20:58.835Z"
   },
   {
    "duration": 32,
    "start_time": "2021-12-27T16:21:12.220Z"
   },
   {
    "duration": 5,
    "start_time": "2021-12-27T16:21:18.924Z"
   },
   {
    "duration": 20,
    "start_time": "2021-12-27T16:21:21.979Z"
   },
   {
    "duration": 15,
    "start_time": "2021-12-27T16:21:28.865Z"
   },
   {
    "duration": 5,
    "start_time": "2021-12-27T16:21:32.125Z"
   },
   {
    "duration": 1020,
    "start_time": "2021-12-27T16:21:51.774Z"
   },
   {
    "duration": 5,
    "start_time": "2021-12-27T16:21:54.957Z"
   },
   {
    "duration": 7,
    "start_time": "2021-12-27T16:21:59.607Z"
   },
   {
    "duration": 6,
    "start_time": "2021-12-27T16:23:18.484Z"
   },
   {
    "duration": 6,
    "start_time": "2021-12-27T16:23:26.752Z"
   },
   {
    "duration": 6,
    "start_time": "2021-12-27T16:23:31.185Z"
   },
   {
    "duration": 14,
    "start_time": "2021-12-27T16:23:48.577Z"
   },
   {
    "duration": 16,
    "start_time": "2021-12-27T16:23:59.795Z"
   },
   {
    "duration": 6,
    "start_time": "2021-12-27T16:24:18.434Z"
   },
   {
    "duration": 295,
    "start_time": "2021-12-27T16:24:28.264Z"
   },
   {
    "duration": 215,
    "start_time": "2021-12-27T16:24:44.945Z"
   },
   {
    "duration": 7,
    "start_time": "2021-12-27T16:24:58.918Z"
   },
   {
    "duration": 7,
    "start_time": "2021-12-27T16:24:59.446Z"
   },
   {
    "duration": 223,
    "start_time": "2021-12-27T16:25:01.880Z"
   },
   {
    "duration": 6,
    "start_time": "2021-12-27T16:25:02.993Z"
   },
   {
    "duration": 9,
    "start_time": "2021-12-27T16:25:03.354Z"
   },
   {
    "duration": 19,
    "start_time": "2021-12-27T16:25:16.821Z"
   },
   {
    "duration": 7,
    "start_time": "2021-12-27T16:25:53.631Z"
   },
   {
    "duration": 6,
    "start_time": "2021-12-27T16:26:01.681Z"
   },
   {
    "duration": 9,
    "start_time": "2021-12-27T16:26:23.113Z"
   },
   {
    "duration": 7,
    "start_time": "2021-12-27T16:26:40.141Z"
   },
   {
    "duration": 8,
    "start_time": "2021-12-27T16:26:42.397Z"
   },
   {
    "duration": 6,
    "start_time": "2021-12-27T16:26:47.254Z"
   },
   {
    "duration": 9,
    "start_time": "2021-12-27T16:26:52.583Z"
   },
   {
    "duration": 9,
    "start_time": "2021-12-27T16:26:59.861Z"
   },
   {
    "duration": 6,
    "start_time": "2021-12-27T16:27:01.535Z"
   },
   {
    "duration": 13,
    "start_time": "2021-12-27T16:27:01.881Z"
   },
   {
    "duration": 8,
    "start_time": "2021-12-27T16:27:08.607Z"
   },
   {
    "duration": 8,
    "start_time": "2021-12-27T16:27:11.231Z"
   },
   {
    "duration": 84,
    "start_time": "2021-12-27T16:27:13.212Z"
   },
   {
    "duration": 11,
    "start_time": "2021-12-27T16:27:14.708Z"
   },
   {
    "duration": 9,
    "start_time": "2021-12-27T16:27:21.679Z"
   },
   {
    "duration": 7,
    "start_time": "2021-12-27T16:27:24.223Z"
   },
   {
    "duration": 10,
    "start_time": "2021-12-27T16:27:35.426Z"
   },
   {
    "duration": 6,
    "start_time": "2021-12-27T16:27:36.014Z"
   },
   {
    "duration": 10,
    "start_time": "2021-12-27T16:27:36.455Z"
   },
   {
    "duration": 9,
    "start_time": "2021-12-27T16:27:40.250Z"
   },
   {
    "duration": 308,
    "start_time": "2021-12-27T16:29:06.353Z"
   },
   {
    "duration": 6,
    "start_time": "2021-12-27T16:29:32.173Z"
   },
   {
    "duration": 6,
    "start_time": "2021-12-27T16:29:38.563Z"
   },
   {
    "duration": 533,
    "start_time": "2021-12-27T16:30:13.201Z"
   },
   {
    "duration": 237,
    "start_time": "2021-12-27T16:30:21.408Z"
   },
   {
    "duration": 20,
    "start_time": "2021-12-27T16:33:50.981Z"
   },
   {
    "duration": 283,
    "start_time": "2021-12-27T16:34:02.785Z"
   },
   {
    "duration": 1374,
    "start_time": "2021-12-27T16:37:22.748Z"
   },
   {
    "duration": 7,
    "start_time": "2021-12-27T16:38:51.573Z"
   },
   {
    "duration": 7,
    "start_time": "2021-12-27T16:38:59.314Z"
   },
   {
    "duration": 335,
    "start_time": "2021-12-27T16:39:19.668Z"
   },
   {
    "duration": 299,
    "start_time": "2021-12-27T16:39:28.924Z"
   },
   {
    "duration": 311,
    "start_time": "2021-12-27T16:39:56.579Z"
   },
   {
    "duration": 18,
    "start_time": "2021-12-27T16:41:29.444Z"
   },
   {
    "duration": 8,
    "start_time": "2021-12-27T16:41:41.966Z"
   },
   {
    "duration": 302,
    "start_time": "2021-12-27T16:42:05.331Z"
   },
   {
    "duration": 6,
    "start_time": "2021-12-27T16:43:59.277Z"
   },
   {
    "duration": 6,
    "start_time": "2021-12-27T16:44:06.135Z"
   },
   {
    "duration": 6,
    "start_time": "2021-12-27T16:48:08.365Z"
   },
   {
    "duration": 39,
    "start_time": "2021-12-27T16:48:28.737Z"
   },
   {
    "duration": 8,
    "start_time": "2021-12-27T16:48:42.860Z"
   },
   {
    "duration": 13,
    "start_time": "2021-12-27T16:48:55.001Z"
   },
   {
    "duration": 9,
    "start_time": "2021-12-27T16:48:58.752Z"
   },
   {
    "duration": 7,
    "start_time": "2021-12-27T16:49:18.189Z"
   },
   {
    "duration": 7,
    "start_time": "2021-12-27T16:49:23.025Z"
   },
   {
    "duration": 8,
    "start_time": "2021-12-27T16:50:51.509Z"
   },
   {
    "duration": 310,
    "start_time": "2021-12-27T16:51:12.261Z"
   },
   {
    "duration": 209,
    "start_time": "2021-12-27T16:51:21.741Z"
   },
   {
    "duration": 293,
    "start_time": "2021-12-27T16:52:03.309Z"
   },
   {
    "duration": 19,
    "start_time": "2021-12-27T16:55:46.598Z"
   },
   {
    "duration": 8,
    "start_time": "2021-12-27T16:55:59.014Z"
   },
   {
    "duration": 270,
    "start_time": "2021-12-27T16:56:07.286Z"
   },
   {
    "duration": 20,
    "start_time": "2021-12-27T16:56:47.359Z"
   },
   {
    "duration": 10,
    "start_time": "2021-12-27T16:57:14.680Z"
   },
   {
    "duration": 317,
    "start_time": "2021-12-27T16:57:35.694Z"
   },
   {
    "duration": 247,
    "start_time": "2021-12-27T16:57:52.716Z"
   },
   {
    "duration": 508,
    "start_time": "2021-12-27T16:58:16.846Z"
   },
   {
    "duration": 13,
    "start_time": "2021-12-27T17:00:15.858Z"
   },
   {
    "duration": 13,
    "start_time": "2021-12-27T17:00:20.590Z"
   },
   {
    "duration": 44,
    "start_time": "2021-12-27T17:00:24.042Z"
   },
   {
    "duration": 5,
    "start_time": "2021-12-27T17:00:57.944Z"
   },
   {
    "duration": 6,
    "start_time": "2021-12-27T17:01:04.365Z"
   },
   {
    "duration": 382,
    "start_time": "2021-12-27T17:01:52.022Z"
   },
   {
    "duration": 560,
    "start_time": "2021-12-27T17:01:57.942Z"
   },
   {
    "duration": 3447,
    "start_time": "2021-12-27T17:02:03.302Z"
   },
   {
    "duration": 264,
    "start_time": "2021-12-27T17:02:20.075Z"
   },
   {
    "duration": 22,
    "start_time": "2021-12-27T17:02:21.726Z"
   },
   {
    "duration": 7,
    "start_time": "2021-12-27T17:10:48.288Z"
   },
   {
    "duration": 266,
    "start_time": "2021-12-27T17:11:15.666Z"
   },
   {
    "duration": 7,
    "start_time": "2021-12-27T17:11:22.079Z"
   },
   {
    "duration": 7,
    "start_time": "2021-12-27T17:11:32.531Z"
   },
   {
    "duration": 6,
    "start_time": "2021-12-27T17:13:06.312Z"
   },
   {
    "duration": 18,
    "start_time": "2021-12-27T17:13:33.702Z"
   },
   {
    "duration": 7,
    "start_time": "2021-12-27T17:14:08.565Z"
   },
   {
    "duration": 17,
    "start_time": "2021-12-27T17:14:09.040Z"
   },
   {
    "duration": 7,
    "start_time": "2021-12-27T17:46:44.902Z"
   },
   {
    "duration": 12,
    "start_time": "2021-12-27T17:47:09.628Z"
   },
   {
    "duration": 7,
    "start_time": "2021-12-27T17:49:28.629Z"
   },
   {
    "duration": 259,
    "start_time": "2021-12-27T17:49:38.484Z"
   },
   {
    "duration": 532,
    "start_time": "2021-12-27T17:49:44.742Z"
   },
   {
    "duration": 9,
    "start_time": "2021-12-27T17:49:51.521Z"
   },
   {
    "duration": 38,
    "start_time": "2021-12-27T17:49:55.791Z"
   },
   {
    "duration": 8,
    "start_time": "2021-12-27T17:50:20.069Z"
   },
   {
    "duration": 6,
    "start_time": "2021-12-27T17:51:03.871Z"
   },
   {
    "duration": 31,
    "start_time": "2021-12-27T17:51:07.037Z"
   },
   {
    "duration": 6,
    "start_time": "2021-12-27T17:53:32.909Z"
   },
   {
    "duration": 6,
    "start_time": "2021-12-27T17:54:46.319Z"
   },
   {
    "duration": 8,
    "start_time": "2021-12-27T17:56:48.563Z"
   },
   {
    "duration": 4,
    "start_time": "2021-12-27T17:57:52.617Z"
   },
   {
    "duration": 7,
    "start_time": "2021-12-27T17:58:58.481Z"
   },
   {
    "duration": 457,
    "start_time": "2021-12-27T17:59:03.591Z"
   },
   {
    "duration": 414,
    "start_time": "2021-12-27T17:59:09.512Z"
   },
   {
    "duration": 11,
    "start_time": "2021-12-27T17:59:18.007Z"
   },
   {
    "duration": 415,
    "start_time": "2021-12-27T17:59:23.742Z"
   },
   {
    "duration": 806,
    "start_time": "2021-12-27T17:59:40.047Z"
   },
   {
    "duration": 430,
    "start_time": "2021-12-27T17:59:46.267Z"
   },
   {
    "duration": 6,
    "start_time": "2021-12-27T17:59:50.545Z"
   },
   {
    "duration": 8,
    "start_time": "2021-12-27T18:00:02.239Z"
   },
   {
    "duration": 7,
    "start_time": "2021-12-27T18:00:07.256Z"
   },
   {
    "duration": 443,
    "start_time": "2021-12-27T18:00:12.018Z"
   },
   {
    "duration": 24,
    "start_time": "2021-12-27T18:00:14.373Z"
   },
   {
    "duration": 13,
    "start_time": "2021-12-27T18:00:16.960Z"
   },
   {
    "duration": 4,
    "start_time": "2021-12-27T18:00:29.811Z"
   },
   {
    "duration": 5,
    "start_time": "2021-12-27T18:01:11.143Z"
   },
   {
    "duration": 279,
    "start_time": "2021-12-27T18:03:04.342Z"
   },
   {
    "duration": 5,
    "start_time": "2021-12-27T18:03:18.427Z"
   },
   {
    "duration": 19,
    "start_time": "2021-12-27T18:03:25.066Z"
   },
   {
    "duration": 32,
    "start_time": "2021-12-27T18:03:26.597Z"
   },
   {
    "duration": 5,
    "start_time": "2021-12-27T18:07:39.957Z"
   },
   {
    "duration": 13,
    "start_time": "2021-12-27T18:09:59.743Z"
   },
   {
    "duration": 13,
    "start_time": "2021-12-27T18:10:27.476Z"
   },
   {
    "duration": 583,
    "start_time": "2021-12-27T18:11:30.036Z"
   },
   {
    "duration": 39,
    "start_time": "2021-12-27T18:11:31.296Z"
   },
   {
    "duration": 36,
    "start_time": "2021-12-27T18:12:19.928Z"
   },
   {
    "duration": 11,
    "start_time": "2021-12-27T18:13:12.719Z"
   },
   {
    "duration": 29,
    "start_time": "2021-12-27T18:13:13.939Z"
   },
   {
    "duration": 14,
    "start_time": "2021-12-27T18:13:54.729Z"
   },
   {
    "duration": 36,
    "start_time": "2021-12-27T18:14:33.537Z"
   },
   {
    "duration": 11,
    "start_time": "2021-12-27T18:14:42.748Z"
   },
   {
    "duration": 30,
    "start_time": "2021-12-27T18:14:43.326Z"
   },
   {
    "duration": 12,
    "start_time": "2021-12-27T18:14:51.302Z"
   },
   {
    "duration": 7,
    "start_time": "2021-12-27T18:15:15.278Z"
   },
   {
    "duration": 35,
    "start_time": "2021-12-27T18:15:17.697Z"
   },
   {
    "duration": 12,
    "start_time": "2021-12-27T18:15:29.118Z"
   },
   {
    "duration": 17,
    "start_time": "2021-12-27T18:15:33.278Z"
   },
   {
    "duration": 8,
    "start_time": "2021-12-27T18:15:59.630Z"
   },
   {
    "duration": 8,
    "start_time": "2021-12-27T18:16:00.440Z"
   },
   {
    "duration": 1157,
    "start_time": "2021-12-28T06:33:55.432Z"
   },
   {
    "duration": 517,
    "start_time": "2021-12-28T06:33:58.320Z"
   },
   {
    "duration": 13,
    "start_time": "2021-12-28T06:34:00.577Z"
   },
   {
    "duration": 4,
    "start_time": "2021-12-28T06:34:20.708Z"
   },
   {
    "duration": 3,
    "start_time": "2021-12-28T06:34:21.118Z"
   },
   {
    "duration": 28,
    "start_time": "2021-12-28T06:34:22.537Z"
   },
   {
    "duration": 5,
    "start_time": "2021-12-28T06:34:22.959Z"
   },
   {
    "duration": 17,
    "start_time": "2021-12-28T06:34:24.023Z"
   },
   {
    "duration": 10,
    "start_time": "2021-12-28T06:34:25.412Z"
   },
   {
    "duration": 4,
    "start_time": "2021-12-28T06:34:29.613Z"
   },
   {
    "duration": 4,
    "start_time": "2021-12-28T06:34:29.886Z"
   },
   {
    "duration": 5,
    "start_time": "2021-12-28T06:34:31.293Z"
   },
   {
    "duration": 6,
    "start_time": "2021-12-28T06:34:31.944Z"
   },
   {
    "duration": 10,
    "start_time": "2021-12-28T06:34:35.415Z"
   },
   {
    "duration": 12,
    "start_time": "2021-12-28T06:34:35.967Z"
   },
   {
    "duration": 4,
    "start_time": "2021-12-28T06:34:38.227Z"
   },
   {
    "duration": 179,
    "start_time": "2021-12-28T06:34:39.946Z"
   },
   {
    "duration": 129,
    "start_time": "2021-12-28T06:34:41.637Z"
   },
   {
    "duration": 4,
    "start_time": "2021-12-28T06:34:43.340Z"
   },
   {
    "duration": 5,
    "start_time": "2021-12-28T06:34:43.816Z"
   },
   {
    "duration": 12,
    "start_time": "2021-12-28T06:34:44.261Z"
   },
   {
    "duration": 5,
    "start_time": "2021-12-28T06:34:48.075Z"
   },
   {
    "duration": 5,
    "start_time": "2021-12-28T06:34:48.585Z"
   },
   {
    "duration": 7,
    "start_time": "2021-12-28T06:34:50.628Z"
   },
   {
    "duration": 7,
    "start_time": "2021-12-28T06:34:51.334Z"
   },
   {
    "duration": 6,
    "start_time": "2021-12-28T06:34:53.599Z"
   },
   {
    "duration": 5,
    "start_time": "2021-12-28T06:34:54.683Z"
   },
   {
    "duration": 8,
    "start_time": "2021-12-28T06:34:55.026Z"
   },
   {
    "duration": 179,
    "start_time": "2021-12-28T06:34:56.913Z"
   },
   {
    "duration": 4,
    "start_time": "2021-12-28T06:34:58.884Z"
   },
   {
    "duration": 5,
    "start_time": "2021-12-28T06:34:59.132Z"
   },
   {
    "duration": 138,
    "start_time": "2021-12-28T06:35:01.426Z"
   },
   {
    "duration": 15,
    "start_time": "2021-12-28T06:35:04.002Z"
   },
   {
    "duration": 169,
    "start_time": "2021-12-28T06:35:05.302Z"
   },
   {
    "duration": 5,
    "start_time": "2021-12-28T06:35:09.078Z"
   },
   {
    "duration": 10,
    "start_time": "2021-12-28T06:36:45.847Z"
   },
   {
    "duration": 88,
    "start_time": "2021-12-28T06:37:08.945Z"
   },
   {
    "duration": 9,
    "start_time": "2021-12-28T06:37:14.612Z"
   },
   {
    "duration": 13,
    "start_time": "2021-12-28T06:37:21.764Z"
   },
   {
    "duration": 181,
    "start_time": "2021-12-28T06:37:32.849Z"
   },
   {
    "duration": 4,
    "start_time": "2021-12-28T06:37:34.366Z"
   },
   {
    "duration": 5,
    "start_time": "2021-12-28T06:37:34.808Z"
   },
   {
    "duration": 6,
    "start_time": "2021-12-28T06:37:35.292Z"
   },
   {
    "duration": 5,
    "start_time": "2021-12-28T06:37:40.082Z"
   },
   {
    "duration": 168,
    "start_time": "2021-12-28T06:37:41.023Z"
   },
   {
    "duration": 262,
    "start_time": "2021-12-28T07:03:39.288Z"
   },
   {
    "duration": 177,
    "start_time": "2021-12-28T07:03:42.510Z"
   },
   {
    "duration": 5,
    "start_time": "2021-12-28T07:03:44.205Z"
   },
   {
    "duration": 5,
    "start_time": "2021-12-28T07:03:44.652Z"
   },
   {
    "duration": 7,
    "start_time": "2021-12-28T07:03:46.792Z"
   },
   {
    "duration": 5,
    "start_time": "2021-12-28T07:03:56.749Z"
   },
   {
    "duration": 180,
    "start_time": "2021-12-28T07:03:57.347Z"
   },
   {
    "duration": 189,
    "start_time": "2021-12-28T07:04:01.156Z"
   },
   {
    "duration": 188,
    "start_time": "2021-12-28T07:04:05.776Z"
   },
   {
    "duration": 154,
    "start_time": "2021-12-28T07:04:08.688Z"
   },
   {
    "duration": 288,
    "start_time": "2021-12-28T07:04:12.079Z"
   },
   {
    "duration": 5,
    "start_time": "2021-12-28T07:04:19.836Z"
   },
   {
    "duration": 5,
    "start_time": "2021-12-28T07:04:20.299Z"
   },
   {
    "duration": 1823,
    "start_time": "2021-12-28T07:04:20.788Z"
   },
   {
    "duration": 1146,
    "start_time": "2021-12-28T07:05:00.365Z"
   },
   {
    "duration": 16,
    "start_time": "2021-12-28T07:06:34.104Z"
   },
   {
    "duration": 5,
    "start_time": "2021-12-28T07:06:36.504Z"
   },
   {
    "duration": 7,
    "start_time": "2021-12-28T07:06:37.719Z"
   },
   {
    "duration": 5,
    "start_time": "2021-12-28T07:06:54.542Z"
   },
   {
    "duration": 12,
    "start_time": "2021-12-28T07:06:55.178Z"
   },
   {
    "duration": 9,
    "start_time": "2021-12-28T07:06:57.238Z"
   },
   {
    "duration": 6,
    "start_time": "2021-12-28T07:07:09.835Z"
   },
   {
    "duration": 4,
    "start_time": "2021-12-28T07:07:11.885Z"
   },
   {
    "duration": 7,
    "start_time": "2021-12-28T07:07:33.168Z"
   },
   {
    "duration": 18,
    "start_time": "2021-12-28T07:07:34.423Z"
   },
   {
    "duration": 10,
    "start_time": "2021-12-28T07:07:57.628Z"
   },
   {
    "duration": 12,
    "start_time": "2021-12-28T07:07:58.590Z"
   },
   {
    "duration": 6,
    "start_time": "2021-12-28T07:08:09.832Z"
   },
   {
    "duration": 6,
    "start_time": "2021-12-28T07:08:17.405Z"
   },
   {
    "duration": 12,
    "start_time": "2021-12-28T07:09:11.049Z"
   },
   {
    "duration": 6,
    "start_time": "2021-12-28T07:09:23.678Z"
   },
   {
    "duration": 6,
    "start_time": "2021-12-28T07:09:24.139Z"
   },
   {
    "duration": 7,
    "start_time": "2021-12-28T07:09:35.577Z"
   },
   {
    "duration": 4,
    "start_time": "2021-12-28T07:09:54.224Z"
   },
   {
    "duration": 6,
    "start_time": "2021-12-28T07:10:32.872Z"
   },
   {
    "duration": 4,
    "start_time": "2021-12-28T07:10:36.163Z"
   },
   {
    "duration": 6,
    "start_time": "2021-12-28T07:10:44.283Z"
   },
   {
    "duration": 4,
    "start_time": "2021-12-28T07:10:44.495Z"
   },
   {
    "duration": 421,
    "start_time": "2021-12-28T07:11:52.232Z"
   },
   {
    "duration": 3,
    "start_time": "2021-12-28T07:11:58.399Z"
   },
   {
    "duration": 8,
    "start_time": "2021-12-28T07:11:59.269Z"
   },
   {
    "duration": 17,
    "start_time": "2021-12-28T07:12:13.396Z"
   },
   {
    "duration": 3,
    "start_time": "2021-12-28T07:12:24.266Z"
   },
   {
    "duration": 3,
    "start_time": "2021-12-28T07:12:37.467Z"
   },
   {
    "duration": 3,
    "start_time": "2021-12-28T07:12:50.870Z"
   },
   {
    "duration": 15,
    "start_time": "2021-12-28T07:12:56.245Z"
   },
   {
    "duration": 7,
    "start_time": "2021-12-28T07:13:00.574Z"
   },
   {
    "duration": 14,
    "start_time": "2021-12-28T07:14:13.067Z"
   },
   {
    "duration": 9,
    "start_time": "2021-12-28T07:16:05.674Z"
   },
   {
    "duration": 10,
    "start_time": "2021-12-28T07:24:15.145Z"
   },
   {
    "duration": 10,
    "start_time": "2021-12-28T07:24:18.408Z"
   },
   {
    "duration": 10,
    "start_time": "2021-12-28T07:24:50.589Z"
   },
   {
    "duration": 10,
    "start_time": "2021-12-28T07:25:14.291Z"
   },
   {
    "duration": 254,
    "start_time": "2021-12-28T07:25:17.304Z"
   },
   {
    "duration": 9,
    "start_time": "2021-12-28T07:25:23.277Z"
   },
   {
    "duration": 9,
    "start_time": "2021-12-28T07:25:28.876Z"
   },
   {
    "duration": 267,
    "start_time": "2021-12-28T07:29:17.413Z"
   },
   {
    "duration": 27487,
    "start_time": "2021-12-28T07:29:36.490Z"
   },
   {
    "duration": 2917,
    "start_time": "2021-12-28T07:32:22.378Z"
   },
   {
    "duration": 6,
    "start_time": "2021-12-28T07:54:33.974Z"
   },
   {
    "duration": 5,
    "start_time": "2021-12-28T07:54:34.961Z"
   },
   {
    "duration": 4,
    "start_time": "2021-12-28T07:54:35.312Z"
   },
   {
    "duration": 3,
    "start_time": "2021-12-28T07:54:35.658Z"
   },
   {
    "duration": 9,
    "start_time": "2021-12-28T07:54:35.897Z"
   },
   {
    "duration": 3,
    "start_time": "2021-12-28T07:54:36.077Z"
   },
   {
    "duration": 3,
    "start_time": "2021-12-28T07:54:36.253Z"
   },
   {
    "duration": 8,
    "start_time": "2021-12-28T07:54:36.455Z"
   },
   {
    "duration": 14,
    "start_time": "2021-12-28T07:54:37.548Z"
   },
   {
    "duration": 14,
    "start_time": "2021-12-28T07:54:38.502Z"
   },
   {
    "duration": 12,
    "start_time": "2021-12-28T07:54:38.970Z"
   },
   {
    "duration": 13,
    "start_time": "2021-12-28T07:54:39.362Z"
   },
   {
    "duration": 15,
    "start_time": "2021-12-28T07:54:39.717Z"
   },
   {
    "duration": 5529,
    "start_time": "2021-12-28T07:54:40.249Z"
   },
   {
    "duration": 8,
    "start_time": "2021-12-28T07:54:45.780Z"
   },
   {
    "duration": 115,
    "start_time": "2021-12-28T09:49:14.315Z"
   },
   {
    "duration": 5,
    "start_time": "2021-12-28T09:49:25.201Z"
   },
   {
    "duration": 16,
    "start_time": "2021-12-28T09:49:39.733Z"
   },
   {
    "duration": 276,
    "start_time": "2021-12-28T09:50:07.220Z"
   },
   {
    "duration": 11,
    "start_time": "2021-12-28T09:50:17.594Z"
   },
   {
    "duration": 450,
    "start_time": "2021-12-28T09:51:35.204Z"
   },
   {
    "duration": 6,
    "start_time": "2021-12-28T09:51:42.496Z"
   },
   {
    "duration": 3,
    "start_time": "2021-12-28T09:51:46.182Z"
   },
   {
    "duration": 8,
    "start_time": "2021-12-28T09:51:56.289Z"
   },
   {
    "duration": 15,
    "start_time": "2021-12-28T09:52:15.890Z"
   },
   {
    "duration": 9,
    "start_time": "2021-12-28T09:55:35.662Z"
   },
   {
    "duration": 12,
    "start_time": "2021-12-28T09:55:38.153Z"
   },
   {
    "duration": 9,
    "start_time": "2021-12-28T09:55:54.605Z"
   },
   {
    "duration": 20,
    "start_time": "2021-12-28T09:56:04.864Z"
   },
   {
    "duration": 20,
    "start_time": "2021-12-28T09:56:31.889Z"
   },
   {
    "duration": 7,
    "start_time": "2021-12-28T09:57:28.742Z"
   },
   {
    "duration": 13,
    "start_time": "2021-12-28T09:57:37.531Z"
   },
   {
    "duration": 8,
    "start_time": "2021-12-28T10:03:29.454Z"
   },
   {
    "duration": 6,
    "start_time": "2021-12-28T10:03:30.617Z"
   },
   {
    "duration": 4,
    "start_time": "2021-12-28T10:03:31.160Z"
   },
   {
    "duration": 3,
    "start_time": "2021-12-28T10:03:31.662Z"
   },
   {
    "duration": 9,
    "start_time": "2021-12-28T10:03:31.875Z"
   },
   {
    "duration": 3,
    "start_time": "2021-12-28T10:03:32.209Z"
   },
   {
    "duration": 3,
    "start_time": "2021-12-28T10:03:32.371Z"
   },
   {
    "duration": 7,
    "start_time": "2021-12-28T10:03:32.529Z"
   },
   {
    "duration": 13,
    "start_time": "2021-12-28T10:03:32.899Z"
   },
   {
    "duration": 11,
    "start_time": "2021-12-28T10:03:33.250Z"
   },
   {
    "duration": 10,
    "start_time": "2021-12-28T10:03:33.414Z"
   },
   {
    "duration": 12,
    "start_time": "2021-12-28T10:03:33.587Z"
   },
   {
    "duration": 13,
    "start_time": "2021-12-28T10:03:33.770Z"
   },
   {
    "duration": 5759,
    "start_time": "2021-12-28T10:03:33.993Z"
   },
   {
    "duration": 11,
    "start_time": "2021-12-28T10:03:39.754Z"
   },
   {
    "duration": 41,
    "start_time": "2021-12-28T10:03:39.768Z"
   },
   {
    "duration": 23,
    "start_time": "2021-12-28T10:03:39.811Z"
   },
   {
    "duration": 25,
    "start_time": "2021-12-28T10:03:39.835Z"
   },
   {
    "duration": 22,
    "start_time": "2021-12-28T10:03:39.862Z"
   },
   {
    "duration": 29,
    "start_time": "2021-12-28T10:03:39.886Z"
   },
   {
    "duration": 39,
    "start_time": "2021-12-28T10:03:39.918Z"
   },
   {
    "duration": 4,
    "start_time": "2021-12-28T10:07:36.310Z"
   },
   {
    "duration": 2,
    "start_time": "2021-12-28T10:12:44.077Z"
   },
   {
    "duration": 3,
    "start_time": "2021-12-28T10:13:31.998Z"
   },
   {
    "duration": 5,
    "start_time": "2021-12-28T10:13:49.488Z"
   },
   {
    "duration": 89,
    "start_time": "2021-12-28T10:18:20.248Z"
   },
   {
    "duration": 3,
    "start_time": "2021-12-28T10:18:23.825Z"
   },
   {
    "duration": 3,
    "start_time": "2021-12-28T10:18:58.296Z"
   },
   {
    "duration": 614,
    "start_time": "2021-12-28T10:19:21.893Z"
   },
   {
    "duration": 135712,
    "start_time": "2021-12-28T10:19:25.559Z"
   },
   {
    "duration": 4,
    "start_time": "2021-12-28T10:22:05.444Z"
   },
   {
    "duration": 4,
    "start_time": "2021-12-28T10:22:24.629Z"
   },
   {
    "duration": 21,
    "start_time": "2021-12-28T10:25:08.824Z"
   },
   {
    "duration": 21,
    "start_time": "2021-12-28T10:25:16.011Z"
   },
   {
    "duration": 10,
    "start_time": "2021-12-28T10:25:47.135Z"
   },
   {
    "duration": 13,
    "start_time": "2021-12-28T10:27:48.188Z"
   },
   {
    "duration": 15,
    "start_time": "2021-12-28T10:28:22.021Z"
   },
   {
    "duration": 11,
    "start_time": "2021-12-28T10:28:48.014Z"
   },
   {
    "duration": 10,
    "start_time": "2021-12-28T10:28:54.516Z"
   },
   {
    "duration": 8,
    "start_time": "2021-12-28T10:30:53.772Z"
   },
   {
    "duration": 8,
    "start_time": "2021-12-28T10:31:13.367Z"
   },
   {
    "duration": 8,
    "start_time": "2021-12-28T10:31:21.198Z"
   },
   {
    "duration": 86,
    "start_time": "2021-12-28T10:31:46.676Z"
   },
   {
    "duration": 14,
    "start_time": "2021-12-28T10:32:07.024Z"
   },
   {
    "duration": 7,
    "start_time": "2021-12-28T10:32:14.546Z"
   },
   {
    "duration": 7,
    "start_time": "2021-12-28T10:32:59.499Z"
   },
   {
    "duration": 13,
    "start_time": "2021-12-28T10:35:07.867Z"
   },
   {
    "duration": 3,
    "start_time": "2021-12-28T10:35:08.679Z"
   },
   {
    "duration": 1278387,
    "start_time": "2021-12-28T10:35:09.468Z"
   },
   {
    "duration": -403195,
    "start_time": "2021-12-28T11:03:11.052Z"
   },
   {
    "duration": -403200,
    "start_time": "2021-12-28T11:03:11.058Z"
   },
   {
    "duration": -403204,
    "start_time": "2021-12-28T11:03:11.063Z"
   },
   {
    "duration": -403208,
    "start_time": "2021-12-28T11:03:11.068Z"
   },
   {
    "duration": -403212,
    "start_time": "2021-12-28T11:03:11.073Z"
   },
   {
    "duration": 3,
    "start_time": "2021-12-28T10:56:41.242Z"
   },
   {
    "duration": 3,
    "start_time": "2021-12-28T10:56:43.564Z"
   },
   {
    "duration": 3,
    "start_time": "2021-12-28T10:56:44.020Z"
   },
   {
    "duration": 134914,
    "start_time": "2021-12-28T10:56:47.017Z"
   },
   {
    "duration": 5,
    "start_time": "2021-12-28T10:59:21.723Z"
   },
   {
    "duration": 4,
    "start_time": "2021-12-28T10:59:24.354Z"
   },
   {
    "duration": 20,
    "start_time": "2021-12-28T10:59:25.145Z"
   },
   {
    "duration": 12,
    "start_time": "2021-12-28T10:59:26.690Z"
   },
   {
    "duration": 8,
    "start_time": "2021-12-28T10:59:39.906Z"
   },
   {
    "duration": 10,
    "start_time": "2021-12-28T10:59:40.777Z"
   },
   {
    "duration": 9,
    "start_time": "2021-12-28T10:59:41.506Z"
   },
   {
    "duration": 10,
    "start_time": "2021-12-28T10:59:44.380Z"
   },
   {
    "duration": 7,
    "start_time": "2021-12-28T11:00:26.853Z"
   },
   {
    "duration": 8,
    "start_time": "2021-12-28T11:00:27.160Z"
   },
   {
    "duration": 8,
    "start_time": "2021-12-28T11:00:27.501Z"
   },
   {
    "duration": 8,
    "start_time": "2021-12-28T11:00:28.406Z"
   },
   {
    "duration": 4,
    "start_time": "2021-12-28T11:01:41.858Z"
   },
   {
    "duration": 5,
    "start_time": "2021-12-28T11:01:47.397Z"
   },
   {
    "duration": 7,
    "start_time": "2021-12-28T11:02:52.471Z"
   },
   {
    "duration": 7,
    "start_time": "2021-12-28T11:02:57.966Z"
   },
   {
    "duration": 315,
    "start_time": "2021-12-28T11:05:16.015Z"
   },
   {
    "duration": 11,
    "start_time": "2021-12-28T11:05:23.533Z"
   },
   {
    "duration": 263,
    "start_time": "2021-12-28T11:05:27.879Z"
   },
   {
    "duration": 4,
    "start_time": "2021-12-28T11:06:21.006Z"
   },
   {
    "duration": 293,
    "start_time": "2021-12-28T11:06:29.449Z"
   },
   {
    "duration": 11,
    "start_time": "2021-12-28T11:07:22.580Z"
   },
   {
    "duration": 258,
    "start_time": "2021-12-28T11:07:31.697Z"
   },
   {
    "duration": 9,
    "start_time": "2021-12-28T11:07:33.936Z"
   },
   {
    "duration": 5,
    "start_time": "2021-12-28T11:07:34.244Z"
   },
   {
    "duration": 4,
    "start_time": "2021-12-28T11:07:38.108Z"
   },
   {
    "duration": 4,
    "start_time": "2021-12-28T11:08:41.275Z"
   },
   {
    "duration": 12,
    "start_time": "2021-12-28T11:08:46.158Z"
   },
   {
    "duration": 166,
    "start_time": "2021-12-28T11:10:41.429Z"
   },
   {
    "duration": 4,
    "start_time": "2021-12-28T11:23:21.506Z"
   },
   {
    "duration": 4,
    "start_time": "2021-12-28T11:24:03.365Z"
   },
   {
    "duration": 3,
    "start_time": "2021-12-28T11:24:46.315Z"
   },
   {
    "duration": 3,
    "start_time": "2021-12-28T11:25:24.502Z"
   },
   {
    "duration": 4,
    "start_time": "2021-12-28T11:25:25.595Z"
   },
   {
    "duration": 250,
    "start_time": "2021-12-28T11:25:28.590Z"
   },
   {
    "duration": 3,
    "start_time": "2021-12-28T11:25:33.702Z"
   },
   {
    "duration": 3,
    "start_time": "2021-12-28T11:25:34.746Z"
   },
   {
    "duration": 32140,
    "start_time": "2021-12-28T11:25:39.057Z"
   },
   {
    "duration": 5,
    "start_time": "2021-12-28T11:26:38.962Z"
   },
   {
    "duration": 4,
    "start_time": "2021-12-28T11:26:48.879Z"
   },
   {
    "duration": 9,
    "start_time": "2021-12-28T11:27:40.169Z"
   },
   {
    "duration": 6,
    "start_time": "2021-12-28T11:27:58.190Z"
   },
   {
    "duration": 8,
    "start_time": "2021-12-28T11:28:08.245Z"
   },
   {
    "duration": 7,
    "start_time": "2021-12-28T11:28:20.691Z"
   },
   {
    "duration": 89,
    "start_time": "2021-12-28T11:28:44.308Z"
   },
   {
    "duration": 7,
    "start_time": "2021-12-28T11:28:46.269Z"
   },
   {
    "duration": 3,
    "start_time": "2021-12-28T11:33:17.521Z"
   },
   {
    "duration": 251,
    "start_time": "2021-12-28T11:33:36.096Z"
   },
   {
    "duration": 23,
    "start_time": "2021-12-28T11:33:48.264Z"
   },
   {
    "duration": 22,
    "start_time": "2021-12-28T11:33:56.097Z"
   },
   {
    "duration": 8,
    "start_time": "2021-12-28T11:34:07.588Z"
   },
   {
    "duration": 8,
    "start_time": "2021-12-28T11:34:20.550Z"
   },
   {
    "duration": 10,
    "start_time": "2021-12-28T11:35:21.242Z"
   },
   {
    "duration": 9,
    "start_time": "2021-12-28T11:35:32.569Z"
   },
   {
    "duration": 8,
    "start_time": "2021-12-28T11:35:37.673Z"
   },
   {
    "duration": 7,
    "start_time": "2021-12-28T11:35:58.298Z"
   },
   {
    "duration": 280,
    "start_time": "2021-12-28T11:57:14.775Z"
   },
   {
    "duration": 3,
    "start_time": "2021-12-28T11:57:40.389Z"
   },
   {
    "duration": 296,
    "start_time": "2021-12-28T11:57:40.814Z"
   },
   {
    "duration": 3,
    "start_time": "2021-12-28T11:58:51.864Z"
   },
   {
    "duration": 24521,
    "start_time": "2021-12-28T11:58:54.107Z"
   },
   {
    "duration": 5,
    "start_time": "2021-12-28T11:59:25.075Z"
   },
   {
    "duration": 20365,
    "start_time": "2021-12-28T11:59:34.002Z"
   },
   {
    "duration": 4,
    "start_time": "2021-12-28T11:59:54.368Z"
   },
   {
    "duration": 15,
    "start_time": "2021-12-28T11:59:54.374Z"
   },
   {
    "duration": 2,
    "start_time": "2021-12-28T12:00:05.548Z"
   },
   {
    "duration": 4,
    "start_time": "2021-12-28T12:00:06.402Z"
   },
   {
    "duration": 3,
    "start_time": "2021-12-28T12:00:08.104Z"
   },
   {
    "duration": 4,
    "start_time": "2021-12-28T12:00:08.480Z"
   },
   {
    "duration": 78221,
    "start_time": "2021-12-28T12:00:08.918Z"
   },
   {
    "duration": 4,
    "start_time": "2021-12-28T12:01:27.141Z"
   },
   {
    "duration": 18,
    "start_time": "2021-12-28T12:01:27.147Z"
   },
   {
    "duration": 4,
    "start_time": "2021-12-28T12:01:59.956Z"
   },
   {
    "duration": 5,
    "start_time": "2021-12-28T12:02:01.280Z"
   },
   {
    "duration": 13,
    "start_time": "2021-12-28T12:02:04.916Z"
   },
   {
    "duration": 12,
    "start_time": "2021-12-28T12:02:05.298Z"
   },
   {
    "duration": 8,
    "start_time": "2021-12-28T12:02:11.536Z"
   },
   {
    "duration": 10,
    "start_time": "2021-12-28T12:02:14.946Z"
   },
   {
    "duration": 10,
    "start_time": "2021-12-28T12:02:15.700Z"
   },
   {
    "duration": 9,
    "start_time": "2021-12-28T12:02:18.986Z"
   },
   {
    "duration": 7,
    "start_time": "2021-12-28T12:02:19.328Z"
   },
   {
    "duration": 7,
    "start_time": "2021-12-28T12:02:19.849Z"
   },
   {
    "duration": 8,
    "start_time": "2021-12-28T12:02:24.438Z"
   },
   {
    "duration": 9,
    "start_time": "2021-12-28T12:02:25.193Z"
   },
   {
    "duration": 4,
    "start_time": "2021-12-28T12:02:25.703Z"
   },
   {
    "duration": 11,
    "start_time": "2021-12-28T12:02:27.666Z"
   },
   {
    "duration": 10,
    "start_time": "2021-12-28T12:02:30.151Z"
   },
   {
    "duration": 7,
    "start_time": "2021-12-28T12:02:30.470Z"
   },
   {
    "duration": 5,
    "start_time": "2021-12-28T12:02:30.844Z"
   },
   {
    "duration": 4,
    "start_time": "2021-12-28T12:02:31.341Z"
   },
   {
    "duration": 165,
    "start_time": "2021-12-28T12:02:32.297Z"
   },
   {
    "duration": 3,
    "start_time": "2021-12-28T12:02:57.146Z"
   },
   {
    "duration": 4,
    "start_time": "2021-12-28T12:02:58.504Z"
   },
   {
    "duration": 5,
    "start_time": "2021-12-28T12:02:58.734Z"
   },
   {
    "duration": 4,
    "start_time": "2021-12-28T12:03:23.986Z"
   },
   {
    "duration": 405267,
    "start_time": "2021-12-28T12:03:25.594Z"
   },
   {
    "duration": 5,
    "start_time": "2021-12-28T12:10:10.864Z"
   },
   {
    "duration": 7,
    "start_time": "2021-12-28T12:10:10.871Z"
   },
   {
    "duration": 4,
    "start_time": "2021-12-28T12:10:20.234Z"
   },
   {
    "duration": 4,
    "start_time": "2021-12-28T12:10:20.725Z"
   },
   {
    "duration": 10,
    "start_time": "2021-12-28T12:10:21.226Z"
   },
   {
    "duration": 7,
    "start_time": "2021-12-28T12:10:21.945Z"
   },
   {
    "duration": 7,
    "start_time": "2021-12-28T12:10:23.045Z"
   },
   {
    "duration": 7,
    "start_time": "2021-12-28T12:10:24.432Z"
   },
   {
    "duration": 8,
    "start_time": "2021-12-28T13:16:33.600Z"
   },
   {
    "duration": 14,
    "start_time": "2021-12-28T13:16:40.928Z"
   },
   {
    "duration": 8,
    "start_time": "2021-12-28T13:16:41.276Z"
   },
   {
    "duration": 7,
    "start_time": "2021-12-28T13:16:41.900Z"
   },
   {
    "duration": 10,
    "start_time": "2021-12-28T13:16:43.616Z"
   },
   {
    "duration": 8,
    "start_time": "2021-12-28T13:16:46.764Z"
   },
   {
    "duration": 94,
    "start_time": "2021-12-28T13:17:57.616Z"
   },
   {
    "duration": 6,
    "start_time": "2021-12-28T13:18:16.155Z"
   },
   {
    "duration": 4,
    "start_time": "2021-12-28T13:19:19.746Z"
   },
   {
    "duration": 329,
    "start_time": "2021-12-28T13:19:21.277Z"
   },
   {
    "duration": 24,
    "start_time": "2021-12-28T13:19:26.989Z"
   },
   {
    "duration": 9,
    "start_time": "2021-12-28T13:19:27.400Z"
   },
   {
    "duration": 8,
    "start_time": "2021-12-28T13:19:32.979Z"
   },
   {
    "duration": 10,
    "start_time": "2021-12-28T13:19:34.419Z"
   },
   {
    "duration": 8,
    "start_time": "2021-12-28T13:19:35.136Z"
   },
   {
    "duration": 7,
    "start_time": "2021-12-28T13:19:38.427Z"
   },
   {
    "duration": 7,
    "start_time": "2021-12-28T13:19:39.620Z"
   },
   {
    "duration": 7,
    "start_time": "2021-12-28T13:20:05.704Z"
   },
   {
    "duration": 268,
    "start_time": "2021-12-28T13:21:23.090Z"
   },
   {
    "duration": 362,
    "start_time": "2021-12-28T13:21:31.279Z"
   },
   {
    "duration": 7,
    "start_time": "2021-12-28T13:21:39.692Z"
   },
   {
    "duration": 7,
    "start_time": "2021-12-28T13:23:10.148Z"
   },
   {
    "duration": 6,
    "start_time": "2021-12-28T13:23:14.139Z"
   },
   {
    "duration": 3,
    "start_time": "2021-12-28T13:27:36.118Z"
   },
   {
    "duration": 4,
    "start_time": "2021-12-28T13:30:33.102Z"
   },
   {
    "duration": 258,
    "start_time": "2021-12-28T13:31:22.755Z"
   },
   {
    "duration": 515,
    "start_time": "2021-12-28T13:31:34.387Z"
   },
   {
    "duration": 518,
    "start_time": "2021-12-28T13:32:13.003Z"
   },
   {
    "duration": 5,
    "start_time": "2021-12-28T13:32:27.525Z"
   },
   {
    "duration": 16,
    "start_time": "2021-12-28T13:32:35.573Z"
   },
   {
    "duration": 11,
    "start_time": "2021-12-28T13:32:54.400Z"
   },
   {
    "duration": 161,
    "start_time": "2021-12-28T13:32:59.677Z"
   },
   {
    "duration": 136,
    "start_time": "2021-12-28T13:33:05.064Z"
   },
   {
    "duration": 22,
    "start_time": "2021-12-28T13:33:09.159Z"
   },
   {
    "duration": 7,
    "start_time": "2021-12-28T13:33:32.840Z"
   },
   {
    "duration": 6,
    "start_time": "2021-12-28T13:33:34.921Z"
   },
   {
    "duration": 5,
    "start_time": "2021-12-28T13:33:40.398Z"
   },
   {
    "duration": 6,
    "start_time": "2021-12-28T13:33:44.731Z"
   },
   {
    "duration": 266,
    "start_time": "2021-12-28T13:34:17.076Z"
   },
   {
    "duration": 17,
    "start_time": "2021-12-28T13:34:32.837Z"
   },
   {
    "duration": 4,
    "start_time": "2021-12-28T13:34:48.678Z"
   },
   {
    "duration": 13,
    "start_time": "2021-12-28T13:34:51.870Z"
   },
   {
    "duration": 17,
    "start_time": "2021-12-28T13:34:52.770Z"
   },
   {
    "duration": 4,
    "start_time": "2021-12-28T13:35:04.329Z"
   },
   {
    "duration": 7,
    "start_time": "2021-12-28T13:35:19.957Z"
   },
   {
    "duration": 271,
    "start_time": "2021-12-28T13:35:39.832Z"
   },
   {
    "duration": 4,
    "start_time": "2021-12-28T13:35:46.639Z"
   },
   {
    "duration": 5,
    "start_time": "2021-12-28T13:36:28.496Z"
   },
   {
    "duration": 4,
    "start_time": "2021-12-28T13:36:35.617Z"
   },
   {
    "duration": 6,
    "start_time": "2021-12-28T13:37:05.555Z"
   },
   {
    "duration": 19,
    "start_time": "2021-12-28T13:37:06.221Z"
   },
   {
    "duration": 4,
    "start_time": "2021-12-28T13:37:06.568Z"
   },
   {
    "duration": 4,
    "start_time": "2021-12-28T13:38:05.575Z"
   },
   {
    "duration": 13,
    "start_time": "2021-12-28T13:38:05.841Z"
   },
   {
    "duration": 4,
    "start_time": "2021-12-28T13:38:26.137Z"
   },
   {
    "duration": 9,
    "start_time": "2021-12-28T13:38:26.580Z"
   },
   {
    "duration": 3,
    "start_time": "2021-12-28T13:38:30.952Z"
   },
   {
    "duration": 4,
    "start_time": "2021-12-28T13:38:44.328Z"
   },
   {
    "duration": 11,
    "start_time": "2021-12-28T13:38:44.586Z"
   },
   {
    "duration": 4,
    "start_time": "2021-12-28T13:38:45.231Z"
   },
   {
    "duration": 317,
    "start_time": "2021-12-28T13:39:02.682Z"
   },
   {
    "duration": 11,
    "start_time": "2021-12-28T13:39:25.542Z"
   },
   {
    "duration": 7,
    "start_time": "2021-12-28T13:39:37.289Z"
   },
   {
    "duration": 9,
    "start_time": "2021-12-28T13:40:02.343Z"
   },
   {
    "duration": 4,
    "start_time": "2021-12-28T13:40:02.697Z"
   },
   {
    "duration": 325,
    "start_time": "2021-12-28T13:40:07.430Z"
   },
   {
    "duration": 705,
    "start_time": "2021-12-28T13:40:12.694Z"
   },
   {
    "duration": 12,
    "start_time": "2021-12-28T13:40:16.010Z"
   },
   {
    "duration": 7,
    "start_time": "2021-12-28T13:40:16.406Z"
   },
   {
    "duration": 9,
    "start_time": "2021-12-28T13:40:20.916Z"
   },
   {
    "duration": 4,
    "start_time": "2021-12-28T13:40:23.748Z"
   },
   {
    "duration": 539,
    "start_time": "2021-12-28T13:40:24.730Z"
   },
   {
    "duration": 15,
    "start_time": "2021-12-28T13:40:26.284Z"
   },
   {
    "duration": 6,
    "start_time": "2021-12-28T13:40:26.993Z"
   },
   {
    "duration": 4,
    "start_time": "2021-12-28T13:41:02.401Z"
   },
   {
    "duration": 8,
    "start_time": "2021-12-28T13:41:02.671Z"
   },
   {
    "duration": 4,
    "start_time": "2021-12-28T13:41:03.112Z"
   },
   {
    "duration": 447,
    "start_time": "2021-12-28T13:41:04.004Z"
   },
   {
    "duration": 18,
    "start_time": "2021-12-28T13:41:04.454Z"
   },
   {
    "duration": 8,
    "start_time": "2021-12-28T13:41:04.961Z"
   },
   {
    "duration": 9,
    "start_time": "2021-12-28T13:41:11.105Z"
   },
   {
    "duration": 5,
    "start_time": "2021-12-28T13:41:11.333Z"
   },
   {
    "duration": 548,
    "start_time": "2021-12-28T13:41:11.581Z"
   },
   {
    "duration": 14,
    "start_time": "2021-12-28T13:41:12.261Z"
   },
   {
    "duration": 8,
    "start_time": "2021-12-28T13:41:12.731Z"
   },
   {
    "duration": 567,
    "start_time": "2021-12-28T13:41:41.760Z"
   },
   {
    "duration": 8,
    "start_time": "2021-12-28T13:41:52.728Z"
   },
   {
    "duration": 4,
    "start_time": "2021-12-28T13:41:53.256Z"
   },
   {
    "duration": 374,
    "start_time": "2021-12-28T13:41:53.707Z"
   },
   {
    "duration": 11,
    "start_time": "2021-12-28T13:41:54.083Z"
   },
   {
    "duration": 6,
    "start_time": "2021-12-28T13:41:55.762Z"
   },
   {
    "duration": 7,
    "start_time": "2021-12-28T13:45:55.529Z"
   },
   {
    "duration": 4,
    "start_time": "2021-12-28T13:45:55.839Z"
   },
   {
    "duration": 7,
    "start_time": "2021-12-28T13:45:59.510Z"
   },
   {
    "duration": 4593,
    "start_time": "2021-12-28T13:49:14.572Z"
   },
   {
    "duration": 4,
    "start_time": "2021-12-28T13:49:25.208Z"
   },
   {
    "duration": 4650,
    "start_time": "2021-12-28T13:50:52.771Z"
   },
   {
    "duration": 5,
    "start_time": "2021-12-28T13:50:57.423Z"
   },
   {
    "duration": 8,
    "start_time": "2021-12-28T13:51:12.744Z"
   },
   {
    "duration": 458,
    "start_time": "2021-12-28T13:51:25.480Z"
   },
   {
    "duration": 4,
    "start_time": "2021-12-28T13:51:28.904Z"
   },
   {
    "duration": 4786,
    "start_time": "2021-12-28T13:54:52.919Z"
   },
   {
    "duration": 4,
    "start_time": "2021-12-28T13:54:59.560Z"
   },
   {
    "duration": 4,
    "start_time": "2021-12-28T13:55:06.019Z"
   },
   {
    "duration": 8,
    "start_time": "2021-12-28T13:59:38.037Z"
   },
   {
    "duration": 3497,
    "start_time": "2021-12-28T13:59:56.930Z"
   },
   {
    "duration": 4,
    "start_time": "2021-12-28T14:00:00.976Z"
   },
   {
    "duration": 4,
    "start_time": "2021-12-28T14:00:04.633Z"
   },
   {
    "duration": 491,
    "start_time": "2021-12-28T14:00:27.581Z"
   },
   {
    "duration": 476,
    "start_time": "2021-12-28T14:23:14.089Z"
   },
   {
    "duration": 356,
    "start_time": "2021-12-28T14:23:37.262Z"
   },
   {
    "duration": 12,
    "start_time": "2021-12-28T14:23:46.560Z"
   },
   {
    "duration": 7,
    "start_time": "2021-12-28T14:24:01.526Z"
   },
   {
    "duration": 7,
    "start_time": "2021-12-28T14:24:12.667Z"
   },
   {
    "duration": 8,
    "start_time": "2021-12-28T14:24:33.305Z"
   },
   {
    "duration": 8,
    "start_time": "2021-12-28T14:27:04.600Z"
   },
   {
    "duration": 7,
    "start_time": "2021-12-28T14:27:33.051Z"
   },
   {
    "duration": 283,
    "start_time": "2021-12-28T14:27:33.952Z"
   },
   {
    "duration": 11,
    "start_time": "2021-12-28T14:27:34.724Z"
   },
   {
    "duration": 6,
    "start_time": "2021-12-28T14:27:35.023Z"
   },
   {
    "duration": 6,
    "start_time": "2021-12-28T14:27:35.808Z"
   },
   {
    "duration": 7,
    "start_time": "2021-12-28T14:27:37.568Z"
   },
   {
    "duration": 6,
    "start_time": "2021-12-28T14:27:41.919Z"
   },
   {
    "duration": 5,
    "start_time": "2021-12-28T14:35:56.859Z"
   },
   {
    "duration": 289,
    "start_time": "2021-12-28T14:39:10.962Z"
   },
   {
    "duration": 4,
    "start_time": "2021-12-28T14:39:23.647Z"
   },
   {
    "duration": 10,
    "start_time": "2021-12-28T14:39:58.715Z"
   },
   {
    "duration": 4,
    "start_time": "2021-12-28T14:40:13.054Z"
   },
   {
    "duration": 105,
    "start_time": "2021-12-28T14:40:51.183Z"
   },
   {
    "duration": 8,
    "start_time": "2021-12-28T14:45:19.797Z"
   },
   {
    "duration": 3,
    "start_time": "2021-12-28T14:46:08.626Z"
   },
   {
    "duration": 49,
    "start_time": "2021-12-28T14:46:19.926Z"
   },
   {
    "duration": 46,
    "start_time": "2021-12-28T14:46:26.699Z"
   },
   {
    "duration": 10,
    "start_time": "2021-12-28T14:46:38.350Z"
   },
   {
    "duration": 4,
    "start_time": "2021-12-28T14:46:41.377Z"
   },
   {
    "duration": 11,
    "start_time": "2021-12-28T14:47:09.318Z"
   },
   {
    "duration": 18,
    "start_time": "2021-12-28T14:47:31.725Z"
   },
   {
    "duration": 4,
    "start_time": "2021-12-28T14:48:15.957Z"
   },
   {
    "duration": 10,
    "start_time": "2021-12-28T14:48:22.523Z"
   },
   {
    "duration": 201,
    "start_time": "2021-12-28T14:48:50.381Z"
   },
   {
    "duration": 259,
    "start_time": "2021-12-28T14:50:12.829Z"
   },
   {
    "duration": 307,
    "start_time": "2021-12-28T14:50:38.182Z"
   },
   {
    "duration": 765,
    "start_time": "2021-12-28T14:50:54.019Z"
   },
   {
    "duration": 948,
    "start_time": "2021-12-28T14:51:08.362Z"
   },
   {
    "duration": 332,
    "start_time": "2021-12-28T14:51:37.665Z"
   },
   {
    "duration": 649,
    "start_time": "2021-12-28T14:51:57.385Z"
   },
   {
    "duration": 656,
    "start_time": "2021-12-28T14:52:18.960Z"
   },
   {
    "duration": 638,
    "start_time": "2021-12-28T14:52:32.637Z"
   },
   {
    "duration": 818,
    "start_time": "2021-12-28T14:53:18.482Z"
   },
   {
    "duration": 93,
    "start_time": "2021-12-28T14:55:07.257Z"
   },
   {
    "duration": 62,
    "start_time": "2021-12-28T14:58:55.413Z"
   },
   {
    "duration": 10,
    "start_time": "2021-12-28T15:00:18.461Z"
   },
   {
    "duration": 11,
    "start_time": "2021-12-28T15:00:30.269Z"
   },
   {
    "duration": 9,
    "start_time": "2021-12-28T15:00:30.683Z"
   },
   {
    "duration": 4,
    "start_time": "2021-12-28T15:00:33.317Z"
   },
   {
    "duration": 3,
    "start_time": "2021-12-28T15:00:39.639Z"
   },
   {
    "duration": 4,
    "start_time": "2021-12-28T15:00:56.425Z"
   },
   {
    "duration": 83,
    "start_time": "2021-12-28T15:01:14.082Z"
   },
   {
    "duration": 91,
    "start_time": "2021-12-28T15:01:26.173Z"
   },
   {
    "duration": 28,
    "start_time": "2021-12-28T15:01:31.147Z"
   },
   {
    "duration": 29,
    "start_time": "2021-12-28T15:02:03.936Z"
   },
   {
    "duration": 28,
    "start_time": "2021-12-28T15:02:06.675Z"
   },
   {
    "duration": 39,
    "start_time": "2021-12-28T15:02:42.952Z"
   },
   {
    "duration": 5,
    "start_time": "2021-12-28T15:03:00.531Z"
   },
   {
    "duration": 7,
    "start_time": "2021-12-28T15:03:34.222Z"
   },
   {
    "duration": 8,
    "start_time": "2021-12-28T15:03:41.812Z"
   },
   {
    "duration": 12,
    "start_time": "2021-12-28T15:03:51.635Z"
   },
   {
    "duration": 8,
    "start_time": "2021-12-28T15:03:53.068Z"
   },
   {
    "duration": 5,
    "start_time": "2021-12-28T15:04:10.197Z"
   },
   {
    "duration": 71,
    "start_time": "2021-12-28T15:05:26.576Z"
   },
   {
    "duration": 122,
    "start_time": "2021-12-28T15:05:33.516Z"
   },
   {
    "duration": 12,
    "start_time": "2021-12-28T15:14:58.928Z"
   },
   {
    "duration": 5,
    "start_time": "2021-12-28T15:15:01.303Z"
   },
   {
    "duration": 12,
    "start_time": "2021-12-28T15:15:07.583Z"
   },
   {
    "duration": 4,
    "start_time": "2021-12-28T15:15:08.342Z"
   },
   {
    "duration": 21,
    "start_time": "2021-12-28T15:21:26.332Z"
   },
   {
    "duration": 19,
    "start_time": "2021-12-28T15:21:37.151Z"
   },
   {
    "duration": 19,
    "start_time": "2021-12-28T15:21:40.250Z"
   },
   {
    "duration": 18,
    "start_time": "2021-12-28T15:21:42.974Z"
   },
   {
    "duration": 19,
    "start_time": "2021-12-28T15:21:50.277Z"
   },
   {
    "duration": 18,
    "start_time": "2021-12-28T15:21:53.024Z"
   },
   {
    "duration": 18,
    "start_time": "2021-12-28T15:22:03.892Z"
   },
   {
    "duration": 19,
    "start_time": "2021-12-28T15:22:09.195Z"
   },
   {
    "duration": 17,
    "start_time": "2021-12-28T15:22:14.851Z"
   },
   {
    "duration": 17,
    "start_time": "2021-12-28T15:22:19.218Z"
   },
   {
    "duration": 18,
    "start_time": "2021-12-28T15:22:24.453Z"
   },
   {
    "duration": 24,
    "start_time": "2021-12-28T15:22:26.637Z"
   },
   {
    "duration": 18,
    "start_time": "2021-12-28T15:22:28.650Z"
   },
   {
    "duration": 25,
    "start_time": "2021-12-28T15:22:30.377Z"
   },
   {
    "duration": 18,
    "start_time": "2021-12-28T15:22:32.403Z"
   },
   {
    "duration": 25,
    "start_time": "2021-12-28T15:22:34.078Z"
   },
   {
    "duration": 22,
    "start_time": "2021-12-28T15:22:36.703Z"
   },
   {
    "duration": 18,
    "start_time": "2021-12-28T15:22:38.597Z"
   },
   {
    "duration": 19,
    "start_time": "2021-12-28T15:22:40.474Z"
   },
   {
    "duration": 18,
    "start_time": "2021-12-28T15:22:42.996Z"
   },
   {
    "duration": 17,
    "start_time": "2021-12-28T15:22:45.526Z"
   },
   {
    "duration": 7,
    "start_time": "2021-12-28T15:23:07.269Z"
   },
   {
    "duration": 5,
    "start_time": "2021-12-28T15:25:03.880Z"
   },
   {
    "duration": 173,
    "start_time": "2021-12-28T15:25:16.139Z"
   },
   {
    "duration": 281,
    "start_time": "2021-12-28T15:25:45.043Z"
   },
   {
    "duration": 277,
    "start_time": "2021-12-28T15:25:59.315Z"
   },
   {
    "duration": 13,
    "start_time": "2021-12-28T15:26:26.069Z"
   },
   {
    "duration": 10,
    "start_time": "2021-12-28T15:26:38.863Z"
   },
   {
    "duration": 5,
    "start_time": "2021-12-28T15:26:41.445Z"
   },
   {
    "duration": 166,
    "start_time": "2021-12-28T15:26:42.466Z"
   },
   {
    "duration": 6,
    "start_time": "2021-12-28T15:28:13.868Z"
   },
   {
    "duration": 88,
    "start_time": "2021-12-28T15:34:06.446Z"
   },
   {
    "duration": 79627,
    "start_time": "2021-12-28T21:58:19.746Z"
   },
   {
    "duration": 650,
    "start_time": "2021-12-28T21:59:39.376Z"
   },
   {
    "duration": 4,
    "start_time": "2021-12-28T21:59:40.030Z"
   },
   {
    "duration": 48,
    "start_time": "2021-12-28T21:59:40.037Z"
   },
   {
    "duration": 11,
    "start_time": "2021-12-28T21:59:40.087Z"
   },
   {
    "duration": 30,
    "start_time": "2021-12-28T21:59:40.101Z"
   },
   {
    "duration": 19,
    "start_time": "2021-12-28T21:59:40.135Z"
   },
   {
    "duration": 4,
    "start_time": "2021-12-28T21:59:40.167Z"
   },
   {
    "duration": 8,
    "start_time": "2021-12-28T21:59:40.175Z"
   },
   {
    "duration": 8,
    "start_time": "2021-12-28T21:59:40.187Z"
   },
   {
    "duration": 10,
    "start_time": "2021-12-28T21:59:40.198Z"
   },
   {
    "duration": 21,
    "start_time": "2021-12-28T21:59:40.211Z"
   },
   {
    "duration": 37,
    "start_time": "2021-12-28T21:59:40.235Z"
   },
   {
    "duration": 11,
    "start_time": "2021-12-28T21:59:40.275Z"
   },
   {
    "duration": 309,
    "start_time": "2021-12-28T21:59:40.289Z"
   },
   {
    "duration": 298,
    "start_time": "2021-12-28T21:59:40.600Z"
   },
   {
    "duration": 6,
    "start_time": "2021-12-28T21:59:40.900Z"
   },
   {
    "duration": 61,
    "start_time": "2021-12-28T21:59:40.908Z"
   },
   {
    "duration": 23,
    "start_time": "2021-12-28T21:59:40.972Z"
   },
   {
    "duration": 14,
    "start_time": "2021-12-28T21:59:40.998Z"
   },
   {
    "duration": 57,
    "start_time": "2021-12-28T21:59:41.015Z"
   },
   {
    "duration": 20,
    "start_time": "2021-12-28T21:59:41.075Z"
   },
   {
    "duration": 20,
    "start_time": "2021-12-28T21:59:41.098Z"
   },
   {
    "duration": 10,
    "start_time": "2021-12-28T21:59:41.120Z"
   },
   {
    "duration": 8,
    "start_time": "2021-12-28T21:59:41.133Z"
   },
   {
    "duration": 12,
    "start_time": "2021-12-28T21:59:41.168Z"
   },
   {
    "duration": 386,
    "start_time": "2021-12-28T21:59:41.186Z"
   },
   {
    "duration": 6,
    "start_time": "2021-12-28T21:59:41.576Z"
   },
   {
    "duration": 8,
    "start_time": "2021-12-28T21:59:41.585Z"
   },
   {
    "duration": 408,
    "start_time": "2021-12-28T21:59:41.596Z"
   },
   {
    "duration": 20,
    "start_time": "2021-12-28T21:59:42.006Z"
   },
   {
    "duration": 542,
    "start_time": "2021-12-28T21:59:42.028Z"
   },
   {
    "duration": 7,
    "start_time": "2021-12-28T21:59:42.572Z"
   },
   {
    "duration": 8,
    "start_time": "2021-12-28T21:59:42.582Z"
   },
   {
    "duration": 846,
    "start_time": "2021-12-28T21:59:42.593Z"
   },
   {
    "duration": 581,
    "start_time": "2021-12-28T21:59:43.441Z"
   },
   {
    "duration": 8,
    "start_time": "2021-12-28T21:59:44.026Z"
   },
   {
    "duration": 32,
    "start_time": "2021-12-28T21:59:44.037Z"
   },
   {
    "duration": 344,
    "start_time": "2021-12-28T21:59:44.072Z"
   },
   {
    "duration": 350,
    "start_time": "2021-12-28T21:59:44.419Z"
   },
   {
    "duration": 350,
    "start_time": "2021-12-28T21:59:44.772Z"
   },
   {
    "duration": 780,
    "start_time": "2021-12-28T21:59:45.125Z"
   },
   {
    "duration": 8,
    "start_time": "2021-12-28T21:59:45.907Z"
   },
   {
    "duration": 8,
    "start_time": "2021-12-28T21:59:45.918Z"
   },
   {
    "duration": 5321,
    "start_time": "2021-12-28T21:59:45.928Z"
   },
   {
    "duration": 2401,
    "start_time": "2021-12-28T21:59:51.252Z"
   },
   {
    "duration": 27,
    "start_time": "2021-12-28T21:59:53.657Z"
   },
   {
    "duration": 16,
    "start_time": "2021-12-28T21:59:53.687Z"
   },
   {
    "duration": 21,
    "start_time": "2021-12-28T21:59:53.705Z"
   },
   {
    "duration": 40,
    "start_time": "2021-12-28T21:59:53.729Z"
   },
   {
    "duration": 24,
    "start_time": "2021-12-28T21:59:53.773Z"
   },
   {
    "duration": 1520,
    "start_time": "2021-12-28T21:59:53.800Z"
   },
   {
    "duration": 45,
    "start_time": "2021-12-28T21:59:55.322Z"
   },
   {
    "duration": 1483,
    "start_time": "2021-12-28T22:00:01.481Z"
   },
   {
    "duration": 47,
    "start_time": "2021-12-28T22:00:02.968Z"
   },
   {
    "duration": 1101,
    "start_time": "2021-12-29T09:04:50.179Z"
   },
   {
    "duration": 514,
    "start_time": "2021-12-29T09:04:51.282Z"
   },
   {
    "duration": 3,
    "start_time": "2021-12-29T09:04:51.798Z"
   },
   {
    "duration": 27,
    "start_time": "2021-12-29T09:04:53.570Z"
   },
   {
    "duration": 6,
    "start_time": "2021-12-29T09:04:54.027Z"
   },
   {
    "duration": 23,
    "start_time": "2021-12-29T09:04:54.843Z"
   },
   {
    "duration": 10,
    "start_time": "2021-12-29T09:04:56.398Z"
   },
   {
    "duration": 3,
    "start_time": "2021-12-29T09:05:00.358Z"
   },
   {
    "duration": 4,
    "start_time": "2021-12-29T09:05:00.848Z"
   },
   {
    "duration": 6,
    "start_time": "2021-12-29T09:05:01.417Z"
   },
   {
    "duration": 6,
    "start_time": "2021-12-29T09:05:03.233Z"
   },
   {
    "duration": 10,
    "start_time": "2021-12-29T09:05:04.233Z"
   },
   {
    "duration": 12,
    "start_time": "2021-12-29T09:05:04.696Z"
   },
   {
    "duration": 5,
    "start_time": "2021-12-29T09:05:05.602Z"
   },
   {
    "duration": 200,
    "start_time": "2021-12-29T09:05:06.156Z"
   },
   {
    "duration": 136,
    "start_time": "2021-12-29T09:05:08.243Z"
   },
   {
    "duration": 5,
    "start_time": "2021-12-29T09:05:09.247Z"
   },
   {
    "duration": 5,
    "start_time": "2021-12-29T09:05:09.796Z"
   },
   {
    "duration": 13,
    "start_time": "2021-12-29T09:05:10.446Z"
   },
   {
    "duration": 5,
    "start_time": "2021-12-29T09:05:12.259Z"
   },
   {
    "duration": 5,
    "start_time": "2021-12-29T09:05:12.966Z"
   },
   {
    "duration": 7,
    "start_time": "2021-12-29T09:05:14.634Z"
   },
   {
    "duration": 6,
    "start_time": "2021-12-29T09:05:15.247Z"
   },
   {
    "duration": 5,
    "start_time": "2021-12-29T09:05:16.784Z"
   },
   {
    "duration": 6,
    "start_time": "2021-12-29T09:05:17.230Z"
   },
   {
    "duration": 8,
    "start_time": "2021-12-29T09:05:17.739Z"
   },
   {
    "duration": 195,
    "start_time": "2021-12-29T09:05:20.663Z"
   },
   {
    "duration": 3,
    "start_time": "2021-12-29T09:05:20.860Z"
   },
   {
    "duration": 7,
    "start_time": "2021-12-29T09:05:20.865Z"
   },
   {
    "duration": 142,
    "start_time": "2021-12-29T09:05:25.627Z"
   },
   {
    "duration": 14,
    "start_time": "2021-12-29T09:05:27.288Z"
   },
   {
    "duration": 186,
    "start_time": "2021-12-29T09:05:28.663Z"
   },
   {
    "duration": 5,
    "start_time": "2021-12-29T09:05:30.646Z"
   },
   {
    "duration": 5,
    "start_time": "2021-12-29T09:05:31.884Z"
   },
   {
    "duration": 210,
    "start_time": "2021-12-29T09:05:33.432Z"
   },
   {
    "duration": 202,
    "start_time": "2021-12-29T09:05:34.571Z"
   },
   {
    "duration": 5,
    "start_time": "2021-12-29T09:05:35.506Z"
   },
   {
    "duration": 5,
    "start_time": "2021-12-29T09:05:37.740Z"
   },
   {
    "duration": 268,
    "start_time": "2021-12-29T09:05:38.355Z"
   },
   {
    "duration": 187,
    "start_time": "2021-12-29T09:05:40.161Z"
   },
   {
    "duration": 209,
    "start_time": "2021-12-29T09:05:42.107Z"
   },
   {
    "duration": 251,
    "start_time": "2021-12-29T09:05:43.836Z"
   },
   {
    "duration": 5,
    "start_time": "2021-12-29T09:05:45.471Z"
   },
   {
    "duration": 5,
    "start_time": "2021-12-29T09:05:46.242Z"
   },
   {
    "duration": 2047,
    "start_time": "2021-12-29T09:05:47.053Z"
   },
   {
    "duration": 923,
    "start_time": "2021-12-29T09:05:49.102Z"
   },
   {
    "duration": 16,
    "start_time": "2021-12-29T09:06:03.261Z"
   },
   {
    "duration": 341,
    "start_time": "2021-12-29T09:06:46.141Z"
   },
   {
    "duration": 189,
    "start_time": "2021-12-29T09:06:51.444Z"
   },
   {
    "duration": 84165,
    "start_time": "2021-12-29T09:07:01.296Z"
   },
   {
    "duration": 6,
    "start_time": "2021-12-29T09:08:25.463Z"
   },
   {
    "duration": 5,
    "start_time": "2021-12-29T09:08:26.622Z"
   },
   {
    "duration": 7,
    "start_time": "2021-12-29T09:08:27.467Z"
   },
   {
    "duration": 6,
    "start_time": "2021-12-29T09:08:36.114Z"
   },
   {
    "duration": 13,
    "start_time": "2021-12-29T09:08:37.029Z"
   },
   {
    "duration": 9,
    "start_time": "2021-12-29T09:08:37.800Z"
   },
   {
    "duration": 6,
    "start_time": "2021-12-29T09:08:41.022Z"
   },
   {
    "duration": 5,
    "start_time": "2021-12-29T09:08:42.707Z"
   },
   {
    "duration": 9,
    "start_time": "2021-12-29T09:08:44.679Z"
   },
   {
    "duration": 19,
    "start_time": "2021-12-29T09:08:45.708Z"
   },
   {
    "duration": 10,
    "start_time": "2021-12-29T09:08:47.702Z"
   },
   {
    "duration": 56,
    "start_time": "2021-12-29T09:10:12.900Z"
   },
   {
    "duration": 5,
    "start_time": "2021-12-29T09:10:21.149Z"
   },
   {
    "duration": 6,
    "start_time": "2021-12-29T09:10:22.007Z"
   },
   {
    "duration": 6,
    "start_time": "2021-12-29T09:10:24.398Z"
   },
   {
    "duration": 4,
    "start_time": "2021-12-29T09:10:26.212Z"
   },
   {
    "duration": 2,
    "start_time": "2021-12-29T09:10:26.938Z"
   },
   {
    "duration": 9,
    "start_time": "2021-12-29T09:10:27.477Z"
   },
   {
    "duration": 2,
    "start_time": "2021-12-29T09:10:27.934Z"
   },
   {
    "duration": 2,
    "start_time": "2021-12-29T09:10:28.702Z"
   },
   {
    "duration": 7,
    "start_time": "2021-12-29T09:10:30.567Z"
   },
   {
    "duration": 14,
    "start_time": "2021-12-29T09:10:33.221Z"
   },
   {
    "duration": 203,
    "start_time": "2021-12-29T09:11:17.040Z"
   },
   {
    "duration": 185,
    "start_time": "2021-12-29T09:11:41.794Z"
   },
   {
    "duration": 10,
    "start_time": "2021-12-29T09:13:15.526Z"
   },
   {
    "duration": 9,
    "start_time": "2021-12-29T09:13:16.024Z"
   },
   {
    "duration": 11,
    "start_time": "2021-12-29T09:13:16.891Z"
   },
   {
    "duration": 10,
    "start_time": "2021-12-29T09:13:17.428Z"
   },
   {
    "duration": 3213,
    "start_time": "2021-12-29T09:13:21.112Z"
   },
   {
    "duration": 6,
    "start_time": "2021-12-29T09:13:48.611Z"
   },
   {
    "duration": 14,
    "start_time": "2021-12-29T09:13:50.475Z"
   },
   {
    "duration": 6,
    "start_time": "2021-12-29T09:13:51.539Z"
   },
   {
    "duration": 4,
    "start_time": "2021-12-29T09:13:52.828Z"
   },
   {
    "duration": 9,
    "start_time": "2021-12-29T09:13:54.208Z"
   },
   {
    "duration": 6,
    "start_time": "2021-12-29T09:13:55.158Z"
   },
   {
    "duration": 14,
    "start_time": "2021-12-29T09:13:55.829Z"
   },
   {
    "duration": 2,
    "start_time": "2021-12-29T09:14:16.797Z"
   },
   {
    "duration": 3,
    "start_time": "2021-12-29T09:14:17.419Z"
   },
   {
    "duration": 3,
    "start_time": "2021-12-29T09:14:18.002Z"
   },
   {
    "duration": 3,
    "start_time": "2021-12-29T09:14:21.386Z"
   },
   {
    "duration": 3,
    "start_time": "2021-12-29T09:14:28.916Z"
   },
   {
    "duration": 64002,
    "start_time": "2021-12-29T09:14:31.429Z"
   },
   {
    "duration": 4,
    "start_time": "2021-12-29T09:15:35.433Z"
   },
   {
    "duration": 4,
    "start_time": "2021-12-29T09:15:55.526Z"
   },
   {
    "duration": 14,
    "start_time": "2021-12-29T09:15:57.395Z"
   },
   {
    "duration": 10,
    "start_time": "2021-12-29T09:15:58.069Z"
   },
   {
    "duration": 8,
    "start_time": "2021-12-29T09:16:02.656Z"
   },
   {
    "duration": 8,
    "start_time": "2021-12-29T09:16:04.367Z"
   },
   {
    "duration": 8,
    "start_time": "2021-12-29T09:16:06.651Z"
   },
   {
    "duration": 8,
    "start_time": "2021-12-29T09:16:09.755Z"
   },
   {
    "duration": 7,
    "start_time": "2021-12-29T09:16:10.395Z"
   },
   {
    "duration": 6,
    "start_time": "2021-12-29T09:16:11.388Z"
   },
   {
    "duration": 6,
    "start_time": "2021-12-29T09:16:13.772Z"
   },
   {
    "duration": 6,
    "start_time": "2021-12-29T09:16:14.432Z"
   },
   {
    "duration": 3,
    "start_time": "2021-12-29T09:16:17.597Z"
   },
   {
    "duration": 8,
    "start_time": "2021-12-29T09:16:21.222Z"
   },
   {
    "duration": 7,
    "start_time": "2021-12-29T09:16:22.106Z"
   },
   {
    "duration": 5,
    "start_time": "2021-12-29T09:16:22.757Z"
   },
   {
    "duration": 3,
    "start_time": "2021-12-29T09:16:23.402Z"
   },
   {
    "duration": 5,
    "start_time": "2021-12-29T09:16:26.143Z"
   },
   {
    "duration": 5,
    "start_time": "2021-12-29T09:16:32.360Z"
   },
   {
    "duration": 179,
    "start_time": "2021-12-29T09:16:33.109Z"
   },
   {
    "duration": 3,
    "start_time": "2021-12-29T09:19:41.630Z"
   },
   {
    "duration": 3,
    "start_time": "2021-12-29T09:19:42.089Z"
   },
   {
    "duration": 3,
    "start_time": "2021-12-29T09:19:44.568Z"
   },
   {
    "duration": 350039,
    "start_time": "2021-12-29T09:19:45.394Z"
   },
   {
    "duration": 3,
    "start_time": "2021-12-29T09:25:35.435Z"
   },
   {
    "duration": 8,
    "start_time": "2021-12-29T09:25:35.440Z"
   },
   {
    "duration": 11,
    "start_time": "2021-12-29T09:25:35.450Z"
   },
   {
    "duration": 5,
    "start_time": "2021-12-29T09:25:35.463Z"
   },
   {
    "duration": 22,
    "start_time": "2021-12-29T09:25:35.470Z"
   },
   {
    "duration": 5,
    "start_time": "2021-12-29T09:25:35.494Z"
   },
   {
    "duration": 6,
    "start_time": "2021-12-29T09:25:35.501Z"
   },
   {
    "duration": 6,
    "start_time": "2021-12-29T09:39:02.431Z"
   },
   {
    "duration": 3,
    "start_time": "2021-12-29T09:39:04.192Z"
   },
   {
    "duration": 301,
    "start_time": "2021-12-29T09:39:05.195Z"
   },
   {
    "duration": 23,
    "start_time": "2021-12-29T09:39:07.585Z"
   },
   {
    "duration": 7,
    "start_time": "2021-12-29T09:39:09.724Z"
   },
   {
    "duration": 7,
    "start_time": "2021-12-29T09:39:11.840Z"
   },
   {
    "duration": 10,
    "start_time": "2021-12-29T09:39:12.610Z"
   },
   {
    "duration": 7,
    "start_time": "2021-12-29T09:39:13.172Z"
   },
   {
    "duration": 7,
    "start_time": "2021-12-29T09:39:14.076Z"
   },
   {
    "duration": 6,
    "start_time": "2021-12-29T09:39:16.025Z"
   },
   {
    "duration": 8,
    "start_time": "2021-12-29T09:39:16.904Z"
   },
   {
    "duration": 3,
    "start_time": "2021-12-29T09:39:26.461Z"
   },
   {
    "duration": 5,
    "start_time": "2021-12-29T09:39:59.164Z"
   },
   {
    "duration": 7,
    "start_time": "2021-12-29T09:40:01.030Z"
   },
   {
    "duration": 4,
    "start_time": "2021-12-29T09:40:01.568Z"
   },
   {
    "duration": 5,
    "start_time": "2021-12-29T09:40:03.460Z"
   },
   {
    "duration": 3332,
    "start_time": "2021-12-29T09:40:04.121Z"
   },
   {
    "duration": 4,
    "start_time": "2021-12-29T09:40:09.947Z"
   },
   {
    "duration": 4,
    "start_time": "2021-12-29T09:40:11.364Z"
   },
   {
    "duration": 7,
    "start_time": "2021-12-29T09:40:13.439Z"
   },
   {
    "duration": 279,
    "start_time": "2021-12-29T09:40:14.025Z"
   },
   {
    "duration": 10,
    "start_time": "2021-12-29T09:40:15.216Z"
   },
   {
    "duration": 5,
    "start_time": "2021-12-29T09:40:15.887Z"
   },
   {
    "duration": 6,
    "start_time": "2021-12-29T09:40:16.997Z"
   },
   {
    "duration": 6,
    "start_time": "2021-12-29T09:40:18.277Z"
   },
   {
    "duration": 6,
    "start_time": "2021-12-29T09:40:19.627Z"
   },
   {
    "duration": 5,
    "start_time": "2021-12-29T09:40:20.297Z"
   },
   {
    "duration": 4,
    "start_time": "2021-12-29T09:40:22.482Z"
   },
   {
    "duration": 3,
    "start_time": "2021-12-29T09:40:23.600Z"
   },
   {
    "duration": 6,
    "start_time": "2021-12-29T09:40:25.615Z"
   },
   {
    "duration": 4,
    "start_time": "2021-12-29T09:40:30.997Z"
   },
   {
    "duration": 48,
    "start_time": "2021-12-29T09:40:31.425Z"
   },
   {
    "duration": 11,
    "start_time": "2021-12-29T09:40:31.796Z"
   },
   {
    "duration": 4,
    "start_time": "2021-12-29T09:40:32.150Z"
   },
   {
    "duration": 12,
    "start_time": "2021-12-29T09:40:32.828Z"
   },
   {
    "duration": 195,
    "start_time": "2021-12-29T09:40:34.158Z"
   },
   {
    "duration": 967,
    "start_time": "2021-12-29T09:40:37.159Z"
   },
   {
    "duration": 575,
    "start_time": "2021-12-29T09:40:41.273Z"
   },
   {
    "duration": 76,
    "start_time": "2021-12-29T09:41:08.538Z"
   },
   {
    "duration": 18,
    "start_time": "2021-12-29T09:41:18.427Z"
   },
   {
    "duration": 5,
    "start_time": "2021-12-29T09:41:20.240Z"
   },
   {
    "duration": 60,
    "start_time": "2021-12-29T09:41:55.687Z"
   },
   {
    "duration": 180,
    "start_time": "2021-12-29T09:41:58.855Z"
   },
   {
    "duration": 17,
    "start_time": "2021-12-29T09:42:01.559Z"
   },
   {
    "duration": 7,
    "start_time": "2021-12-29T09:42:05.811Z"
   },
   {
    "duration": 12,
    "start_time": "2021-12-29T09:42:17.835Z"
   },
   {
    "duration": 5,
    "start_time": "2021-12-29T09:42:19.050Z"
   },
   {
    "duration": 178,
    "start_time": "2021-12-29T09:42:20.333Z"
   },
   {
    "duration": 5,
    "start_time": "2021-12-29T09:42:22.569Z"
   },
   {
    "duration": 7,
    "start_time": "2021-12-29T09:42:43.415Z"
   },
   {
    "duration": 4,
    "start_time": "2021-12-29T09:43:24.005Z"
   },
   {
    "duration": 5,
    "start_time": "2021-12-29T09:43:29.786Z"
   },
   {
    "duration": 4,
    "start_time": "2021-12-29T09:43:44.445Z"
   },
   {
    "duration": 217,
    "start_time": "2021-12-29T09:44:16.061Z"
   },
   {
    "duration": 13,
    "start_time": "2021-12-29T09:44:28.123Z"
   },
   {
    "duration": 11,
    "start_time": "2021-12-29T09:44:33.646Z"
   },
   {
    "duration": 6,
    "start_time": "2021-12-29T09:44:47.285Z"
   },
   {
    "duration": 446,
    "start_time": "2021-12-29T09:45:08.138Z"
   },
   {
    "duration": 213,
    "start_time": "2021-12-29T09:45:49.663Z"
   },
   {
    "duration": 545,
    "start_time": "2021-12-29T09:46:01.344Z"
   },
   {
    "duration": 8,
    "start_time": "2021-12-29T09:49:34.968Z"
   },
   {
    "duration": 881,
    "start_time": "2021-12-29T12:08:38.114Z"
   },
   {
    "duration": 476,
    "start_time": "2021-12-29T12:08:45.037Z"
   },
   {
    "duration": 35301,
    "start_time": "2021-12-29T12:08:48.957Z"
   },
   {
    "duration": 657,
    "start_time": "2021-12-29T12:09:24.261Z"
   },
   {
    "duration": 4,
    "start_time": "2021-12-29T12:09:24.923Z"
   },
   {
    "duration": 50,
    "start_time": "2021-12-29T12:09:24.931Z"
   },
   {
    "duration": 10,
    "start_time": "2021-12-29T12:09:24.984Z"
   },
   {
    "duration": 43,
    "start_time": "2021-12-29T12:09:24.997Z"
   },
   {
    "duration": 19,
    "start_time": "2021-12-29T12:09:25.043Z"
   },
   {
    "duration": 5,
    "start_time": "2021-12-29T12:09:25.068Z"
   },
   {
    "duration": 9,
    "start_time": "2021-12-29T12:09:25.076Z"
   },
   {
    "duration": 7,
    "start_time": "2021-12-29T12:09:25.088Z"
   },
   {
    "duration": 12,
    "start_time": "2021-12-29T12:09:25.098Z"
   },
   {
    "duration": 16,
    "start_time": "2021-12-29T12:09:25.112Z"
   },
   {
    "duration": 18,
    "start_time": "2021-12-29T12:09:25.131Z"
   },
   {
    "duration": 10,
    "start_time": "2021-12-29T12:09:25.151Z"
   },
   {
    "duration": 321,
    "start_time": "2021-12-29T12:09:25.163Z"
   },
   {
    "duration": 266,
    "start_time": "2021-12-29T12:09:25.487Z"
   },
   {
    "duration": 6,
    "start_time": "2021-12-29T12:09:25.756Z"
   },
   {
    "duration": 68,
    "start_time": "2021-12-29T12:09:25.765Z"
   },
   {
    "duration": 29,
    "start_time": "2021-12-29T12:09:25.836Z"
   },
   {
    "duration": 17,
    "start_time": "2021-12-29T12:09:25.868Z"
   },
   {
    "duration": 7,
    "start_time": "2021-12-29T12:09:25.924Z"
   },
   {
    "duration": 16,
    "start_time": "2021-12-29T12:09:25.934Z"
   },
   {
    "duration": 76,
    "start_time": "2021-12-29T12:09:25.955Z"
   },
   {
    "duration": 7,
    "start_time": "2021-12-29T12:09:26.035Z"
   },
   {
    "duration": 32,
    "start_time": "2021-12-29T12:09:26.044Z"
   },
   {
    "duration": 50,
    "start_time": "2021-12-29T12:09:26.078Z"
   },
   {
    "duration": 451,
    "start_time": "2021-12-29T12:09:26.131Z"
   },
   {
    "duration": 5,
    "start_time": "2021-12-29T12:09:26.585Z"
   },
   {
    "duration": 6,
    "start_time": "2021-12-29T12:09:26.593Z"
   },
   {
    "duration": 321,
    "start_time": "2021-12-29T12:09:26.602Z"
   },
   {
    "duration": 34,
    "start_time": "2021-12-29T12:09:26.927Z"
   },
   {
    "duration": 628,
    "start_time": "2021-12-29T12:09:26.965Z"
   },
   {
    "duration": 9,
    "start_time": "2021-12-29T12:09:27.596Z"
   },
   {
    "duration": 15,
    "start_time": "2021-12-29T12:09:27.608Z"
   },
   {
    "duration": 532,
    "start_time": "2021-12-29T12:09:27.627Z"
   },
   {
    "duration": 802,
    "start_time": "2021-12-29T12:09:28.163Z"
   },
   {
    "duration": 60,
    "start_time": "2021-12-29T12:09:28.968Z"
   },
   {
    "duration": 8,
    "start_time": "2021-12-29T12:09:29.032Z"
   },
   {
    "duration": 328,
    "start_time": "2021-12-29T12:09:29.042Z"
   },
   {
    "duration": 462,
    "start_time": "2021-12-29T12:09:29.372Z"
   },
   {
    "duration": 607,
    "start_time": "2021-12-29T12:09:29.837Z"
   },
   {
    "duration": 1091,
    "start_time": "2021-12-29T12:09:30.447Z"
   },
   {
    "duration": 6,
    "start_time": "2021-12-29T12:09:31.540Z"
   },
   {
    "duration": 11,
    "start_time": "2021-12-29T12:09:31.549Z"
   },
   {
    "duration": 3686,
    "start_time": "2021-12-29T12:09:31.562Z"
   },
   {
    "duration": 2611,
    "start_time": "2021-12-29T12:09:35.251Z"
   },
   {
    "duration": 25,
    "start_time": "2021-12-29T12:09:37.864Z"
   },
   {
    "duration": 11,
    "start_time": "2021-12-29T12:09:37.893Z"
   },
   {
    "duration": 15,
    "start_time": "2021-12-29T12:09:37.906Z"
   },
   {
    "duration": 13,
    "start_time": "2021-12-29T12:09:37.924Z"
   },
   {
    "duration": 23,
    "start_time": "2021-12-29T12:09:37.940Z"
   },
   {
    "duration": 19,
    "start_time": "2021-12-29T12:09:37.966Z"
   },
   {
    "duration": 8,
    "start_time": "2021-12-29T12:09:37.988Z"
   },
   {
    "duration": 5,
    "start_time": "2021-12-29T12:09:38.023Z"
   },
   {
    "duration": 13,
    "start_time": "2021-12-29T12:09:38.030Z"
   },
   {
    "duration": 32,
    "start_time": "2021-12-29T12:09:38.046Z"
   },
   {
    "duration": -533,
    "start_time": "2021-12-29T13:07:01.715Z"
   },
   {
    "duration": -536,
    "start_time": "2021-12-29T13:07:01.719Z"
   },
   {
    "duration": -539,
    "start_time": "2021-12-29T13:07:01.723Z"
   },
   {
    "duration": -540,
    "start_time": "2021-12-29T13:07:01.726Z"
   },
   {
    "duration": -542,
    "start_time": "2021-12-29T13:07:01.729Z"
   },
   {
    "duration": -711,
    "start_time": "2021-12-29T13:07:01.899Z"
   },
   {
    "duration": -712,
    "start_time": "2021-12-29T13:07:01.901Z"
   },
   {
    "duration": -713,
    "start_time": "2021-12-29T13:07:01.903Z"
   },
   {
    "duration": -713,
    "start_time": "2021-12-29T13:07:01.905Z"
   },
   {
    "duration": -713,
    "start_time": "2021-12-29T13:07:01.907Z"
   },
   {
    "duration": -714,
    "start_time": "2021-12-29T13:07:01.909Z"
   },
   {
    "duration": -715,
    "start_time": "2021-12-29T13:07:01.911Z"
   },
   {
    "duration": -716,
    "start_time": "2021-12-29T13:07:01.913Z"
   },
   {
    "duration": -717,
    "start_time": "2021-12-29T13:07:01.915Z"
   },
   {
    "duration": -717,
    "start_time": "2021-12-29T13:07:01.917Z"
   },
   {
    "duration": -716,
    "start_time": "2021-12-29T13:07:01.918Z"
   },
   {
    "duration": -717,
    "start_time": "2021-12-29T13:07:01.920Z"
   },
   {
    "duration": -717,
    "start_time": "2021-12-29T13:07:01.922Z"
   },
   {
    "duration": -718,
    "start_time": "2021-12-29T13:07:01.924Z"
   },
   {
    "duration": -657,
    "start_time": "2021-12-29T13:07:01.926Z"
   },
   {
    "duration": -712,
    "start_time": "2021-12-29T13:07:01.983Z"
   },
   {
    "duration": -715,
    "start_time": "2021-12-29T13:07:01.989Z"
   },
   {
    "duration": -716,
    "start_time": "2021-12-29T13:07:01.991Z"
   },
   {
    "duration": -715,
    "start_time": "2021-12-29T13:07:01.993Z"
   },
   {
    "duration": -716,
    "start_time": "2021-12-29T13:07:01.995Z"
   },
   {
    "duration": -717,
    "start_time": "2021-12-29T13:07:01.998Z"
   },
   {
    "duration": -716,
    "start_time": "2021-12-29T13:07:02.000Z"
   },
   {
    "duration": -714,
    "start_time": "2021-12-29T13:07:02.002Z"
   },
   {
    "duration": -710,
    "start_time": "2021-12-29T13:07:02.004Z"
   },
   {
    "duration": -711,
    "start_time": "2021-12-29T13:07:02.006Z"
   },
   {
    "duration": -712,
    "start_time": "2021-12-29T13:07:02.008Z"
   },
   {
    "duration": -712,
    "start_time": "2021-12-29T13:07:02.010Z"
   },
   {
    "duration": -713,
    "start_time": "2021-12-29T13:07:02.012Z"
   },
   {
    "duration": -714,
    "start_time": "2021-12-29T13:07:02.014Z"
   },
   {
    "duration": -850,
    "start_time": "2021-12-29T13:07:02.152Z"
   },
   {
    "duration": -850,
    "start_time": "2021-12-29T13:07:02.154Z"
   },
   {
    "duration": -850,
    "start_time": "2021-12-29T13:07:02.156Z"
   },
   {
    "duration": -849,
    "start_time": "2021-12-29T13:07:02.157Z"
   },
   {
    "duration": -850,
    "start_time": "2021-12-29T13:07:02.159Z"
   },
   {
    "duration": -790,
    "start_time": "2021-12-29T13:07:02.161Z"
   },
   {
    "duration": -788,
    "start_time": "2021-12-29T13:07:02.162Z"
   },
   {
    "duration": -788,
    "start_time": "2021-12-29T13:07:02.164Z"
   },
   {
    "duration": -788,
    "start_time": "2021-12-29T13:07:02.166Z"
   },
   {
    "duration": -788,
    "start_time": "2021-12-29T13:07:02.168Z"
   },
   {
    "duration": -787,
    "start_time": "2021-12-29T13:07:02.169Z"
   },
   {
    "duration": -788,
    "start_time": "2021-12-29T13:07:02.171Z"
   },
   {
    "duration": -787,
    "start_time": "2021-12-29T13:07:02.172Z"
   },
   {
    "duration": -788,
    "start_time": "2021-12-29T13:07:02.174Z"
   },
   {
    "duration": -910,
    "start_time": "2021-12-29T13:07:02.298Z"
   },
   {
    "duration": -912,
    "start_time": "2021-12-29T13:07:02.301Z"
   },
   {
    "duration": -911,
    "start_time": "2021-12-29T13:07:02.302Z"
   },
   {
    "duration": -911,
    "start_time": "2021-12-29T13:07:02.304Z"
   },
   {
    "duration": -911,
    "start_time": "2021-12-29T13:07:02.306Z"
   },
   {
    "duration": -911,
    "start_time": "2021-12-29T13:07:02.308Z"
   },
   {
    "duration": -911,
    "start_time": "2021-12-29T13:07:02.309Z"
   },
   {
    "duration": -911,
    "start_time": "2021-12-29T13:07:02.311Z"
   },
   {
    "duration": -912,
    "start_time": "2021-12-29T13:07:02.313Z"
   },
   {
    "duration": 25773,
    "start_time": "2021-12-29T13:07:12.827Z"
   },
   {
    "duration": 629,
    "start_time": "2021-12-29T13:07:38.603Z"
   },
   {
    "duration": 3,
    "start_time": "2021-12-29T13:07:39.235Z"
   },
   {
    "duration": 41,
    "start_time": "2021-12-29T13:07:39.241Z"
   },
   {
    "duration": 7,
    "start_time": "2021-12-29T13:07:39.285Z"
   },
   {
    "duration": 28,
    "start_time": "2021-12-29T13:07:39.294Z"
   },
   {
    "duration": 12,
    "start_time": "2021-12-29T13:07:39.324Z"
   },
   {
    "duration": 29,
    "start_time": "2021-12-29T13:07:39.340Z"
   },
   {
    "duration": 5,
    "start_time": "2021-12-29T13:07:39.372Z"
   },
   {
    "duration": 7,
    "start_time": "2021-12-29T13:07:39.379Z"
   },
   {
    "duration": 7,
    "start_time": "2021-12-29T13:07:39.389Z"
   },
   {
    "duration": 20,
    "start_time": "2021-12-29T13:07:39.399Z"
   },
   {
    "duration": 55,
    "start_time": "2021-12-29T13:07:39.422Z"
   },
   {
    "duration": 9,
    "start_time": "2021-12-29T13:07:39.480Z"
   },
   {
    "duration": 337,
    "start_time": "2021-12-29T13:07:39.492Z"
   },
   {
    "duration": 244,
    "start_time": "2021-12-29T13:07:39.832Z"
   },
   {
    "duration": 7,
    "start_time": "2021-12-29T13:07:40.079Z"
   },
   {
    "duration": 10,
    "start_time": "2021-12-29T13:07:40.088Z"
   },
   {
    "duration": 20,
    "start_time": "2021-12-29T13:07:40.101Z"
   },
   {
    "duration": 44,
    "start_time": "2021-12-29T13:07:40.125Z"
   },
   {
    "duration": 7,
    "start_time": "2021-12-29T13:07:40.173Z"
   },
   {
    "duration": 11,
    "start_time": "2021-12-29T13:07:40.184Z"
   },
   {
    "duration": 10,
    "start_time": "2021-12-29T13:07:40.203Z"
   },
   {
    "duration": 7,
    "start_time": "2021-12-29T13:07:40.268Z"
   },
   {
    "duration": 10,
    "start_time": "2021-12-29T13:07:40.277Z"
   },
   {
    "duration": 9,
    "start_time": "2021-12-29T13:07:40.290Z"
   },
   {
    "duration": 355,
    "start_time": "2021-12-29T13:07:40.301Z"
   },
   {
    "duration": 11,
    "start_time": "2021-12-29T13:07:40.658Z"
   },
   {
    "duration": 13,
    "start_time": "2021-12-29T13:07:40.671Z"
   },
   {
    "duration": 251,
    "start_time": "2021-12-29T13:07:40.687Z"
   },
   {
    "duration": 31,
    "start_time": "2021-12-29T13:07:40.941Z"
   },
   {
    "duration": 312,
    "start_time": "2021-12-29T13:07:40.975Z"
   },
   {
    "duration": 6,
    "start_time": "2021-12-29T13:07:41.289Z"
   },
   {
    "duration": 10,
    "start_time": "2021-12-29T13:07:41.297Z"
   },
   {
    "duration": 439,
    "start_time": "2021-12-29T13:07:41.309Z"
   },
   {
    "duration": 328,
    "start_time": "2021-12-29T13:07:41.750Z"
   },
   {
    "duration": 6,
    "start_time": "2021-12-29T13:07:42.081Z"
   },
   {
    "duration": 10,
    "start_time": "2021-12-29T13:07:42.089Z"
   },
   {
    "duration": 342,
    "start_time": "2021-12-29T13:07:42.102Z"
   },
   {
    "duration": 310,
    "start_time": "2021-12-29T13:07:42.446Z"
   },
   {
    "duration": 346,
    "start_time": "2021-12-29T13:07:42.759Z"
   },
   {
    "duration": 522,
    "start_time": "2021-12-29T13:07:43.107Z"
   },
   {
    "duration": 5,
    "start_time": "2021-12-29T13:07:43.632Z"
   },
   {
    "duration": 7,
    "start_time": "2021-12-29T13:07:43.640Z"
   },
   {
    "duration": 3763,
    "start_time": "2021-12-29T13:07:43.667Z"
   },
   {
    "duration": 1737,
    "start_time": "2021-12-29T13:07:47.433Z"
   },
   {
    "duration": 25,
    "start_time": "2021-12-29T13:07:49.174Z"
   },
   {
    "duration": 18,
    "start_time": "2021-12-29T13:07:49.202Z"
   },
   {
    "duration": 35,
    "start_time": "2021-12-29T13:07:49.222Z"
   },
   {
    "duration": 13,
    "start_time": "2021-12-29T13:07:49.259Z"
   },
   {
    "duration": 24,
    "start_time": "2021-12-29T13:07:49.274Z"
   },
   {
    "duration": 45,
    "start_time": "2021-12-29T13:07:49.301Z"
   },
   {
    "duration": 17,
    "start_time": "2021-12-29T13:07:49.349Z"
   },
   {
    "duration": 11,
    "start_time": "2021-12-29T13:07:49.368Z"
   },
   {
    "duration": 13,
    "start_time": "2021-12-29T13:07:49.381Z"
   },
   {
    "duration": 14,
    "start_time": "2021-12-29T13:07:49.397Z"
   },
   {
    "duration": 18,
    "start_time": "2021-12-29T13:07:49.413Z"
   },
   {
    "duration": 61,
    "start_time": "2021-12-29T13:07:49.433Z"
   },
   {
    "duration": 31,
    "start_time": "2021-12-29T13:08:31.281Z"
   },
   {
    "duration": 27,
    "start_time": "2021-12-29T13:09:15.111Z"
   },
   {
    "duration": 32,
    "start_time": "2021-12-29T13:09:29.199Z"
   }
  ],
  "kernelspec": {
   "display_name": "Python 3 (ipykernel)",
   "language": "python",
   "name": "python3"
  },
  "language_info": {
   "codemirror_mode": {
    "name": "ipython",
    "version": 3
   },
   "file_extension": ".py",
   "mimetype": "text/x-python",
   "name": "python",
   "nbconvert_exporter": "python",
   "pygments_lexer": "ipython3",
   "version": "3.9.7"
  },
  "toc": {
   "base_numbering": 1,
   "nav_menu": {},
   "number_sections": true,
   "sideBar": true,
   "skip_h1_title": true,
   "title_cell": "Содержание",
   "title_sidebar": "Contents",
   "toc_cell": true,
   "toc_position": {},
   "toc_section_display": true,
   "toc_window_display": true
  }
 },
 "nbformat": 4,
 "nbformat_minor": 4
}
